{
 "cells": [
  {
   "cell_type": "code",
   "execution_count": 2,
   "metadata": {},
   "outputs": [],
   "source": [
    "from sklearn.feature_extraction.text import TfidfVectorizer\n",
    "from sklearn.metrics.pairwise import cosine_similarity\n",
    "import pandas as pd\n",
    "import json"
   ]
  },
  {
   "cell_type": "code",
   "execution_count": 3,
   "metadata": {
    "scrolled": true
   },
   "outputs": [],
   "source": [
    "data = pd.read_csv(\"capstone_qq.csv\")\n",
    "data = data.iloc[1:, :]\n",
    "# data.head(1)"
   ]
  },
  {
   "cell_type": "code",
   "execution_count": 4,
   "metadata": {},
   "outputs": [],
   "source": [
    "questions_ids = list(data.questions_id.unique())\n",
    "# len(questions_ids)\n",
    "questions_df = data[data.questions_id.isin(questions_ids)].dropna()\n",
    "questions = list(questions_df.questions_body_clean)"
   ]
  },
  {
   "cell_type": "code",
   "execution_count": 5,
   "metadata": {},
   "outputs": [
    {
     "data": {
      "text/plain": [
       "<79059x5000 sparse matrix of type '<class 'numpy.float64'>'\n",
       "\twith 1709781 stored elements in Compressed Sparse Row format>"
      ]
     },
     "execution_count": 5,
     "metadata": {},
     "output_type": "execute_result"
    }
   ],
   "source": [
    "vec = TfidfVectorizer(max_features=5000)\n",
    "vec.fit_transform(questions)"
   ]
  },
  {
   "cell_type": "code",
   "execution_count": 6,
   "metadata": {},
   "outputs": [],
   "source": [
    "vec_matrix = vec.transform(questions).todense()"
   ]
  },
  {
   "cell_type": "code",
   "execution_count": 7,
   "metadata": {},
   "outputs": [],
   "source": [
    "def find_answers(q_id):\n",
    "    answers = list(data[data.questions_id == q_id].answers_body_clean)\n",
    "    return answers"
   ]
  },
  {
   "cell_type": "code",
   "execution_count": 8,
   "metadata": {},
   "outputs": [],
   "source": [
    "def find_similar_questions(question_body: str):\n",
    "    x = vec.transform([question_body]).todense()\n",
    "    scores = cosine_similarity(x, vec_matrix)\n",
    "    similar_inds = scores.argsort()[0][-6:-1]\n",
    "    dict = {}\n",
    "    dict[\"input_question_body\"] = question_body\n",
    "    re = []\n",
    "    for i in similar_inds:\n",
    "        q_id = questions_df.iloc[i,:].questions_id\n",
    "        sim_question = questions_df.iloc[i,:].questions_body_clean\n",
    "        answers = find_answers(q_id)\n",
    "        re.append({\"question_id\": q_id, \n",
    "                   \"question_body\": sim_question,\n",
    "                   \"score\": scores[0][i],\n",
    "                   \"answers\": answers})\n",
    "    dict[\"similar_questions\"] = re\n",
    "    return dict"
   ]
  },
  {
   "cell_type": "code",
   "execution_count": 9,
   "metadata": {},
   "outputs": [
    {
     "name": "stdout",
     "output_type": "stream",
     "text": [
      "{\n",
      "    \"input_question_body\": \"I am Priyanka from Bangalore . Now am in 10th std . When I go to college I should not get confused on what I want to take to become army officer. So I am asking this question  #military #army\",\n",
      "    \"similar_questions\": [\n",
      "        {\n",
      "            \"answers\": [\n",
      "                \"There are a couple of options to become a commissioned officer in the United States military:\\n1. Attend a 4-year college that has an ROTC program (Reserve Officer Training Program)... apply for an ROTC slot which prepares and leads to you becoming commissioned and thus ready to lead at an entry-level in our military.  You will need to meet academic, physical, psychological, and character minimums in order to be accepted into an ROTC program as well as to be commissioned.\\n2. Apply and be accepted into a military institute (e.g. West Point (Army), Annapolis (Navy), etc.).\\n3. Join the military as a Private (entry level enlisted personnel), show leadership aptitude, and apply for an OCS slot (Officer Candidate School).  Acceptance into this program prepares and lead you to becoming a commissioned officer.\\nWhichever path you choose, be your best!\\nHope this helps. Dino \",\n",
      "                \"Preethi, \\nIt appears to me that you are interested in becoming an officer in the U.S. Army.  I retired from the U.S. Army as a Lieutenant Colonel after 30 years of service.   There are at least two ways for you to become an Army officer.\\n\\nAfter you finish high school,  you should attend a university in the U.S. that has an Army R.O.T.C. (Reserve Officers Training Corps) program.  In this way, you work towards your degree and meeting your Army Officer training simultaneously.  You'll then be commissioned at the same time you receive your Bachelors Degree.  There are ROTC scholarships for which you can apply too.  Start the application process in your (High School) Junior year.\\n\\nAnother route is to enlist in the U.S. Army and apply for and attend Officer Candidate School (OCS).  The \\\"catch\\\" here is you ultimately must have a Bachelors Degree.   I recommend getting your degree first before going the OCS route.  \\n\\nRegardless of the route you choose, ultimately you will need to be academically strong in the following disciplines:  ENGLISH communication skills; both written and verbal.  MATH - calculus would be very beneficial in your preparation.  Be well-rounded in SCIENCES, especially \\\"hard sciences\\\" i.e. physics.  HISTORY is very important too.  Both U.S. History and World History with an emphasis on Military History.    Additionally,  we (U.S. Army) will look at your LEADERSHIP experience while in \\\"high school\\\".  For example:  President of the Chess or Robotics club, or Captain of the football or soccer team.   Being a member of a sports team or teams is something else that we look at.  We want you to be a \\\"TEAM PLAYER\\\"  and a leader.  Soccer or football or basketball or baseball will rate higher than swimming or track for example.  PHYSICAL FITNESS is vitally important.  You should be \\\"height / weight proportionate\\\".   \\n\\nYour background is very important too.   Membership in questionable or subversive or even anti-American organizations will be a \\\"war-stopper\\\" for you.  Your application to become an officer will be denied for these activities.\\n\\nIn the mean time, research the various \\\"branches\\\" within the Army.  for example:  Aviation, Field Artillery, Military Intelligence, Transportation, Cyber, Engineers, Judge Advocate, Infantry, Signal, etc..  Begin to determine what you do not want to do, then narrow it down to what you do want to do.   Math is extremely important in Artillery and Aviation.   Physical fitness as well as being academically \\\"well rounded\\\" is important in Infantry and Special Operations.   Language skills are especially important in Special Operations.\\n\\nStudy well.  Stay out of trouble.  Make your own good luck.\\n\"\n",
      "            ],\n",
      "            \"question_body\": \"I am studying in 10th std in India.  After 10th is completed what courses should I take to join the army?   #educator #military #army #education #career \",\n",
      "            \"question_id\": \"783ff517ce5f4e76a00f78ef0ade5b75\",\n",
      "            \"score\": 0.5521553344496528\n",
      "        },\n",
      "        {\n",
      "            \"answers\": [\n",
      "                \"There are a couple of options to become a commissioned officer in the United States military:\\n1. Attend a 4-year college that has an ROTC program (Reserve Officer Training Program)... apply for an ROTC slot which prepares and leads to you becoming commissioned and thus ready to lead at an entry-level in our military.  You will need to meet academic, physical, psychological, and character minimums in order to be accepted into an ROTC program as well as to be commissioned.\\n2. Apply and be accepted into a military institute (e.g. West Point (Army), Annapolis (Navy), etc.).\\n3. Join the military as a Private (entry level enlisted personnel), show leadership aptitude, and apply for an OCS slot (Officer Candidate School).  Acceptance into this program prepares and lead you to becoming a commissioned officer.\\nWhichever path you choose, be your best!\\nHope this helps. Dino \",\n",
      "                \"Preethi, \\nIt appears to me that you are interested in becoming an officer in the U.S. Army.  I retired from the U.S. Army as a Lieutenant Colonel after 30 years of service.   There are at least two ways for you to become an Army officer.\\n\\nAfter you finish high school,  you should attend a university in the U.S. that has an Army R.O.T.C. (Reserve Officers Training Corps) program.  In this way, you work towards your degree and meeting your Army Officer training simultaneously.  You'll then be commissioned at the same time you receive your Bachelors Degree.  There are ROTC scholarships for which you can apply too.  Start the application process in your (High School) Junior year.\\n\\nAnother route is to enlist in the U.S. Army and apply for and attend Officer Candidate School (OCS).  The \\\"catch\\\" here is you ultimately must have a Bachelors Degree.   I recommend getting your degree first before going the OCS route.  \\n\\nRegardless of the route you choose, ultimately you will need to be academically strong in the following disciplines:  ENGLISH communication skills; both written and verbal.  MATH - calculus would be very beneficial in your preparation.  Be well-rounded in SCIENCES, especially \\\"hard sciences\\\" i.e. physics.  HISTORY is very important too.  Both U.S. History and World History with an emphasis on Military History.    Additionally,  we (U.S. Army) will look at your LEADERSHIP experience while in \\\"high school\\\".  For example:  President of the Chess or Robotics club, or Captain of the football or soccer team.   Being a member of a sports team or teams is something else that we look at.  We want you to be a \\\"TEAM PLAYER\\\"  and a leader.  Soccer or football or basketball or baseball will rate higher than swimming or track for example.  PHYSICAL FITNESS is vitally important.  You should be \\\"height / weight proportionate\\\".   \\n\\nYour background is very important too.   Membership in questionable or subversive or even anti-American organizations will be a \\\"war-stopper\\\" for you.  Your application to become an officer will be denied for these activities.\\n\\nIn the mean time, research the various \\\"branches\\\" within the Army.  for example:  Aviation, Field Artillery, Military Intelligence, Transportation, Cyber, Engineers, Judge Advocate, Infantry, Signal, etc..  Begin to determine what you do not want to do, then narrow it down to what you do want to do.   Math is extremely important in Artillery and Aviation.   Physical fitness as well as being academically \\\"well rounded\\\" is important in Infantry and Special Operations.   Language skills are especially important in Special Operations.\\n\\nStudy well.  Stay out of trouble.  Make your own good luck.\\n\"\n",
      "            ],\n",
      "            \"question_body\": \"I am studying in 10th std in India.  After 10th is completed what courses should I take to join the army?   #educator #military #army #education #career \",\n",
      "            \"question_id\": \"783ff517ce5f4e76a00f78ef0ade5b75\",\n",
      "            \"score\": 0.5521553344496528\n",
      "        },\n",
      "        {\n",
      "            \"answers\": [\n",
      "                \"Darshan,  On the surface these two options may seem distinct and unrelated.  However; there are many areas of the armed services for engineers.  You may be able to be both an engineer and an army officer.  As stated above, there are potential benefits and drawbacks to to each path, but combining them may give you the best of both worlds.  As an example D.A.R.P.A. (Defense Advanced Research Projects Agency) works with, and employs, some of the best and brightest in the world and is only one small area of the military where engineering is central to the mission.  Hope that helps\",\n",
      "                \"Hey Darshan!\\r\\n\\r\\nI would weigh the pros and cons of both sets to determine which path you should take. The army will pay for your education but you have to do quite a long time of service before you can exit. For school on the other hand, there's a lot more flexibility but you have to pay!\\r\\n\\r\\nGood luck! It's a difficult decision, but take your time and really think on what you want to do.\"\n",
      "            ],\n",
      "            \"question_body\": \" I am confused on what I have to become. #engineering #engineer #military #army #retiredarmy\",\n",
      "            \"question_id\": \"3e9b474c11654285b3e935e8b9421402\",\n",
      "            \"score\": 0.5798628543383219\n",
      "        },\n",
      "        {\n",
      "            \"answers\": [\n",
      "                \"Darshan,  On the surface these two options may seem distinct and unrelated.  However; there are many areas of the armed services for engineers.  You may be able to be both an engineer and an army officer.  As stated above, there are potential benefits and drawbacks to to each path, but combining them may give you the best of both worlds.  As an example D.A.R.P.A. (Defense Advanced Research Projects Agency) works with, and employs, some of the best and brightest in the world and is only one small area of the military where engineering is central to the mission.  Hope that helps\",\n",
      "                \"Hey Darshan!\\r\\n\\r\\nI would weigh the pros and cons of both sets to determine which path you should take. The army will pay for your education but you have to do quite a long time of service before you can exit. For school on the other hand, there's a lot more flexibility but you have to pay!\\r\\n\\r\\nGood luck! It's a difficult decision, but take your time and really think on what you want to do.\"\n",
      "            ],\n",
      "            \"question_body\": \" I am confused on what I have to become. #engineering #engineer #military #army #retiredarmy\",\n",
      "            \"question_id\": \"3e9b474c11654285b3e935e8b9421402\",\n",
      "            \"score\": 0.5798628543383219\n",
      "        },\n",
      "        {\n",
      "            \"answers\": [\n",
      "                \"Hi. I joined the Army after I attended college and received a Bachelor's Degree in Criminal Justice.  Commissioned officers enter the Military with a four year degree or receive officer training after joining and complete a tour. You can prepare yourself by taking Reserve Officer Training Corps (ROTC) while in high school or a university. You can also attend Officer Candidate School (OCS) after graduating from college or become commissioned by earning a professional degree. If you decide to earn a degree, think about what you would like to do while in the military.  The experience in the military was very rewarding. I wish you well and much success in your future. \",\n",
      "                \"Dear Priyanka, Greetings! I have answered this question to Eshwari few days ago. I am going to reproduce that answer with bit of modifications as required for better clarity.   From your background, I could make out that you are from Bangalore and a student of 10th standard but your location is Rhode Island, USA. So I am not very clear as to which Army you wish to join ? Is it the US Army or the Indian Army? It is important to know that very few foreign nationals can join Indian Army (like Nepali citizens etc.). So you have to ascertain for yourself as to which citizenship you hold and accordingly you can join armed forces of the respective countries. Both are highly professional armies and respected a lot. I shall answer the modalities about the Indian Army, assuming that is the natural choice.  So, to answer your query, there are following options for you to become army officer:  After your basic education, application and selection test processes, one has to clear SSB (Services Selection Board) which is a very stringent 5 days test (compulsory for all including Women officers except medical professionals). It is one of the best methods of test I know to assess the suitability for military services (as officers), a proven method of testing of one's psyche, leadership qualities which takes  all the aspects of your personality into account and decide.  Although, success rate is pretty low but don't get disheartened and demotivated. Key to success in SSB is a sound mind with sound body, positive attitude and basic IQ.  If I could do with an average IQ and humble  educational backgrounds, why not you?  There were many friends (within my batch) of whom we thought that they will never make it to the SSB but they did qualify and now serving as  Major General.  Please refer the links given below and you can find scores of material to read about SSB on the net or through books. All the Very Best! Jai Hind! \"\n",
      "            ],\n",
      "            \"question_body\": \"I am Priyanka from Bangalore . Now am in 10th std . When I go to college I should not get confused on what I want to take to become army officer. So I am asking this question  #military #army\",\n",
      "            \"question_id\": \"eb80205482e4424cad8f16bc25aa2d9c\",\n",
      "            \"score\": 1.0000000000000002\n",
      "        }\n",
      "    ]\n",
      "}\n"
     ]
    }
   ],
   "source": [
    "body_example = questions[1]\n",
    "re = find_similar_questions(body_example)\n",
    "print(json.dumps(re, indent=4, sort_keys = True))"
   ]
  },
  {
   "cell_type": "code",
   "execution_count": 10,
   "metadata": {},
   "outputs": [
    {
     "name": "stdout",
     "output_type": "stream",
     "text": [
      "{\n",
      "    \"input_question_body\": \"how to become a data scientist\",\n",
      "    \"similar_questions\": [\n",
      "        {\n",
      "            \"answers\": [\n",
      "                \"The definition of this newfangled title \\\"data scientist\\\" is basically a super-awesome statistician, with a variety of skills and experience to match (I see the title as a senior title, and have seen it at the C-level).  Since you can apply statistics to a wide variety of information, this title would be transportable across a variety of industries where extracting information from large amount of structured or unstructured data (aka \\\"big data\\\") is useful, such as pharmaceutical, network security, defense/intelligence, medical, financial, government... If you're interested in quantitative analysis of the financial markets, my suggestion is to start working on a model.  In fact, a financial quant I used to work with spent his free time working on a football (aka soccer) player performance prediction system, while I (as a network engineer), spent very little time looking at utilizing simple stats to extract data out of network traffic.  You can use these examples of your expertise during an interview.\",\n",
      "                \"Data scientists in a product-oriented organization (think about companies like Airbnb/Uber/Facebook) are there to build better products. They make it happen through 1) aiding better decision making 2) participating in building data-powered product. For 1) data scientists perform quantitative analyses, build dashboards and run experiments. For 2) data scientists design and implement algorithm-based, automated solutions that are typically consumer facing.  \",\n",
      "                \"Hi Flora! Data Scientist title is often used to describe jobs that vary drastically. Depending on the company and amount of data they have, it could mean pure Data Analysis where the person extracts data from a data store/warehouse and creates meaningful visualization and aggregation on top of that data. This branch answers questions around operational reporting of data. It could on the other hand mean utilizing more sophisticated statistical and machine learning methodologies to extract patterns out of data and do predictive science based not that. This requires a formal degree in Maths, Statistics, Physics or a similar discipline. This branch is more focused on creating data driven products. Hope this helps and God Luck!\",\n",
      "                \"In my view, Data scientist job is beyond big data/data mining/statistics/programming skills. A data scientist should be these qualities to be successful in any industry: Hope this clarifies your question.\",\n",
      "                \"Data scientist means a lot of things, but in general I can say the role includes a lot of working with data to do something useful. In some cases, such as in my job, it might be to answer questions nobody else has answers to, in business speak referred to as \\\"drawing insights\\\". In some cases, the purpose is to build algorithms to predict things. I notice you have posted a few other questions about finance, and I think in this field the predictive analytics might be most relevant.  The basic requirement for a data scientist is to be good at quantitative analysis. Make sure you are taking math and economics classes, and it might even be helpful to learn some programming software such as Stata, R, SPSS, mySQL, Python etc.\"\n",
      "            ],\n",
      "            \"question_body\": \"What kind of companies do data scientists work for?  How can I become one?     #data-science #data-analysis #big-data\",\n",
      "            \"question_id\": \"e0c2a4b991c442ffa70dcdc1cfd2aebc\",\n",
      "            \"score\": 0.5952973508651962\n",
      "        },\n",
      "        {\n",
      "            \"answers\": [\n",
      "                \"The definition of this newfangled title \\\"data scientist\\\" is basically a super-awesome statistician, with a variety of skills and experience to match (I see the title as a senior title, and have seen it at the C-level).  Since you can apply statistics to a wide variety of information, this title would be transportable across a variety of industries where extracting information from large amount of structured or unstructured data (aka \\\"big data\\\") is useful, such as pharmaceutical, network security, defense/intelligence, medical, financial, government... If you're interested in quantitative analysis of the financial markets, my suggestion is to start working on a model.  In fact, a financial quant I used to work with spent his free time working on a football (aka soccer) player performance prediction system, while I (as a network engineer), spent very little time looking at utilizing simple stats to extract data out of network traffic.  You can use these examples of your expertise during an interview.\",\n",
      "                \"Data scientists in a product-oriented organization (think about companies like Airbnb/Uber/Facebook) are there to build better products. They make it happen through 1) aiding better decision making 2) participating in building data-powered product. For 1) data scientists perform quantitative analyses, build dashboards and run experiments. For 2) data scientists design and implement algorithm-based, automated solutions that are typically consumer facing.  \",\n",
      "                \"Hi Flora! Data Scientist title is often used to describe jobs that vary drastically. Depending on the company and amount of data they have, it could mean pure Data Analysis where the person extracts data from a data store/warehouse and creates meaningful visualization and aggregation on top of that data. This branch answers questions around operational reporting of data. It could on the other hand mean utilizing more sophisticated statistical and machine learning methodologies to extract patterns out of data and do predictive science based not that. This requires a formal degree in Maths, Statistics, Physics or a similar discipline. This branch is more focused on creating data driven products. Hope this helps and God Luck!\",\n",
      "                \"In my view, Data scientist job is beyond big data/data mining/statistics/programming skills. A data scientist should be these qualities to be successful in any industry: Hope this clarifies your question.\",\n",
      "                \"Data scientist means a lot of things, but in general I can say the role includes a lot of working with data to do something useful. In some cases, such as in my job, it might be to answer questions nobody else has answers to, in business speak referred to as \\\"drawing insights\\\". In some cases, the purpose is to build algorithms to predict things. I notice you have posted a few other questions about finance, and I think in this field the predictive analytics might be most relevant.  The basic requirement for a data scientist is to be good at quantitative analysis. Make sure you are taking math and economics classes, and it might even be helpful to learn some programming software such as Stata, R, SPSS, mySQL, Python etc.\"\n",
      "            ],\n",
      "            \"question_body\": \"What kind of companies do data scientists work for?  How can I become one?     #data-science #data-analysis #big-data\",\n",
      "            \"question_id\": \"e0c2a4b991c442ffa70dcdc1cfd2aebc\",\n",
      "            \"score\": 0.5952973508651962\n",
      "        },\n",
      "        {\n",
      "            \"answers\": [\n",
      "                \"The definition of this newfangled title \\\"data scientist\\\" is basically a super-awesome statistician, with a variety of skills and experience to match (I see the title as a senior title, and have seen it at the C-level).  Since you can apply statistics to a wide variety of information, this title would be transportable across a variety of industries where extracting information from large amount of structured or unstructured data (aka \\\"big data\\\") is useful, such as pharmaceutical, network security, defense/intelligence, medical, financial, government... If you're interested in quantitative analysis of the financial markets, my suggestion is to start working on a model.  In fact, a financial quant I used to work with spent his free time working on a football (aka soccer) player performance prediction system, while I (as a network engineer), spent very little time looking at utilizing simple stats to extract data out of network traffic.  You can use these examples of your expertise during an interview.\",\n",
      "                \"Data scientists in a product-oriented organization (think about companies like Airbnb/Uber/Facebook) are there to build better products. They make it happen through 1) aiding better decision making 2) participating in building data-powered product. For 1) data scientists perform quantitative analyses, build dashboards and run experiments. For 2) data scientists design and implement algorithm-based, automated solutions that are typically consumer facing.  \",\n",
      "                \"Hi Flora! Data Scientist title is often used to describe jobs that vary drastically. Depending on the company and amount of data they have, it could mean pure Data Analysis where the person extracts data from a data store/warehouse and creates meaningful visualization and aggregation on top of that data. This branch answers questions around operational reporting of data. It could on the other hand mean utilizing more sophisticated statistical and machine learning methodologies to extract patterns out of data and do predictive science based not that. This requires a formal degree in Maths, Statistics, Physics or a similar discipline. This branch is more focused on creating data driven products. Hope this helps and God Luck!\",\n",
      "                \"In my view, Data scientist job is beyond big data/data mining/statistics/programming skills. A data scientist should be these qualities to be successful in any industry: Hope this clarifies your question.\",\n",
      "                \"Data scientist means a lot of things, but in general I can say the role includes a lot of working with data to do something useful. In some cases, such as in my job, it might be to answer questions nobody else has answers to, in business speak referred to as \\\"drawing insights\\\". In some cases, the purpose is to build algorithms to predict things. I notice you have posted a few other questions about finance, and I think in this field the predictive analytics might be most relevant.  The basic requirement for a data scientist is to be good at quantitative analysis. Make sure you are taking math and economics classes, and it might even be helpful to learn some programming software such as Stata, R, SPSS, mySQL, Python etc.\"\n",
      "            ],\n",
      "            \"question_body\": \"What kind of companies do data scientists work for?  How can I become one?     #data-science #data-analysis #big-data\",\n",
      "            \"question_id\": \"e0c2a4b991c442ffa70dcdc1cfd2aebc\",\n",
      "            \"score\": 0.5952973508651962\n",
      "        },\n",
      "        {\n",
      "            \"answers\": [\n",
      "                \"The definition of this newfangled title \\\"data scientist\\\" is basically a super-awesome statistician, with a variety of skills and experience to match (I see the title as a senior title, and have seen it at the C-level).  Since you can apply statistics to a wide variety of information, this title would be transportable across a variety of industries where extracting information from large amount of structured or unstructured data (aka \\\"big data\\\") is useful, such as pharmaceutical, network security, defense/intelligence, medical, financial, government... If you're interested in quantitative analysis of the financial markets, my suggestion is to start working on a model.  In fact, a financial quant I used to work with spent his free time working on a football (aka soccer) player performance prediction system, while I (as a network engineer), spent very little time looking at utilizing simple stats to extract data out of network traffic.  You can use these examples of your expertise during an interview.\",\n",
      "                \"Data scientists in a product-oriented organization (think about companies like Airbnb/Uber/Facebook) are there to build better products. They make it happen through 1) aiding better decision making 2) participating in building data-powered product. For 1) data scientists perform quantitative analyses, build dashboards and run experiments. For 2) data scientists design and implement algorithm-based, automated solutions that are typically consumer facing.  \",\n",
      "                \"Hi Flora! Data Scientist title is often used to describe jobs that vary drastically. Depending on the company and amount of data they have, it could mean pure Data Analysis where the person extracts data from a data store/warehouse and creates meaningful visualization and aggregation on top of that data. This branch answers questions around operational reporting of data. It could on the other hand mean utilizing more sophisticated statistical and machine learning methodologies to extract patterns out of data and do predictive science based not that. This requires a formal degree in Maths, Statistics, Physics or a similar discipline. This branch is more focused on creating data driven products. Hope this helps and God Luck!\",\n",
      "                \"In my view, Data scientist job is beyond big data/data mining/statistics/programming skills. A data scientist should be these qualities to be successful in any industry: Hope this clarifies your question.\",\n",
      "                \"Data scientist means a lot of things, but in general I can say the role includes a lot of working with data to do something useful. In some cases, such as in my job, it might be to answer questions nobody else has answers to, in business speak referred to as \\\"drawing insights\\\". In some cases, the purpose is to build algorithms to predict things. I notice you have posted a few other questions about finance, and I think in this field the predictive analytics might be most relevant.  The basic requirement for a data scientist is to be good at quantitative analysis. Make sure you are taking math and economics classes, and it might even be helpful to learn some programming software such as Stata, R, SPSS, mySQL, Python etc.\"\n",
      "            ],\n",
      "            \"question_body\": \"What kind of companies do data scientists work for?  How can I become one?     #data-science #data-analysis #big-data\",\n",
      "            \"question_id\": \"e0c2a4b991c442ffa70dcdc1cfd2aebc\",\n",
      "            \"score\": 0.5952973508651962\n",
      "        },\n",
      "        {\n",
      "            \"answers\": [\n",
      "                \"  Hello Chong G.   I am not a data scientist, but I think I can give you some advice on this. Nowadays, an increasing number of professions are requiring analytics capabilities.     There are some core things you should learn to handle great amount of data, like: \\u00a0 Relational Database concepts; SQL - Computer language for creating and managing databases; Excel; Programing languages such as C, VBA, R...\\u00a0  You should also consider learning how to display the data in an organized way and Power BI / Think-Cell are great for that   There are several tutorials around the internet about those topics and also focused courses. I personally recommend the latter, because it is easier to progress through the topics.  Hope my advice was helpful to you!  \",\n",
      "                \"You should search for Algorithm videos. Usually when studying data, you would need to know about databases structure, analytics skills, and some other logics. Another thing you could do would be start analyzing some small real cases like how long does it take to go from your house to the supermarket and what you could do to reduce the time? or how often do you drink water (time gap between each occurence). How could you track that? and how could you improve it? is it good? these are a few examples on how you could analyze stuff.\"\n",
      "            ],\n",
      "            \"question_body\": \"I want to be a data scientist,  what online courses should I take ? #datascience  \",\n",
      "            \"question_id\": \"bbe68647fcc84d04aad988a2891fbd9a\",\n",
      "            \"score\": 0.6107595797480664\n",
      "        }\n",
      "    ]\n",
      "}\n"
     ]
    }
   ],
   "source": [
    "body_example = 'how to become a data scientist'\n",
    "re = find_similar_questions(body_example)\n",
    "print(json.dumps(re, indent=4, sort_keys = True))"
   ]
  },
  {
   "cell_type": "markdown",
   "metadata": {},
   "source": [
    "### end here"
   ]
  }
 ],
 "metadata": {
  "kernelspec": {
   "display_name": "Python 3",
   "language": "python",
   "name": "python3"
  },
  "language_info": {
   "codemirror_mode": {
    "name": "ipython",
    "version": 3
   },
   "file_extension": ".py",
   "mimetype": "text/x-python",
   "name": "python",
   "nbconvert_exporter": "python",
   "pygments_lexer": "ipython3",
   "version": "3.7.3"
  }
 },
 "nbformat": 4,
 "nbformat_minor": 2
}
