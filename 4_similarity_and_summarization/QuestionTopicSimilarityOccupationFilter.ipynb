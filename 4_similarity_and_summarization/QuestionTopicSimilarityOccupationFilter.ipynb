{
 "cells": [
  {
   "cell_type": "code",
   "execution_count": 90,
   "metadata": {},
   "outputs": [],
   "source": [
    "import pandas as pd\n",
    "import nltk\n",
    "import ast\n",
    "import numpy as np\n",
    "import os\n",
    "\n",
    "#nltk.download('stopwords') #Only needed if exception thrown\n",
    "#nltk.download('punkt')#Only needed if exception thrown\n",
    "from nltk.corpus import stopwords\n",
    "#from nltk.tokenize import word_tokenize \n",
    "\n",
    "#Using a GLobal Variable to Filter Stop Words\n",
    "stop_words = set(stopwords.words('english')) \n",
    "\n",
    "import contractions \n",
    "import itertools\n",
    "\n",
    "from nltk.tokenize import TweetTokenizer\n",
    "tknzr = TweetTokenizer()\n",
    "\n",
    "#from nltk import PorterStemmer()\n",
    "#powerstemmer = "
   ]
  },
  {
   "cell_type": "code",
   "execution_count": 91,
   "metadata": {},
   "outputs": [],
   "source": [
    "# start Spark Session\n",
    "from pyspark.sql import SparkSession\n",
    "from pyspark.sql import SQLContext\n",
    "\n",
    "app_name = \"capstone_eda\"\n",
    "master = \"local[*]\"\n",
    "spark = SparkSession\\\n",
    "        .builder\\\n",
    "        .appName(app_name)\\\n",
    "        .master(master)\\\n",
    "        .getOrCreate()\n",
    "sc = spark.sparkContext\n",
    "sqlCtx = SQLContext(sc)"
   ]
  },
  {
   "cell_type": "code",
   "execution_count": 92,
   "metadata": {},
   "outputs": [],
   "source": [
    "bad_phrases = [\n",
    "                \"I'm a CareerVillage staff member and I'm posting this because we know that many young people are looking for the answer to this question. This is among the most popular questions searched by youth, and we're hoping you will take a moment to share your response to it. Thank you!\",\n",
    "                \"Things you can consider for this specific question...\"\n",
    "              ]\n",
    "\n",
    "\n",
    "def cosine(line):\n",
    "    \"\"\"Compute similarity scores\"\"\"\n",
    "    (doc1, n1), (doc2, n2) = ast.literal_eval(line[0])\n",
    "    total = int(line[1])\n",
    "    cosine = total / np.sqrt(int(n1)*int(n2))\n",
    "    yield (doc1,doc2), cosine\n",
    "\n",
    "def makeCompositeKey(inverted_index):\n",
    "    \"\"\"Loop over postings and yield pairs.\"\"\"\n",
    "    word, postings = inverted_index\n",
    "    # taking advantage of symmetry, output only (a,b), but not (b,a)\n",
    "    for subset in itertools.combinations(sorted(postings), 2):\n",
    "        yield (str(subset), 1)\n",
    "    \n",
    "def create_multi_grams(sentences,bad_phrases=bad_phrases,gram_size=[1,2]):\n",
    "    \"\"\"\n",
    "        Removes Stop Words / I / Punctuation \n",
    "        \n",
    "        Input:\n",
    "            Sentence: String \n",
    "        \n",
    "        Ouput:\n",
    "            Set of Unique Words in input\n",
    "    \"\"\"\n",
    "    for i in bad_phrases: \n",
    "        sentences = sentences.replace(i,'')\n",
    "    sentences = nltk.sent_tokenize(sentences)\n",
    "    grams = []\n",
    "    for sentence in sentences:\n",
    "        sentence = contractions.fix(sentence)\n",
    "        word_tokens = tknzr.tokenize(sentence) \n",
    "        filtered_sentence = [w.lower() for w in word_tokens if not w in stop_words and w.isalpha() and w.lower()!='i'] \n",
    "        for i in gram_size:\n",
    "            ngrams = zip(*[filtered_sentence[i:] for i in range(i)])\n",
    "            grams += [\" \".join(ngram) for ngram in ngrams]\n",
    "    return list(set(grams))"
   ]
  },
  {
   "cell_type": "code",
   "execution_count": 94,
   "metadata": {},
   "outputs": [],
   "source": [
    "def splitWordsV3(pair):\n",
    "    \"\"\"Tokenize each question and emit postings.\"\"\"\n",
    "    #question,text,words = pair\n",
    "    #try:\n",
    "    question, text,_ = pair\n",
    "    words = ast.literal_eval(text)\n",
    "    #document_total = len(words*1)+len(tags)*3\n",
    "    document_total = 0 \n",
    "    for w in words:\n",
    "        if w in cd.value.value.values:\n",
    "            document_total+=cd.value[cd.value.value == w].value.index[0]\n",
    "        #else:\n",
    "        #    document_total+=1\n",
    "            \n",
    "    for w in words:\n",
    "        if w in cd.value.value.values:\n",
    "            yield (w, [(question,document_total,cd.value[cd.value.value == w].value.index[0])])\n",
    "                \n",
    "        #else:\n",
    "        #    yield (w, [(question,document_total,1)])\n",
    "    #except:\n",
    "    #    pass"
   ]
  },
  {
   "cell_type": "code",
   "execution_count": 95,
   "metadata": {},
   "outputs": [],
   "source": [
    "def print_results(data_frame,number_to_print=5,metric_type='Jaccard',filter_function=filter_stop_words):\n",
    "    for i in range(number_to_print):\n",
    "        Q1 = int(data_frame[i][0][0])\n",
    "        Q2 = int(data_frame[i][0][1])\n",
    "        Score = data_frame[i][1]\n",
    "        print(metric_type+' Similarity Ranking: '+str(i+1)+' Score: {:0.05f}'.format(Score))\n",
    "        print('\\n') \n",
    "        print(\"Question 1\")\n",
    "        print(questions_data_df.full_question[Q1])\n",
    "        print('\\n') \n",
    "        print(filter_function(questions_data_df.full_question[Q1]))\n",
    "        print('\\n')\n",
    "        print(\"Question 2\")\n",
    "        print(questions_data_df.full_question[Q2])\n",
    "        print('\\n')\n",
    "        print(filter_function(questions_data_df.full_question[Q2]))\n",
    "        print('__________________________________________________')\n",
    "        print('\\n')"
   ]
  },
  {
   "cell_type": "markdown",
   "metadata": {},
   "source": [
    "## Load Questions Data"
   ]
  },
  {
   "cell_type": "code",
   "execution_count": 96,
   "metadata": {},
   "outputs": [
    {
     "data": {
      "text/html": [
       "<div>\n",
       "<style scoped>\n",
       "    .dataframe tbody tr th:only-of-type {\n",
       "        vertical-align: middle;\n",
       "    }\n",
       "\n",
       "    .dataframe tbody tr th {\n",
       "        vertical-align: top;\n",
       "    }\n",
       "\n",
       "    .dataframe thead th {\n",
       "        text-align: right;\n",
       "    }\n",
       "</style>\n",
       "<table border=\"1\" class=\"dataframe\">\n",
       "  <thead>\n",
       "    <tr style=\"text-align: right;\">\n",
       "      <th></th>\n",
       "      <th>questions_id</th>\n",
       "      <th>questions_author_id</th>\n",
       "      <th>questions_date_added</th>\n",
       "      <th>questions_title</th>\n",
       "      <th>questions_body</th>\n",
       "      <th>full_question</th>\n",
       "    </tr>\n",
       "  </thead>\n",
       "  <tbody>\n",
       "    <tr>\n",
       "      <th>0</th>\n",
       "      <td>332a511f1569444485cf7a7a556a5e54</td>\n",
       "      <td>8f6f374ffd834d258ab69d376dd998f5</td>\n",
       "      <td>2016-04-26 11:14:26 UTC+0000</td>\n",
       "      <td>Teacher   career   question</td>\n",
       "      <td>What  is  a  maths  teacher?   what  is  a  ma...</td>\n",
       "      <td>Teacher   career   question What  is  a  maths...</td>\n",
       "    </tr>\n",
       "    <tr>\n",
       "      <th>1</th>\n",
       "      <td>eb80205482e4424cad8f16bc25aa2d9c</td>\n",
       "      <td>acccbda28edd4362ab03fb8b6fd2d67b</td>\n",
       "      <td>2016-05-20 16:48:25 UTC+0000</td>\n",
       "      <td>I want to become an army officer. What can I d...</td>\n",
       "      <td>I am Priyanka from Bangalore . Now am in 10th ...</td>\n",
       "      <td>I want to become an army officer. What can I d...</td>\n",
       "    </tr>\n",
       "    <tr>\n",
       "      <th>2</th>\n",
       "      <td>4ec31632938a40b98909416bdd0decff</td>\n",
       "      <td>f2c179a563024ccc927399ce529094b5</td>\n",
       "      <td>2017-02-08 19:13:38 UTC+0000</td>\n",
       "      <td>Will going abroad for your first job increase ...</td>\n",
       "      <td>I'm planning on going abroad for my first job....</td>\n",
       "      <td>Will going abroad for your first job increase ...</td>\n",
       "    </tr>\n",
       "    <tr>\n",
       "      <th>3</th>\n",
       "      <td>2f6a9a99d9b24e5baa50d40d0ba50a75</td>\n",
       "      <td>2c30ffba444e40eabb4583b55233a5a4</td>\n",
       "      <td>2017-09-01 14:05:32 UTC+0000</td>\n",
       "      <td>To become a specialist in business  management...</td>\n",
       "      <td>i hear business management is a hard way to ge...</td>\n",
       "      <td>To become a specialist in business  management...</td>\n",
       "    </tr>\n",
       "    <tr>\n",
       "      <th>4</th>\n",
       "      <td>5af8880460c141dbb02971a1a8369529</td>\n",
       "      <td>aa9eb1a2ab184ebbb00dc01ab663428a</td>\n",
       "      <td>2017-09-01 02:36:54 UTC+0000</td>\n",
       "      <td>Are there any scholarships out there for stude...</td>\n",
       "      <td>I'm trying to find scholarships for first year...</td>\n",
       "      <td>Are there any scholarships out there for stude...</td>\n",
       "    </tr>\n",
       "  </tbody>\n",
       "</table>\n",
       "</div>"
      ],
      "text/plain": [
       "                       questions_id               questions_author_id  \\\n",
       "0  332a511f1569444485cf7a7a556a5e54  8f6f374ffd834d258ab69d376dd998f5   \n",
       "1  eb80205482e4424cad8f16bc25aa2d9c  acccbda28edd4362ab03fb8b6fd2d67b   \n",
       "2  4ec31632938a40b98909416bdd0decff  f2c179a563024ccc927399ce529094b5   \n",
       "3  2f6a9a99d9b24e5baa50d40d0ba50a75  2c30ffba444e40eabb4583b55233a5a4   \n",
       "4  5af8880460c141dbb02971a1a8369529  aa9eb1a2ab184ebbb00dc01ab663428a   \n",
       "\n",
       "           questions_date_added  \\\n",
       "0  2016-04-26 11:14:26 UTC+0000   \n",
       "1  2016-05-20 16:48:25 UTC+0000   \n",
       "2  2017-02-08 19:13:38 UTC+0000   \n",
       "3  2017-09-01 14:05:32 UTC+0000   \n",
       "4  2017-09-01 02:36:54 UTC+0000   \n",
       "\n",
       "                                     questions_title  \\\n",
       "0                        Teacher   career   question   \n",
       "1  I want to become an army officer. What can I d...   \n",
       "2  Will going abroad for your first job increase ...   \n",
       "3  To become a specialist in business  management...   \n",
       "4  Are there any scholarships out there for stude...   \n",
       "\n",
       "                                      questions_body  \\\n",
       "0  What  is  a  maths  teacher?   what  is  a  ma...   \n",
       "1  I am Priyanka from Bangalore . Now am in 10th ...   \n",
       "2  I'm planning on going abroad for my first job....   \n",
       "3  i hear business management is a hard way to ge...   \n",
       "4  I'm trying to find scholarships for first year...   \n",
       "\n",
       "                                       full_question  \n",
       "0  Teacher   career   question What  is  a  maths...  \n",
       "1  I want to become an army officer. What can I d...  \n",
       "2  Will going abroad for your first job increase ...  \n",
       "3  To become a specialist in business  management...  \n",
       "4  Are there any scholarships out there for stude...  "
      ]
     },
     "execution_count": 96,
     "metadata": {},
     "output_type": "execute_result"
    }
   ],
   "source": [
    "questions_data = './data/questions.csv'\n",
    "questions_data_df = pd.read_csv(questions_data)\n",
    "questions_data_df['full_question'] = questions_data_df.questions_title+' '+questions_data_df.questions_body\n",
    "questions_data_df.head()"
   ]
  },
  {
   "cell_type": "markdown",
   "metadata": {},
   "source": [
    "### Load Corpus Data"
   ]
  },
  {
   "cell_type": "code",
   "execution_count": 100,
   "metadata": {},
   "outputs": [],
   "source": [
    "original_corpus_data = pd.read_csv('./data/All_Career_Clusters.csv')\n",
    "corpus_data = pd.read_csv(\"./data/All_Career_Clusters_cleaned.csv\")\n",
    "corpus_data = corpus_data.reset_index()\n",
    "corpus_data.columns = ['index','value']\n",
    "#cd = sc.broadcast(corpus_data)"
   ]
  },
  {
   "cell_type": "code",
   "execution_count": 105,
   "metadata": {},
   "outputs": [
    {
     "data": {
      "text/plain": [
       "1109"
      ]
     },
     "execution_count": 105,
     "metadata": {},
     "output_type": "execute_result"
    }
   ],
   "source": [
    "original_corpus_data.shape[0]"
   ]
  },
  {
   "cell_type": "code",
   "execution_count": 106,
   "metadata": {},
   "outputs": [
    {
     "name": "stdout",
     "output_type": "stream",
     "text": [
      "Total BLS List of Careers:1109\n",
      "\n",
      "\n",
      "Total Distinct Jobs from BLS after filtering:1833\n",
      "\n",
      "\n",
      "Total Distinct Jobs Found in CareerVillage Corpus: 280\n",
      "\n",
      "\n",
      "{'Farmer', 'Nanny', 'Cosmetologist', 'Automotive Engineer', 'Anthropologist', 'Street Vendor', 'Probation Officer', 'Wildlife Biologist', 'Urban Planner', 'Advertising', 'Physician Assistant', 'Athlete', 'Microbiologist', 'Sales Engineer', 'Poet', 'Genetic Counselor', 'Cook', 'Chemist', 'Tax Preparer', 'Fraud Examiner', 'Mortician', 'Computer Scientist', 'Boilermaker', 'Medical Technologist', 'Instructional Designer', 'Retail Sales', 'Family Therapist', 'Game Warden', 'Auditor', 'Marriage Therapist', 'Industrial-Organizational Psychologist', 'Social Worker', 'Industrial Designer', 'Computer Hardware Engineer', 'Agent', 'Prosthetist', 'Sociologist', 'Librarian', 'High School Teacher', 'Urologist', 'Statistician', 'Administrative Assistant', 'Medical Scientist', 'Janitor', 'Pharmacist', 'Biomedical Engineer', 'Registered Nurse', 'Scout', 'Marine Engineer', 'Radiation Therapist', 'Inspector', 'Sports Medicine Physician', 'Welder', 'Fashion Designer', 'Petroleum Engineer', 'Psychiatrist', 'Private Detective', 'Allergist', 'Rehabilitation Physician', 'Makeup Artist', 'Technical Writer', 'Acute Care Nurse', 'Market Research Analyst', 'Art Therapist', 'Pharmacy Technician', 'Creative Writer', 'Editor', 'Video Game Designer', 'Veterinarian', 'Hairstylist', 'Archivist', 'Marketing Manager', 'Magistrate', 'Chemical Technician', 'Speech-Language Pathologist', 'Producer', 'Clinical Psychologist', 'Elevator Installer', 'Plumber', 'Marine Architect', 'Substance Abuse Counselor', 'Translator', 'Neurologist', 'Reporter', 'Civil Engineer', 'Rancher', 'Economist', 'Tour Guide', 'Forest Firefighter', 'Aircraft Mechanic', 'Nutritionist', 'Criminal Investigator', 'Physicians', 'Interpreter', 'Maxillofacial Surgeon', 'Dermatologist', 'Fundraiser', 'Referee', 'Energy Engineer', 'Psychologist', 'Actor', 'Legislator', 'Accountant', 'Teacher', 'Singer', 'Tutor', 'Mathematician', 'Financial Analyst', 'Baker', 'Music Composer', 'Landscape Architect', 'Cutter', 'Occupational Therapist', 'Fabricator', 'Physical Therapist', 'Electrician', 'Internist', 'Information Security Analyst', 'Millwright', 'Manager', 'Engineer', 'Art Director', 'Elementary School Teacher', 'Counselor', 'Massage Therapist', 'Astronomer', 'Dental Hygienist', 'Writer', 'Biochemist', 'Instructor', 'Paramedic', 'Actuary', 'Robotics Engineer', 'Private Investigator', 'Histotechnologist', 'Geological Engineer', 'Oral Surgeon', 'Pediatrician', 'Engineering Technician', 'Police Officer', 'Chemical Engineer', 'Announcer', 'Ophthalmologist', 'Choreographer', 'Entertainer', 'Hunter', 'Phlebotomist', 'General Dentist', 'Model', 'Surgical Technologist', 'Tester', 'Dentist', 'Occupational Therapy Assistant', 'Teacher Assistant', 'Mechatronics Engineer', 'Teller', 'Anesthesiologist', 'Purchasing Manager', 'Mediator', 'Music Therapist', 'Historian', 'Chef', 'Carpenter', 'Special Education Teacher', 'Set Designer', 'Archeologist', 'File Clerk', 'Epidemiologist', 'Office Clerk', 'Interviewers', 'Geneticist', 'Orderly', 'Dental Assistant', 'Designer', 'Barber', 'Director', 'Nursing Assistant', 'Manufacturing Engineer', 'Retail Buyer', 'Event Planner', 'Legal Secretary', 'Guidance Counselor', 'Usher', 'Kindergarten Teacher', 'Police Detective', 'Engineering Manager', 'Sheriff', 'Hydrologist', 'Financial Manager', 'Medical Assistant', 'Forensic Science Technician', 'Firefighter', 'Aerospace Engineer', 'Sound Engineering Technician', 'Athletic Trainer', 'Audiologist', 'School Counselor', 'Cartographer', 'Painter', 'Musician', 'Zoologist', 'Agricultural Engineer', 'Special Agent', 'Environmental Engineer', 'Curator', 'Barista', 'Environmental Scientist', 'Construction Worker', 'Physicist', 'Photographer', 'Sailor', 'General Practitioner', 'Television Announcer', 'Water Resource Specialist', 'Biochemical Engineer', 'Performer', 'Midwife', 'Marketing Specialist', 'Public Relations Manager', 'Chiropractor', 'Pathologist', 'Nurse Anesthetist', 'Computer Programmer', 'Industrial Engineer', 'Hairdresser', 'Diagnostic Medical Sonographer', 'Optometrist', 'Public Relations Specialist', 'Caster', 'Infantry', 'Secretary', 'Lifeguard', 'Dietitian', 'School Psychologists', 'Dancer', 'Coroner', 'Web Developer', 'Rigger', 'Veterinary Technician', 'Travel Agent', 'Gynecologist', 'Therapists', 'Paralegals', 'Controller', 'Nurse Practitioner', 'Lawyer', 'Multimedia Artist', 'Fire Inspector', 'Detective', 'Customer Service Representative', 'Geoscientist', 'Biological Technician', 'Judge', 'Orthodontist', 'Video Editor', 'Interior Designer', 'Radiologist', 'Deputy Sheriff', 'Airline Pilot', 'Mechanical Engineer', 'Architect', 'Cashier', 'Dispatcher', 'Middle School Teacher', 'Air Traffic Controller', 'Nuclear Engineer', 'Surgeon', 'Government Property Investigator', 'Potter', 'Coach', 'Database Administrator', 'Graphic Designer', 'Commercial Pilot', 'Driver', 'Umpire', 'Author', 'Artist', 'Chief Executive', 'Fisher', 'Flight Attendant'}\n"
     ]
    }
   ],
   "source": [
    "occupations = set(corpus_data.value.values)\n",
    "job_list=[]\n",
    "for i in questions_data_df.index:\n",
    "    text = questions_data_df.questions_body.iloc[i]\n",
    "    for job in occupations:\n",
    "        if job.lower() in text:\n",
    "            #print(questions_data_df.questions_id.iloc[i],\" \",job)\n",
    "            job_list.append(job)\n",
    "            \n",
    "print(\"Total BLS List of Careers:\" +str(original_corpus_data.shape[0]))\n",
    "print('\\n')\n",
    "print('Total Distinct Jobs from BLS after filtering:'+str(corpus_data.shape[0]))\n",
    "print('\\n')\n",
    "print(\"Total Distinct Jobs Found in CareerVillage Corpus: \"+str(len(set(job_list))))\n",
    "print('\\n')\n",
    "print(set(job_list))"
   ]
  },
  {
   "cell_type": "code",
   "execution_count": 51,
   "metadata": {},
   "outputs": [
    {
     "name": "stdout",
     "output_type": "stream",
     "text": [
      "<class 'pandas.core.frame.DataFrame'>\n",
      "RangeIndex: 23931 entries, 0 to 23930\n",
      "Data columns (total 6 columns):\n",
      "questions_id            23931 non-null object\n",
      "questions_author_id     23931 non-null object\n",
      "questions_date_added    23931 non-null object\n",
      "questions_title         23931 non-null object\n",
      "questions_body          23931 non-null object\n",
      "full_question           23931 non-null object\n",
      "dtypes: object(6)\n",
      "memory usage: 1.1+ MB\n"
     ]
    }
   ],
   "source": [
    "questions_data_df"
   ]
  },
  {
   "cell_type": "code",
   "execution_count": 54,
   "metadata": {},
   "outputs": [],
   "source": [
    "cols_list = [\n",
    "             'questions_id',\n",
    "             'questions_author_id',\n",
    "             'questions_date_added',\n",
    "             'questions_title',\n",
    "             'questions_body',\n",
    "             'full_question'\n",
    "            ]\n",
    "\n",
    "questions_data_df[cols_list] = questions_data_df[cols_list].astype(str)"
   ]
  },
  {
   "cell_type": "code",
   "execution_count": 57,
   "metadata": {},
   "outputs": [],
   "source": [
    "sdf = sqlCtx.createDataFrame(questions_data_df)"
   ]
  },
  {
   "cell_type": "code",
   "execution_count": 59,
   "metadata": {},
   "outputs": [],
   "source": [
    "sdf.registerTempTable(\"CareerVillage\")"
   ]
  },
  {
   "cell_type": "code",
   "execution_count": 84,
   "metadata": {},
   "outputs": [],
   "source": [
    "career = 'High School Teacher'\n",
    "sql_str = \"select questions_id, full_question from CareerVillage where lower(full_question) like '%{0:}%'\".format(career.lower()) \n",
    "\n",
    "data  = sqlCtx.sql(sql_str).toPandas()"
   ]
  },
  {
   "cell_type": "code",
   "execution_count": 86,
   "metadata": {},
   "outputs": [
    {
     "data": {
      "text/plain": [
       "array(['What do I major in to become a secondary teacher? I want to be a high school teacher. #secondary-education',\n",
       "       'Is there a difference between High School teachers and professors in college? #courses #personality #college #high-school ',\n",
       "       'Is it better to be an elementary teacher or high school teacher? I love young kids, and if I were an art teacher, I would get to see kids exploring art for the first time. If I as a high school teacher, however, I would get to see a student for from 0 to 100 in their progress as a growing artist. \\n#art-teacher #educators #teaching ',\n",
       "       'Should you strive for a high paying occupation or what you like to do? I really want to be a high school teacher, but my mom always tells me how they do not make enough money, and to go for something that pays more like a doctor. I have no interest in being in the medical field or law. What should I do?\\r\\n\\r\\n#teacher #doctor #career #money',\n",
       "       'How do you figure out what grade level you should teach? Hello, I am a sophomore in high school and plan to go into a teaching career. I keep flipping back and forth between wanting to be an elementary school teacher and a high school teacher. I love working with young children and helping them learn. However, I love history and high schools have classes taught specifically for that, whereas elementary schools do not go into much depth with those kinds of things. I am torn between what I should do and was wondering if there are any indicators that could help me decide for sure.  #teaching #elementary-education #secondary-education',\n",
       "       'What are some tips when trying to be a high school teacher in English? Trying to become an English teacher for high school, specifically 11th/12th grade. #career #teaching #career-counseling #advice',\n",
       "       \"Is a Physics major smart? I've always had a love for science and a career in physics would be perfect. However, the job field for physics majors is very competitive and finding a good job that isn't a high school teacher is rare. Should I still pursue this major?\\r\\n#physics #major\",\n",
       "       \"What quality is considered the most important in a high school teacher? I'm going to be studying music education starting this fall. The last two years I have been a part of a program at my high school that teaches students how to be teachers. We talked a lot about which traits we possessed that would make great teachers but I was wondering if there was one trait that is the most important in a teacher. #college #career #teaching #education\",\n",
       "       'What do I have to do if I become an elementary school teacher, but later decide to become a high school teacher, or vice versa? <p>I am a sophomore in high school and would like to become a teacher, either elementary or high school. I want to have experience in both, and figure that if I do one for quite a while then I might want to try the other. I was just wondering what the process might be to do this?</p>',\n",
       "       \"What colleges have the highest reputation for creating successful surgeons? I'm a freshman in Arkansas, and my high school teachers, while they attempt to be helpful, don't know enough about my future career plans to be of much help. #healthcare #health #surgery #general-surgery #trauma-treatment #doctor #hospital-and-health-care #college #career #career-counseling \",\n",
       "       'Is college as strict as people say it is? My high school teachers play the fear mongering card every time we incorrectly staple something or use a purple vs a blue or black pen. Will this result in a terrible punishment in college as all my teachers say?\\r\\n\\r\\n#college #college-advice ##college #higher-education ',\n",
       "       'I want to be a high school math teacher, and I have had many people tell me I should learn another subject to be able to teach as well.  What subject would be best with a math degree and should I get a minor or do a double major?      I am transferring to a university to finish my math degree so that I can teach high school math.  I have been told that high school teachers quite often teach more than one subject.  If I am to learn another subject, what would be the best method to learn that subject? #highschoolteacher #math-major ',\n",
       "       'Compensation For Tecahers What is the starting salary for high school teachers who work in the public school system ?  #teaching #teacher #high-school',\n",
       "       'What are the perks to being a language teacher? Art teacher? Social studies teacher? I know I want to be a high school teacher,but I am just trying to figure out what to specialize in. I love art, but I also love french, and history and sociology are super interesting. \\n#art #teaching #language-teaching #teach-history #secondary-education ',\n",
       "       'What is the credential process to become a teacher? Hello,\\r\\n\\r\\nI am a senior this year, and I have finally figured out I want to be a high school teacher. I know this means I will have to get a credential at some point in order to teach. I was just wondering what this process is like? Does this process depend on the school? Or the subject? Or the level (elementary, high school, etc.) you want to teach? What is the credential technically for, and how long does it take to get? Is it an actual piece of paper you receive, like a degree? \\r\\n\\r\\nThank you! #teaching #teacher #higher-education',\n",
       "       'How would you rate the experience of coaching in high school sports? Hi, my name is Maggie and I would like to become a high school teacher and coach. I have talked to some of my coaches in the past and gotten good answers, but I would like a little more commentary on the subject matter. #coaching #coach #sports ',\n",
       "       \"What is a good way to keep in touch with high school teachers that have left on impact on you? Do you think one way would be to visit your high school in the future and encourage students to go to college, reach opportunities, apply to fun clubs, etc? I truly want to give back to my school community, and I really have appreciated the role that my teachers play in my life.  I know I wouldn't be where I am without the countless dedicated and thoughtful teachers I've had the pleasure to meet along my journey. #schoolcommunity\"],\n",
       "      dtype=object)"
      ]
     },
     "execution_count": 86,
     "metadata": {},
     "output_type": "execute_result"
    }
   ],
   "source": [
    "data.full_question.values"
   ]
  },
  {
   "cell_type": "code",
   "execution_count": null,
   "metadata": {},
   "outputs": [],
   "source": []
  },
  {
   "cell_type": "code",
   "execution_count": null,
   "metadata": {},
   "outputs": [],
   "source": []
  }
 ],
 "metadata": {
  "kernelspec": {
   "display_name": "Python 3",
   "language": "python",
   "name": "python3"
  },
  "language_info": {
   "codemirror_mode": {
    "name": "ipython",
    "version": 3
   },
   "file_extension": ".py",
   "mimetype": "text/x-python",
   "name": "python",
   "nbconvert_exporter": "python",
   "pygments_lexer": "ipython3",
   "version": "3.6.6"
  }
 },
 "nbformat": 4,
 "nbformat_minor": 2
}
