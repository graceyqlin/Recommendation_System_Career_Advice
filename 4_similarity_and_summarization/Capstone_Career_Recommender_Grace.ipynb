{
 "cells": [
  {
   "cell_type": "code",
   "execution_count": 17,
   "metadata": {},
   "outputs": [
    {
     "name": "stderr",
     "output_type": "stream",
     "text": [
      "[nltk_data] Downloading package punkt to\n",
      "[nltk_data]     C:\\Users\\glin\\AppData\\Roaming\\nltk_data...\n",
      "[nltk_data]   Unzipping tokenizers\\punkt.zip.\n"
     ]
    }
   ],
   "source": [
    "import os\n",
    "import re\n",
    "import math\n",
    "import random\n",
    "import warnings\n",
    "\n",
    "import numpy as np\n",
    "import pandas as pd\n",
    "\n",
    "import matplotlib.pyplot as plt\n",
    "import matplotlib.patches as mpatches\n",
    "import matplotlib.dates as mdates\n",
    "\n",
    "from matplotlib.pyplot import figure\n",
    "\n",
    "\n",
    "import networkx as nx\n",
    "import seaborn as sns\n",
    "\n",
    "from wordcloud import WordCloud\n",
    "from datetime import datetime\n",
    "from sklearn.feature_extraction.text import TfidfVectorizer\n",
    "from sklearn.metrics.pairwise import cosine_similarity\n",
    "\n",
    "import re\n",
    "import string\n",
    "import math\n",
    "import random\n",
    "from random import choice, choices\n",
    "import time\n",
    "import gc\n",
    "from IPython.display import display\n",
    "\n",
    "import nltk\n",
    "nltk.download('punkt')\n",
    "from nltk.stem import WordNetLemmatizer\n",
    "from nltk.corpus import stopwords\n",
    "\n",
    "from scipy.sparse import coo_matrix\n",
    "# import implicit\n",
    "\n",
    "import sys\n",
    "import warnings\n",
    "if not sys.warnoptions:\n",
    "    warnings.simplefilter(\"ignore\")\n",
    "    \n",
    "\n",
    "import os\n",
    "import gensim\n",
    "from nltk.tokenize import word_tokenize\n",
    "import dateutil.parser\n",
    "from datetime import datetime\n",
    "import matplotlib.pyplot as plt\n",
    "pd.set_option('display.max_colwidth', -1)\n",
    "\n",
    "%matplotlib inline\n"
   ]
  },
  {
   "cell_type": "code",
   "execution_count": 5,
   "metadata": {},
   "outputs": [],
   "source": [
    "pro= pd.read_csv('professionals.csv')\n",
    "stu=pd.read_csv(\"students.csv\")\n",
    "qs=pd.read_csv(\"questions.csv\")\n",
    "ans= pd.read_csv('answers.csv')\n",
    "com= pd.read_csv('comments.csv')\n",
    "email= pd.read_csv('emails.csv')\n",
    "match= pd.read_csv('matches.csv')\n",
    "school_mem= pd.read_csv('school_memberships.csv')\n",
    "tags= pd.read_csv('tags.csv')\n",
    "qs_tags=pd.read_csv('tag_questions.csv')\n",
    "user_tag=pd.read_csv('tag_users.csv')"
   ]
  },
  {
   "cell_type": "markdown",
   "metadata": {},
   "source": [
    "## Build out Recommender - Find Similar Questions"
   ]
  },
  {
   "cell_type": "markdown",
   "metadata": {},
   "source": [
    "Find similar questions that professionals have answered in the past so students don't need to post same questions. "
   ]
  },
  {
   "cell_type": "code",
   "execution_count": 7,
   "metadata": {},
   "outputs": [
    {
     "data": {
      "text/html": [
       "<div>\n",
       "<style scoped>\n",
       "    .dataframe tbody tr th:only-of-type {\n",
       "        vertical-align: middle;\n",
       "    }\n",
       "\n",
       "    .dataframe tbody tr th {\n",
       "        vertical-align: top;\n",
       "    }\n",
       "\n",
       "    .dataframe thead th {\n",
       "        text-align: right;\n",
       "    }\n",
       "</style>\n",
       "<table border=\"1\" class=\"dataframe\">\n",
       "  <thead>\n",
       "    <tr style=\"text-align: right;\">\n",
       "      <th></th>\n",
       "      <th>questions_id</th>\n",
       "      <th>questions_author_id</th>\n",
       "      <th>questions_date_added</th>\n",
       "      <th>questions_title</th>\n",
       "      <th>questions_body</th>\n",
       "    </tr>\n",
       "  </thead>\n",
       "  <tbody>\n",
       "    <tr>\n",
       "      <th>0</th>\n",
       "      <td>332a511f1569444485cf7a7a556a5e54</td>\n",
       "      <td>8f6f374ffd834d258ab69d376dd998f5</td>\n",
       "      <td>2016-04-26 11:14:26 UTC+0000</td>\n",
       "      <td>Teacher   career   question</td>\n",
       "      <td>What  is  a  maths  teacher?   what  is  a  maths  teacher  useful? #college #professor #lecture</td>\n",
       "    </tr>\n",
       "    <tr>\n",
       "      <th>1</th>\n",
       "      <td>eb80205482e4424cad8f16bc25aa2d9c</td>\n",
       "      <td>acccbda28edd4362ab03fb8b6fd2d67b</td>\n",
       "      <td>2016-05-20 16:48:25 UTC+0000</td>\n",
       "      <td>I want to become an army officer. What can I do to become an army officer?</td>\n",
       "      <td>I am Priyanka from Bangalore . Now am in 10th std . When I go to college I should not get confused on what I want to take to become army officer. So I am asking this question  #military #army</td>\n",
       "    </tr>\n",
       "    <tr>\n",
       "      <th>2</th>\n",
       "      <td>4ec31632938a40b98909416bdd0decff</td>\n",
       "      <td>f2c179a563024ccc927399ce529094b5</td>\n",
       "      <td>2017-02-08 19:13:38 UTC+0000</td>\n",
       "      <td>Will going abroad for your first job increase your chances for jobs back home?</td>\n",
       "      <td>I'm planning on going abroad for my first job. It will be a teaching job and I don't have any serious career ideas. I don't know what job I would be working if I stay home instead so I'm assuming staying or leaving won't makeba huge difference in what I care about, unless I find something before my first job. I can think of ways that going abroad can be seen as good and bad. I do not know which side respectable employers willl side with. #working-abroad #employment- #overseas</td>\n",
       "    </tr>\n",
       "    <tr>\n",
       "      <th>3</th>\n",
       "      <td>2f6a9a99d9b24e5baa50d40d0ba50a75</td>\n",
       "      <td>2c30ffba444e40eabb4583b55233a5a4</td>\n",
       "      <td>2017-09-01 14:05:32 UTC+0000</td>\n",
       "      <td>To become a specialist in business  management, will I have to network myself?</td>\n",
       "      <td>i hear business management is a hard way to get a job if you're not known in the right areas. #business #networking</td>\n",
       "    </tr>\n",
       "    <tr>\n",
       "      <th>4</th>\n",
       "      <td>5af8880460c141dbb02971a1a8369529</td>\n",
       "      <td>aa9eb1a2ab184ebbb00dc01ab663428a</td>\n",
       "      <td>2017-09-01 02:36:54 UTC+0000</td>\n",
       "      <td>Are there any scholarships out there for students that are first generation and live in GA?</td>\n",
       "      <td>I'm trying to find scholarships for first year students but they all seem to be for other states besides GA. Any help??\\r\\n\\r\\n#college\\r\\n#scholarships \\r\\n#highschoolsenior \\r\\n#firstgeneration \\r\\n</td>\n",
       "    </tr>\n",
       "  </tbody>\n",
       "</table>\n",
       "</div>"
      ],
      "text/plain": [
       "                       questions_id               questions_author_id  \\\n",
       "0  332a511f1569444485cf7a7a556a5e54  8f6f374ffd834d258ab69d376dd998f5   \n",
       "1  eb80205482e4424cad8f16bc25aa2d9c  acccbda28edd4362ab03fb8b6fd2d67b   \n",
       "2  4ec31632938a40b98909416bdd0decff  f2c179a563024ccc927399ce529094b5   \n",
       "3  2f6a9a99d9b24e5baa50d40d0ba50a75  2c30ffba444e40eabb4583b55233a5a4   \n",
       "4  5af8880460c141dbb02971a1a8369529  aa9eb1a2ab184ebbb00dc01ab663428a   \n",
       "\n",
       "           questions_date_added  \\\n",
       "0  2016-04-26 11:14:26 UTC+0000   \n",
       "1  2016-05-20 16:48:25 UTC+0000   \n",
       "2  2017-02-08 19:13:38 UTC+0000   \n",
       "3  2017-09-01 14:05:32 UTC+0000   \n",
       "4  2017-09-01 02:36:54 UTC+0000   \n",
       "\n",
       "                                                                               questions_title  \\\n",
       "0  Teacher   career   question                                                                   \n",
       "1  I want to become an army officer. What can I do to become an army officer?                    \n",
       "2  Will going abroad for your first job increase your chances for jobs back home?                \n",
       "3  To become a specialist in business  management, will I have to network myself?                \n",
       "4  Are there any scholarships out there for students that are first generation and live in GA?   \n",
       "\n",
       "                                                                                                                                                                                                                                                                                                                                                                                                                                                                                     questions_body  \n",
       "0  What  is  a  maths  teacher?   what  is  a  maths  teacher  useful? #college #professor #lecture                                                                                                                                                                                                                                                                                                                                                                                                  \n",
       "1  I am Priyanka from Bangalore . Now am in 10th std . When I go to college I should not get confused on what I want to take to become army officer. So I am asking this question  #military #army                                                                                                                                                                                                                                                                                                   \n",
       "2  I'm planning on going abroad for my first job. It will be a teaching job and I don't have any serious career ideas. I don't know what job I would be working if I stay home instead so I'm assuming staying or leaving won't makeba huge difference in what I care about, unless I find something before my first job. I can think of ways that going abroad can be seen as good and bad. I do not know which side respectable employers willl side with. #working-abroad #employment- #overseas  \n",
       "3  i hear business management is a hard way to get a job if you're not known in the right areas. #business #networking                                                                                                                                                                                                                                                                                                                                                                               \n",
       "4  I'm trying to find scholarships for first year students but they all seem to be for other states besides GA. Any help??\\r\\n\\r\\n#college\\r\\n#scholarships \\r\\n#highschoolsenior \\r\\n#firstgeneration \\r\\n                                                                                                                                                                                                                                                                                          "
      ]
     },
     "execution_count": 7,
     "metadata": {},
     "output_type": "execute_result"
    }
   ],
   "source": [
    "qs.head()"
   ]
  },
  {
   "cell_type": "code",
   "execution_count": 8,
   "metadata": {},
   "outputs": [
    {
     "data": {
      "text/html": [
       "<div>\n",
       "<style scoped>\n",
       "    .dataframe tbody tr th:only-of-type {\n",
       "        vertical-align: middle;\n",
       "    }\n",
       "\n",
       "    .dataframe tbody tr th {\n",
       "        vertical-align: top;\n",
       "    }\n",
       "\n",
       "    .dataframe thead th {\n",
       "        text-align: right;\n",
       "    }\n",
       "</style>\n",
       "<table border=\"1\" class=\"dataframe\">\n",
       "  <thead>\n",
       "    <tr style=\"text-align: right;\">\n",
       "      <th></th>\n",
       "      <th>tags_tag_id</th>\n",
       "      <th>tags_tag_name</th>\n",
       "    </tr>\n",
       "  </thead>\n",
       "  <tbody>\n",
       "    <tr>\n",
       "      <th>0</th>\n",
       "      <td>27490</td>\n",
       "      <td>college</td>\n",
       "    </tr>\n",
       "    <tr>\n",
       "      <th>1</th>\n",
       "      <td>461</td>\n",
       "      <td>computer-science</td>\n",
       "    </tr>\n",
       "    <tr>\n",
       "      <th>2</th>\n",
       "      <td>593</td>\n",
       "      <td>computer-software</td>\n",
       "    </tr>\n",
       "    <tr>\n",
       "      <th>3</th>\n",
       "      <td>27292</td>\n",
       "      <td>business</td>\n",
       "    </tr>\n",
       "    <tr>\n",
       "      <th>4</th>\n",
       "      <td>18217</td>\n",
       "      <td>doctor</td>\n",
       "    </tr>\n",
       "  </tbody>\n",
       "</table>\n",
       "</div>"
      ],
      "text/plain": [
       "   tags_tag_id      tags_tag_name\n",
       "0  27490        college          \n",
       "1  461          computer-science \n",
       "2  593          computer-software\n",
       "3  27292        business         \n",
       "4  18217        doctor           "
      ]
     },
     "execution_count": 8,
     "metadata": {},
     "output_type": "execute_result"
    }
   ],
   "source": [
    "tags.head()"
   ]
  },
  {
   "cell_type": "code",
   "execution_count": 9,
   "metadata": {},
   "outputs": [
    {
     "data": {
      "text/html": [
       "<div>\n",
       "<style scoped>\n",
       "    .dataframe tbody tr th:only-of-type {\n",
       "        vertical-align: middle;\n",
       "    }\n",
       "\n",
       "    .dataframe tbody tr th {\n",
       "        vertical-align: top;\n",
       "    }\n",
       "\n",
       "    .dataframe thead th {\n",
       "        text-align: right;\n",
       "    }\n",
       "</style>\n",
       "<table border=\"1\" class=\"dataframe\">\n",
       "  <thead>\n",
       "    <tr style=\"text-align: right;\">\n",
       "      <th></th>\n",
       "      <th>tag_questions_tag_id</th>\n",
       "      <th>tag_questions_question_id</th>\n",
       "    </tr>\n",
       "  </thead>\n",
       "  <tbody>\n",
       "    <tr>\n",
       "      <th>0</th>\n",
       "      <td>28930</td>\n",
       "      <td>cb43ebee01364c68ac61d347a393ae39</td>\n",
       "    </tr>\n",
       "    <tr>\n",
       "      <th>1</th>\n",
       "      <td>28930</td>\n",
       "      <td>47f55e85ce944242a5a347ab85a8ffb4</td>\n",
       "    </tr>\n",
       "    <tr>\n",
       "      <th>2</th>\n",
       "      <td>28930</td>\n",
       "      <td>ccc30a033a0f4dfdb2eb987012f25792</td>\n",
       "    </tr>\n",
       "    <tr>\n",
       "      <th>3</th>\n",
       "      <td>28930</td>\n",
       "      <td>e30b274e48d741f7bf50eb5e7171a3c0</td>\n",
       "    </tr>\n",
       "    <tr>\n",
       "      <th>4</th>\n",
       "      <td>28930</td>\n",
       "      <td>3d22742052df4989b311b4195cbb0f1a</td>\n",
       "    </tr>\n",
       "  </tbody>\n",
       "</table>\n",
       "</div>"
      ],
      "text/plain": [
       "   tag_questions_tag_id         tag_questions_question_id\n",
       "0  28930                 cb43ebee01364c68ac61d347a393ae39\n",
       "1  28930                 47f55e85ce944242a5a347ab85a8ffb4\n",
       "2  28930                 ccc30a033a0f4dfdb2eb987012f25792\n",
       "3  28930                 e30b274e48d741f7bf50eb5e7171a3c0\n",
       "4  28930                 3d22742052df4989b311b4195cbb0f1a"
      ]
     },
     "execution_count": 9,
     "metadata": {},
     "output_type": "execute_result"
    }
   ],
   "source": [
    "qs_tags.head()"
   ]
  },
  {
   "cell_type": "code",
   "execution_count": 31,
   "metadata": {},
   "outputs": [],
   "source": [
    "# Concentrate tags to questions\n",
    "\n",
    "qs_tagnames= pd.merge(qs_tags,tags,left_on='tag_questions_tag_id',right_on='tags_tag_id')\n",
    "qs_tagnames=qs_tagnames.drop(['tags_tag_id','tag_questions_tag_id'],axis=1)\n",
    "\n",
    "qs_tag_pivot=qs_tagnames.pivot_table(index='tag_questions_question_id',values='tags_tag_name',aggfunc=lambda x: \" \".join(x))\n",
    "qs_tag_pivot['tag_questions_question_id']=qs_tag_pivot.index\n",
    "\n",
    "qs_tag_pivot=qs_tag_pivot.reset_index(drop=True)\n"
   ]
  },
  {
   "cell_type": "code",
   "execution_count": 32,
   "metadata": {},
   "outputs": [
    {
     "data": {
      "text/html": [
       "<div>\n",
       "<style scoped>\n",
       "    .dataframe tbody tr th:only-of-type {\n",
       "        vertical-align: middle;\n",
       "    }\n",
       "\n",
       "    .dataframe tbody tr th {\n",
       "        vertical-align: top;\n",
       "    }\n",
       "\n",
       "    .dataframe thead th {\n",
       "        text-align: right;\n",
       "    }\n",
       "</style>\n",
       "<table border=\"1\" class=\"dataframe\">\n",
       "  <thead>\n",
       "    <tr style=\"text-align: right;\">\n",
       "      <th></th>\n",
       "      <th>tags_tag_name</th>\n",
       "      <th>tag_questions_question_id</th>\n",
       "    </tr>\n",
       "  </thead>\n",
       "  <tbody>\n",
       "    <tr>\n",
       "      <th>0</th>\n",
       "      <td>internship technology high-school information-technology majoring time</td>\n",
       "      <td>0003e7bf48f24b5c985f8fce96e611f3</td>\n",
       "    </tr>\n",
       "    <tr>\n",
       "      <th>1</th>\n",
       "      <td>psychology law</td>\n",
       "      <td>0006609dd4da40dcaa5a83e0499aba14</td>\n",
       "    </tr>\n",
       "    <tr>\n",
       "      <th>2</th>\n",
       "      <td>biology marine</td>\n",
       "      <td>000af224bc2f4e94a19f8b62ba279cc4</td>\n",
       "    </tr>\n",
       "    <tr>\n",
       "      <th>3</th>\n",
       "      <td>teaching exercise-science school exercise</td>\n",
       "      <td>000b30fb534b41f7b716fa9ebf9c3f35</td>\n",
       "    </tr>\n",
       "    <tr>\n",
       "      <th>4</th>\n",
       "      <td>math puremathematics</td>\n",
       "      <td>0018752e44b44e26bb74a0a43232b4d6</td>\n",
       "    </tr>\n",
       "  </tbody>\n",
       "</table>\n",
       "</div>"
      ],
      "text/plain": [
       "                                                            tags_tag_name  \\\n",
       "0  internship technology high-school information-technology majoring time   \n",
       "1  psychology law                                                           \n",
       "2  biology marine                                                           \n",
       "3  teaching exercise-science school exercise                                \n",
       "4  math puremathematics                                                     \n",
       "\n",
       "          tag_questions_question_id  \n",
       "0  0003e7bf48f24b5c985f8fce96e611f3  \n",
       "1  0006609dd4da40dcaa5a83e0499aba14  \n",
       "2  000af224bc2f4e94a19f8b62ba279cc4  \n",
       "3  000b30fb534b41f7b716fa9ebf9c3f35  \n",
       "4  0018752e44b44e26bb74a0a43232b4d6  "
      ]
     },
     "execution_count": 32,
     "metadata": {},
     "output_type": "execute_result"
    }
   ],
   "source": [
    "qs_tag_pivot.head()"
   ]
  },
  {
   "cell_type": "code",
   "execution_count": 33,
   "metadata": {},
   "outputs": [
    {
     "name": "stdout",
     "output_type": "stream",
     "text": [
      "Number of questions with tags: 23288\n"
     ]
    },
    {
     "data": {
      "text/html": [
       "<div>\n",
       "<style scoped>\n",
       "    .dataframe tbody tr th:only-of-type {\n",
       "        vertical-align: middle;\n",
       "    }\n",
       "\n",
       "    .dataframe tbody tr th {\n",
       "        vertical-align: top;\n",
       "    }\n",
       "\n",
       "    .dataframe thead th {\n",
       "        text-align: right;\n",
       "    }\n",
       "</style>\n",
       "<table border=\"1\" class=\"dataframe\">\n",
       "  <thead>\n",
       "    <tr style=\"text-align: right;\">\n",
       "      <th></th>\n",
       "      <th>questions_id</th>\n",
       "      <th>questions_author_id</th>\n",
       "      <th>questions_date_added</th>\n",
       "      <th>questions_title</th>\n",
       "      <th>questions_body</th>\n",
       "      <th>tags_tag_name</th>\n",
       "      <th>tag_questions_question_id</th>\n",
       "    </tr>\n",
       "  </thead>\n",
       "  <tbody>\n",
       "    <tr>\n",
       "      <th>0</th>\n",
       "      <td>332a511f1569444485cf7a7a556a5e54</td>\n",
       "      <td>8f6f374ffd834d258ab69d376dd998f5</td>\n",
       "      <td>2016-04-26 11:14:26 UTC+0000</td>\n",
       "      <td>Teacher   career   question</td>\n",
       "      <td>What  is  a  maths  teacher?   what  is  a  maths  teacher  useful? #college #professor #lecture</td>\n",
       "      <td>lecture college professor</td>\n",
       "      <td>332a511f1569444485cf7a7a556a5e54</td>\n",
       "    </tr>\n",
       "    <tr>\n",
       "      <th>1</th>\n",
       "      <td>eb80205482e4424cad8f16bc25aa2d9c</td>\n",
       "      <td>acccbda28edd4362ab03fb8b6fd2d67b</td>\n",
       "      <td>2016-05-20 16:48:25 UTC+0000</td>\n",
       "      <td>I want to become an army officer. What can I do to become an army officer?</td>\n",
       "      <td>I am Priyanka from Bangalore . Now am in 10th std . When I go to college I should not get confused on what I want to take to become army officer. So I am asking this question  #military #army</td>\n",
       "      <td>military army</td>\n",
       "      <td>eb80205482e4424cad8f16bc25aa2d9c</td>\n",
       "    </tr>\n",
       "  </tbody>\n",
       "</table>\n",
       "</div>"
      ],
      "text/plain": [
       "                       questions_id               questions_author_id  \\\n",
       "0  332a511f1569444485cf7a7a556a5e54  8f6f374ffd834d258ab69d376dd998f5   \n",
       "1  eb80205482e4424cad8f16bc25aa2d9c  acccbda28edd4362ab03fb8b6fd2d67b   \n",
       "\n",
       "           questions_date_added  \\\n",
       "0  2016-04-26 11:14:26 UTC+0000   \n",
       "1  2016-05-20 16:48:25 UTC+0000   \n",
       "\n",
       "                                                              questions_title  \\\n",
       "0  Teacher   career   question                                                  \n",
       "1  I want to become an army officer. What can I do to become an army officer?   \n",
       "\n",
       "                                                                                                                                                                                    questions_body  \\\n",
       "0  What  is  a  maths  teacher?   what  is  a  maths  teacher  useful? #college #professor #lecture                                                                                                  \n",
       "1  I am Priyanka from Bangalore . Now am in 10th std . When I go to college I should not get confused on what I want to take to become army officer. So I am asking this question  #military #army   \n",
       "\n",
       "               tags_tag_name         tag_questions_question_id  \n",
       "0  lecture college professor  332a511f1569444485cf7a7a556a5e54  \n",
       "1  military army              eb80205482e4424cad8f16bc25aa2d9c  "
      ]
     },
     "execution_count": 33,
     "metadata": {},
     "output_type": "execute_result"
    }
   ],
   "source": [
    "# Combine question table with tags\n",
    "\n",
    "qs_with_tags=pd.merge(qs,qs_tag_pivot,left_on='questions_id',right_on='tag_questions_question_id')\n",
    "print(\"Number of questions with tags:\",len(qs_with_tags))\n",
    "qs_with_tags.head(2)"
   ]
  },
  {
   "cell_type": "code",
   "execution_count": 14,
   "metadata": {},
   "outputs": [
    {
     "data": {
      "text/plain": [
       "0    Teacher   career   questionWhat  is  a  maths  teacher?   what  is  a  maths  teacher  useful? #college #professor #lecturelecture college professor                                                                                                                                                                                                                                                                                                                                                                                                                                                 \n",
       "1    I want to become an army officer. What can I do to become an army officer?I am Priyanka from Bangalore . Now am in 10th std . When I go to college I should not get confused on what I want to take to become army officer. So I am asking this question  #military #armymilitary army                                                                                                                                                                                                                                                                                                               \n",
       "2    Will going abroad for your first job increase your chances for jobs back home?I'm planning on going abroad for my first job. It will be a teaching job and I don't have any serious career ideas. I don't know what job I would be working if I stay home instead so I'm assuming staying or leaving won't makeba huge difference in what I care about, unless I find something before my first job. I can think of ways that going abroad can be seen as good and bad. I do not know which side respectable employers willl side with. #working-abroad #employment- #overseasoverseas working-abroad\n",
       "3    To become a specialist in business  management, will I have to network myself?i hear business management is a hard way to get a job if you're not known in the right areas. #business #networking networking business                                                                                                                                                                                                                                                                                                                                                                                \n",
       "4    Are there any scholarships out there for students that are first generation and live in GA?I'm trying to find scholarships for first year students but they all seem to be for other states besides GA. Any help??\\r\\n\\r\\n#college\\r\\n#scholarships \\r\\n#highschoolsenior \\r\\n#firstgeneration \\r\\nscholarships highschoolsenior college firstgeneration                                                                                                                                                                                                                                             \n",
       "dtype: object"
      ]
     },
     "execution_count": 14,
     "metadata": {},
     "output_type": "execute_result"
    }
   ],
   "source": [
    "# Combine question title, body, and tags\n",
    "\n",
    "raw_documents=qs_with_tags['questions_title']+qs_with_tags['questions_body']+qs_with_tags['tags_tag_name']\n",
    "raw_documents.head()"
   ]
  },
  {
   "cell_type": "markdown",
   "metadata": {},
   "source": [
    "### Text Processing"
   ]
  },
  {
   "cell_type": "code",
   "execution_count": 34,
   "metadata": {},
   "outputs": [
    {
     "name": "stdout",
     "output_type": "stream",
     "text": [
      "Number of Questions: 23288\n",
      "Processing Completed!\n"
     ]
    }
   ],
   "source": [
    "print(\"Number of Questions:\",len(raw_documents))\n",
    "\n",
    "#Tokenizing data\n",
    "gen_docs = [[w.lower() for w in word_tokenize(text)] \n",
    "            for text in raw_documents]\n",
    "\n",
    "# Create dictionary\n",
    "dictionary = gensim.corpora.Dictionary(gen_docs)\n",
    "\n",
    "# Creat Document-Term Matrix\n",
    "corpus = [dictionary.doc2bow(gen_doc) for gen_doc in gen_docs]\n",
    "\n",
    "# Creat TF-IDF Model\n",
    "tf_idf = gensim.models.TfidfModel(corpus)\n",
    "\n",
    "# Creat Similarity Checker\n",
    "similar_qs = gensim.similarities.Similarity(\"\",tf_idf[corpus],num_features=len(dictionary))\n",
    "\n",
    "print(\"Processing Completed!\")"
   ]
  },
  {
   "cell_type": "code",
   "execution_count": 109,
   "metadata": {},
   "outputs": [
    {
     "data": {
      "text/plain": [
       "'How many years in total would it take to become an Emergency Physician?'"
      ]
     },
     "execution_count": 109,
     "metadata": {},
     "output_type": "execute_result"
    }
   ],
   "source": [
    "# New questions posted\n",
    "# Query='Can I become data scientist without studying at university?#technology #data-science'\n",
    "# Query = 'Is geology a good major?'\n",
    "Query = 'How many years in total would it take to become an Emergency Physician?'\n",
    "Query"
   ]
  },
  {
   "cell_type": "code",
   "execution_count": 110,
   "metadata": {},
   "outputs": [],
   "source": [
    "query_doc = [w.lower() for w in word_tokenize(Query)]\n",
    "query_doc_bow = dictionary.doc2bow(query_doc)\n",
    "query_doc_tf_idf = tf_idf[query_doc_bow]"
   ]
  },
  {
   "cell_type": "code",
   "execution_count": 111,
   "metadata": {},
   "outputs": [],
   "source": [
    "q_sim=similar_qs[query_doc_tf_idf]"
   ]
  },
  {
   "cell_type": "code",
   "execution_count": 112,
   "metadata": {},
   "outputs": [],
   "source": [
    "sim_threshold=0.10"
   ]
  },
  {
   "cell_type": "code",
   "execution_count": 113,
   "metadata": {},
   "outputs": [
    {
     "data": {
      "text/html": [
       "<div>\n",
       "<style scoped>\n",
       "    .dataframe tbody tr th:only-of-type {\n",
       "        vertical-align: middle;\n",
       "    }\n",
       "\n",
       "    .dataframe tbody tr th {\n",
       "        vertical-align: top;\n",
       "    }\n",
       "\n",
       "    .dataframe thead th {\n",
       "        text-align: right;\n",
       "    }\n",
       "</style>\n",
       "<table border=\"1\" class=\"dataframe\">\n",
       "  <thead>\n",
       "    <tr style=\"text-align: right;\">\n",
       "      <th></th>\n",
       "      <th>questions_id</th>\n",
       "      <th>questions_author_id</th>\n",
       "      <th>questions_date_added</th>\n",
       "      <th>questions_title</th>\n",
       "      <th>questions_body</th>\n",
       "      <th>tags_tag_name</th>\n",
       "      <th>tag_questions_question_id</th>\n",
       "      <th>Similarity</th>\n",
       "    </tr>\n",
       "  </thead>\n",
       "  <tbody>\n",
       "    <tr>\n",
       "      <th>136</th>\n",
       "      <td>6eeabcf49fb94f5eae61a9febb21307e</td>\n",
       "      <td>bba963d2034c4b449cd1583f58cfada0</td>\n",
       "      <td>2018-01-12 20:45:53 UTC+0000</td>\n",
       "      <td>How many years in total would it take to become an Emergency Physician?</td>\n",
       "      <td>#medicine  #erdoctor  #hospital  #healthcare</td>\n",
       "      <td>medicine healthcare hospital erdoctor</td>\n",
       "      <td>6eeabcf49fb94f5eae61a9febb21307e</td>\n",
       "      <td>0.465809</td>\n",
       "    </tr>\n",
       "    <tr>\n",
       "      <th>5287</th>\n",
       "      <td>5a1d846157254bcf9c3907735f0fbbca</td>\n",
       "      <td>b7bc5589f036447dbb250f300e890780</td>\n",
       "      <td>2018-08-12 19:36:08 UTC+0000</td>\n",
       "      <td>How many years of school to I have to go through in total if i want to become a Pediatrician</td>\n",
       "      <td>How many years beyond a 4-year Bachelor Degree?  Like how many years of Med School will I have to go through? #doctor</td>\n",
       "      <td>doctor</td>\n",
       "      <td>5a1d846157254bcf9c3907735f0fbbca</td>\n",
       "      <td>0.361321</td>\n",
       "    </tr>\n",
       "    <tr>\n",
       "      <th>21378</th>\n",
       "      <td>a8bb9d19bc5946eda29dcf4f2e0c7545</td>\n",
       "      <td>93f209fd2b354bf5b9a961bb88bcacb9</td>\n",
       "      <td>2018-01-10 18:29:57 UTC+0000</td>\n",
       "      <td>How many years in total after your bachelors do you need to accomplish to become a medical doctor?</td>\n",
       "      <td>i find the study of medicine very interesting but the amount of time and money required seems a bit much, so i was wondering the amount total needed. #medical-doctor #time-needed</td>\n",
       "      <td>medical-doctor time-needed</td>\n",
       "      <td>a8bb9d19bc5946eda29dcf4f2e0c7545</td>\n",
       "      <td>0.343871</td>\n",
       "    </tr>\n",
       "    <tr>\n",
       "      <th>9271</th>\n",
       "      <td>378da016e25a48148cdca5bcfe717e9d</td>\n",
       "      <td>b6a06bb48d034d20bd126debd9481b81</td>\n",
       "      <td>2016-06-22 22:13:22 UTC+0000</td>\n",
       "      <td>What does it take to become a physician?</td>\n",
       "      <td>I am asking because I want to be a physician. #physician</td>\n",
       "      <td>physician</td>\n",
       "      <td>378da016e25a48148cdca5bcfe717e9d</td>\n",
       "      <td>0.328362</td>\n",
       "    </tr>\n",
       "    <tr>\n",
       "      <th>921</th>\n",
       "      <td>cf5bd8f5594b42f4a02fa6580948eb6d</td>\n",
       "      <td>b56a0374462f4d7e9d786315828fb57e</td>\n",
       "      <td>2013-08-12 17:26:02 UTC+0000</td>\n",
       "      <td>What are some of the ups and downs of being a emergency nurse?</td>\n",
       "      <td>I am a sophomore who is interested in learning about all the different jobs in the medical field. Is being an emergency nurse fun or difficult? What is a typical day like? What is a bad part?  #medicine #nurse #healthcare #emergency</td>\n",
       "      <td>medicine nurse healthcare emergency</td>\n",
       "      <td>cf5bd8f5594b42f4a02fa6580948eb6d</td>\n",
       "      <td>0.310554</td>\n",
       "    </tr>\n",
       "  </tbody>\n",
       "</table>\n",
       "</div>"
      ],
      "text/plain": [
       "                           questions_id               questions_author_id  \\\n",
       "136    6eeabcf49fb94f5eae61a9febb21307e  bba963d2034c4b449cd1583f58cfada0   \n",
       "5287   5a1d846157254bcf9c3907735f0fbbca  b7bc5589f036447dbb250f300e890780   \n",
       "21378  a8bb9d19bc5946eda29dcf4f2e0c7545  93f209fd2b354bf5b9a961bb88bcacb9   \n",
       "9271   378da016e25a48148cdca5bcfe717e9d  b6a06bb48d034d20bd126debd9481b81   \n",
       "921    cf5bd8f5594b42f4a02fa6580948eb6d  b56a0374462f4d7e9d786315828fb57e   \n",
       "\n",
       "               questions_date_added  \\\n",
       "136    2018-01-12 20:45:53 UTC+0000   \n",
       "5287   2018-08-12 19:36:08 UTC+0000   \n",
       "21378  2018-01-10 18:29:57 UTC+0000   \n",
       "9271   2016-06-22 22:13:22 UTC+0000   \n",
       "921    2013-08-12 17:26:02 UTC+0000   \n",
       "\n",
       "                                                                                          questions_title  \\\n",
       "136    How many years in total would it take to become an Emergency Physician?                              \n",
       "5287   How many years of school to I have to go through in total if i want to become a Pediatrician         \n",
       "21378  How many years in total after your bachelors do you need to accomplish to become a medical doctor?   \n",
       "9271   What does it take to become a physician?                                                             \n",
       "921    What are some of the ups and downs of being a emergency nurse?                                       \n",
       "\n",
       "                                                                                                                                                                                                                                 questions_body  \\\n",
       "136    #medicine  #erdoctor  #hospital  #healthcare                                                                                                                                                                                               \n",
       "5287   How many years beyond a 4-year Bachelor Degree?  Like how many years of Med School will I have to go through? #doctor                                                                                                                      \n",
       "21378  i find the study of medicine very interesting but the amount of time and money required seems a bit much, so i was wondering the amount total needed. #medical-doctor #time-needed                                                         \n",
       "9271   I am asking because I want to be a physician. #physician                                                                                                                                                                                   \n",
       "921    I am a sophomore who is interested in learning about all the different jobs in the medical field. Is being an emergency nurse fun or difficult? What is a typical day like? What is a bad part?  #medicine #nurse #healthcare #emergency   \n",
       "\n",
       "                               tags_tag_name  \\\n",
       "136    medicine healthcare hospital erdoctor   \n",
       "5287   doctor                                  \n",
       "21378  medical-doctor time-needed              \n",
       "9271   physician                               \n",
       "921    medicine nurse healthcare emergency     \n",
       "\n",
       "              tag_questions_question_id  Similarity  \n",
       "136    6eeabcf49fb94f5eae61a9febb21307e  0.465809    \n",
       "5287   5a1d846157254bcf9c3907735f0fbbca  0.361321    \n",
       "21378  a8bb9d19bc5946eda29dcf4f2e0c7545  0.343871    \n",
       "9271   378da016e25a48148cdca5bcfe717e9d  0.328362    \n",
       "921    cf5bd8f5594b42f4a02fa6580948eb6d  0.310554    "
      ]
     },
     "execution_count": 113,
     "metadata": {},
     "output_type": "execute_result"
    }
   ],
   "source": [
    "# Display similar questions from the past:\n",
    "\n",
    "qs_with_tags['Similarity']=q_sim\n",
    "ques=qs_with_tags[qs_with_tags['Similarity']>=sim_threshold]\n",
    "ques=ques.sort_values('Similarity',ascending=False)\n",
    "ques.head()"
   ]
  },
  {
   "cell_type": "markdown",
   "metadata": {},
   "source": [
    "## Web Scrapping from Quora"
   ]
  },
  {
   "cell_type": "code",
   "execution_count": 116,
   "metadata": {},
   "outputs": [
    {
     "name": "stdout",
     "output_type": "stream",
     "text": [
      "https://www.quora.com/What-should-I-learn-in-data-science-in-100-hours-I-am-free-for-the-next-10-days-and-would-like-to-learn-whatever-I-can-in-the-next-10-days-and-I-can-put-in-10-hours-a-day-What-can-I-learn-to-get-a-hang-of-it-and-get-started\n",
      "https://www.quora.com/How-can-I-become-a-data-scientist-1\n",
      "https://www.quora.com/How-do-I-get-a-job-as-a-data-scientist-if-I-have-no-prior-experience-It-seems-like-Kaggle-is-either-meaningless-or-an-ineffective-route-to-becoming-a-data-scientist-I-was-also-told-there-is-no-point-in-putting-up-my-code-on-GitHub\n",
      "https://www.quora.com/How-can-I-become-a-data-scientist-1\n",
      "https://www.quora.com/Why-do-so-many-statisticians-not-want-to-become-data-scientists-Why-are-they-not-interested-in-Big-Data\n",
      "https://www.quora.com/How-can-you-set-yourself-apart-when-everyone-is-doing-machine-learning-or-data-science-in-2019\n",
      "https://www.quora.com/As-a-data-scientist-what-career-advice-changed-your-life\n",
      "https://www.quora.com/As-a-data-scientist-what-tips-would-you-have-for-a-younger-version-of-yourself\n",
      "https://www.quora.com/What-should-a-resume-look-like-for-an-entry-level-data-scientist\n",
      "https://www.quora.com/What-are-20-questions-to-detect-fake-data-scientists-The-answers-should-contain-math-formulas-or-a-few-lines-of-code-not-just-vague-generalizations\n"
     ]
    }
   ],
   "source": [
    "import time\n",
    "from selenium import webdriver\n",
    "from selenium.webdriver.common.keys import Keys\n",
    "import csv\n",
    "browser = webdriver.Chrome(executable_path='C:/Users/glin/Desktop/YQ/Capstone/data-science-for-good-careervillage/chromedriver_win32/chromedriver.exe')\n",
    "browser.get(\"https://www.quora.com/topic/Data-Science\")\n",
    "time.sleep(1)\n",
    "elem = browser.find_element_by_tag_name(\"body\")\n",
    "no_of_pagedowns = 5\n",
    "while no_of_pagedowns:\n",
    "    elem.send_keys(Keys.PAGE_DOWN)\n",
    "    time.sleep(0.2)\n",
    "    no_of_pagedowns-=1\n",
    "post_elems =browser.find_elements_by_xpath(\"//a[@class='question_link']\")\n",
    "for post in post_elems:\n",
    "    print(post.get_attribute(\"href\"))"
   ]
  },
  {
   "cell_type": "code",
   "execution_count": 98,
   "metadata": {},
   "outputs": [],
   "source": []
  },
  {
   "cell_type": "code",
   "execution_count": 102,
   "metadata": {},
   "outputs": [
    {
     "name": "stdout",
     "output_type": "stream",
     "text": [
      "In crawlTopicHierarchy()...\n",
      "Current url:http://www.quora.com/Preventive-Medicine?share=1 current depth:0 depth:0\n",
      "Preventive-Medicine\n"
     ]
    },
    {
     "ename": "WebDriverException",
     "evalue": "Message: 'chromedriver' executable needs to be in PATH. Please see https://sites.google.com/a/chromium.org/chromedriver/home\n",
     "output_type": "error",
     "traceback": [
      "\u001b[1;31m---------------------------------------------------------------------------\u001b[0m",
      "\u001b[1;31mFileNotFoundError\u001b[0m                         Traceback (most recent call last)",
      "\u001b[1;32m~\\AppData\\Local\\Continuum\\anaconda3.2\\lib\\site-packages\\selenium\\webdriver\\common\\service.py\u001b[0m in \u001b[0;36mstart\u001b[1;34m(self)\u001b[0m\n\u001b[0;32m     75\u001b[0m                                             \u001b[0mstderr\u001b[0m\u001b[1;33m=\u001b[0m\u001b[0mself\u001b[0m\u001b[1;33m.\u001b[0m\u001b[0mlog_file\u001b[0m\u001b[1;33m,\u001b[0m\u001b[1;33m\u001b[0m\u001b[1;33m\u001b[0m\u001b[0m\n\u001b[1;32m---> 76\u001b[1;33m                                             stdin=PIPE)\n\u001b[0m\u001b[0;32m     77\u001b[0m         \u001b[1;32mexcept\u001b[0m \u001b[0mTypeError\u001b[0m\u001b[1;33m:\u001b[0m\u001b[1;33m\u001b[0m\u001b[1;33m\u001b[0m\u001b[0m\n",
      "\u001b[1;32m~\\AppData\\Local\\Continuum\\anaconda3.2\\lib\\subprocess.py\u001b[0m in \u001b[0;36m__init__\u001b[1;34m(self, args, bufsize, executable, stdin, stdout, stderr, preexec_fn, close_fds, shell, cwd, env, universal_newlines, startupinfo, creationflags, restore_signals, start_new_session, pass_fds, encoding, errors, text)\u001b[0m\n\u001b[0;32m    774\u001b[0m                                 \u001b[0merrread\u001b[0m\u001b[1;33m,\u001b[0m \u001b[0merrwrite\u001b[0m\u001b[1;33m,\u001b[0m\u001b[1;33m\u001b[0m\u001b[1;33m\u001b[0m\u001b[0m\n\u001b[1;32m--> 775\u001b[1;33m                                 restore_signals, start_new_session)\n\u001b[0m\u001b[0;32m    776\u001b[0m         \u001b[1;32mexcept\u001b[0m\u001b[1;33m:\u001b[0m\u001b[1;33m\u001b[0m\u001b[1;33m\u001b[0m\u001b[0m\n",
      "\u001b[1;32m~\\AppData\\Local\\Continuum\\anaconda3.2\\lib\\subprocess.py\u001b[0m in \u001b[0;36m_execute_child\u001b[1;34m(self, args, executable, preexec_fn, close_fds, pass_fds, cwd, env, startupinfo, creationflags, shell, p2cread, p2cwrite, c2pread, c2pwrite, errread, errwrite, unused_restore_signals, unused_start_new_session)\u001b[0m\n\u001b[0;32m   1177\u001b[0m                                          \u001b[0mos\u001b[0m\u001b[1;33m.\u001b[0m\u001b[0mfspath\u001b[0m\u001b[1;33m(\u001b[0m\u001b[0mcwd\u001b[0m\u001b[1;33m)\u001b[0m \u001b[1;32mif\u001b[0m \u001b[0mcwd\u001b[0m \u001b[1;32mis\u001b[0m \u001b[1;32mnot\u001b[0m \u001b[1;32mNone\u001b[0m \u001b[1;32melse\u001b[0m \u001b[1;32mNone\u001b[0m\u001b[1;33m,\u001b[0m\u001b[1;33m\u001b[0m\u001b[1;33m\u001b[0m\u001b[0m\n\u001b[1;32m-> 1178\u001b[1;33m                                          startupinfo)\n\u001b[0m\u001b[0;32m   1179\u001b[0m             \u001b[1;32mfinally\u001b[0m\u001b[1;33m:\u001b[0m\u001b[1;33m\u001b[0m\u001b[1;33m\u001b[0m\u001b[0m\n",
      "\u001b[1;31mFileNotFoundError\u001b[0m: [WinError 2] The system cannot find the file specified",
      "\nDuring handling of the above exception, another exception occurred:\n",
      "\u001b[1;31mWebDriverException\u001b[0m                        Traceback (most recent call last)",
      "\u001b[1;32m<ipython-input-102-83ae5bc1f50c>\u001b[0m in \u001b[0;36m<module>\u001b[1;34m\u001b[0m\n\u001b[0;32m      2\u001b[0m \u001b[1;32mimport\u001b[0m \u001b[0mquoraCrawler2\u001b[0m\u001b[1;33m\u001b[0m\u001b[1;33m\u001b[0m\u001b[0m\n\u001b[0;32m      3\u001b[0m \u001b[1;31m# importlib.reload(quoraCrawler)\u001b[0m\u001b[1;33m\u001b[0m\u001b[1;33m\u001b[0m\u001b[1;33m\u001b[0m\u001b[0m\n\u001b[1;32m----> 4\u001b[1;33m \u001b[0mquoraCrawler2\u001b[0m\u001b[1;33m.\u001b[0m\u001b[0mcrawlTopicHierarchy\u001b[0m\u001b[1;33m(\u001b[0m\u001b[1;33m)\u001b[0m\u001b[1;33m\u001b[0m\u001b[1;33m\u001b[0m\u001b[0m\n\u001b[0m",
      "\u001b[1;32m~\\Desktop\\YQ\\Capstone\\data-science-for-good-careervillage\\quoraCrawler2.py\u001b[0m in \u001b[0;36mcrawlTopicHierarchy\u001b[1;34m()\u001b[0m\n\u001b[0;32m     59\u001b[0m \u001b[1;31m#         chromedriver = \"chromedriver\"   # Needed?\u001b[0m\u001b[1;33m\u001b[0m\u001b[1;33m\u001b[0m\u001b[1;33m\u001b[0m\u001b[0m\n\u001b[0;32m     60\u001b[0m \u001b[1;31m#         os.environ[\"webdriver.chrome.driver\"] = chromedriver    # Needed?\u001b[0m\u001b[1;33m\u001b[0m\u001b[1;33m\u001b[0m\u001b[1;33m\u001b[0m\u001b[0m\n\u001b[1;32m---> 61\u001b[1;33m         \u001b[0mbrowser\u001b[0m \u001b[1;33m=\u001b[0m \u001b[0mwebdriver\u001b[0m\u001b[1;33m.\u001b[0m\u001b[0mChrome\u001b[0m\u001b[1;33m(\u001b[0m\u001b[0mexecutable_path\u001b[0m\u001b[1;33m=\u001b[0m\u001b[1;34m'C:/Users/glin/Desktop/YQ/Capstone/data-science-for-good-careervillage/chromedriver_win32/chromedriver.exe'\u001b[0m\u001b[1;33m)\u001b[0m\u001b[1;33m\u001b[0m\u001b[1;33m\u001b[0m\u001b[0m\n\u001b[0m\u001b[0;32m     62\u001b[0m         \u001b[0mbrowser\u001b[0m\u001b[1;33m.\u001b[0m\u001b[0mget\u001b[0m\u001b[1;33m(\u001b[0m\u001b[0murl_about\u001b[0m\u001b[1;33m)\u001b[0m\u001b[1;33m\u001b[0m\u001b[1;33m\u001b[0m\u001b[0m\n\u001b[0;32m     63\u001b[0m \u001b[1;33m\u001b[0m\u001b[0m\n",
      "\u001b[1;32m~\\AppData\\Local\\Continuum\\anaconda3.2\\lib\\site-packages\\selenium\\webdriver\\chrome\\webdriver.py\u001b[0m in \u001b[0;36m__init__\u001b[1;34m(self, executable_path, port, options, service_args, desired_capabilities, service_log_path, chrome_options, keep_alive)\u001b[0m\n\u001b[0;32m     71\u001b[0m             \u001b[0mservice_args\u001b[0m\u001b[1;33m=\u001b[0m\u001b[0mservice_args\u001b[0m\u001b[1;33m,\u001b[0m\u001b[1;33m\u001b[0m\u001b[1;33m\u001b[0m\u001b[0m\n\u001b[0;32m     72\u001b[0m             log_path=service_log_path)\n\u001b[1;32m---> 73\u001b[1;33m         \u001b[0mself\u001b[0m\u001b[1;33m.\u001b[0m\u001b[0mservice\u001b[0m\u001b[1;33m.\u001b[0m\u001b[0mstart\u001b[0m\u001b[1;33m(\u001b[0m\u001b[1;33m)\u001b[0m\u001b[1;33m\u001b[0m\u001b[1;33m\u001b[0m\u001b[0m\n\u001b[0m\u001b[0;32m     74\u001b[0m \u001b[1;33m\u001b[0m\u001b[0m\n\u001b[0;32m     75\u001b[0m         \u001b[1;32mtry\u001b[0m\u001b[1;33m:\u001b[0m\u001b[1;33m\u001b[0m\u001b[1;33m\u001b[0m\u001b[0m\n",
      "\u001b[1;32m~\\AppData\\Local\\Continuum\\anaconda3.2\\lib\\site-packages\\selenium\\webdriver\\common\\service.py\u001b[0m in \u001b[0;36mstart\u001b[1;34m(self)\u001b[0m\n\u001b[0;32m     81\u001b[0m                 raise WebDriverException(\n\u001b[0;32m     82\u001b[0m                     \"'%s' executable needs to be in PATH. %s\" % (\n\u001b[1;32m---> 83\u001b[1;33m                         os.path.basename(self.path), self.start_error_message)\n\u001b[0m\u001b[0;32m     84\u001b[0m                 )\n\u001b[0;32m     85\u001b[0m             \u001b[1;32melif\u001b[0m \u001b[0merr\u001b[0m\u001b[1;33m.\u001b[0m\u001b[0merrno\u001b[0m \u001b[1;33m==\u001b[0m \u001b[0merrno\u001b[0m\u001b[1;33m.\u001b[0m\u001b[0mEACCES\u001b[0m\u001b[1;33m:\u001b[0m\u001b[1;33m\u001b[0m\u001b[1;33m\u001b[0m\u001b[0m\n",
      "\u001b[1;31mWebDriverException\u001b[0m: Message: 'chromedriver' executable needs to be in PATH. Please see https://sites.google.com/a/chromium.org/chromedriver/home\n"
     ]
    }
   ],
   "source": [
    "# import imporlib\n",
    "import quoraCrawler2\n",
    "# importlib.reload(quoraCrawler)\n",
    "quoraCrawler2.crawlTopicHierarchy()"
   ]
  }
 ],
 "metadata": {
  "kernelspec": {
   "display_name": "Python 3",
   "language": "python",
   "name": "python3"
  },
  "language_info": {
   "codemirror_mode": {
    "name": "ipython",
    "version": 3
   },
   "file_extension": ".py",
   "mimetype": "text/x-python",
   "name": "python",
   "nbconvert_exporter": "python",
   "pygments_lexer": "ipython3",
   "version": "3.7.3"
  }
 },
 "nbformat": 4,
 "nbformat_minor": 2
}
