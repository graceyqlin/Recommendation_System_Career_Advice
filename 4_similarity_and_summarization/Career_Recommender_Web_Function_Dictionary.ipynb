{
 "cells": [
  {
   "cell_type": "code",
   "execution_count": 2,
   "metadata": {},
   "outputs": [
    {
     "name": "stderr",
     "output_type": "stream",
     "text": [
      "[nltk_data] Downloading package punkt to /Users/lin/nltk_data...\n",
      "[nltk_data]   Package punkt is already up-to-date!\n"
     ]
    }
   ],
   "source": [
    "import os\n",
    "import re\n",
    "import math\n",
    "import random\n",
    "import warnings\n",
    "\n",
    "import numpy as np\n",
    "import pandas as pd\n",
    "\n",
    "import matplotlib.pyplot as plt\n",
    "import matplotlib.patches as mpatches\n",
    "import matplotlib.dates as mdates\n",
    "\n",
    "from matplotlib.pyplot import figure\n",
    "\n",
    "\n",
    "import networkx as nx\n",
    "import seaborn as sns\n",
    "\n",
    "from wordcloud import WordCloud\n",
    "from datetime import datetime\n",
    "from sklearn.feature_extraction.text import TfidfVectorizer\n",
    "from sklearn.metrics.pairwise import cosine_similarity\n",
    "\n",
    "import re\n",
    "import string\n",
    "import math\n",
    "import random\n",
    "from random import choice, choices\n",
    "import time\n",
    "import gc\n",
    "from IPython.display import display\n",
    "\n",
    "import nltk\n",
    "nltk.download('punkt')\n",
    "from nltk.stem import WordNetLemmatizer\n",
    "from nltk.corpus import stopwords\n",
    "\n",
    "from scipy.sparse import coo_matrix\n",
    "# import implicit\n",
    "\n",
    "import sys\n",
    "import warnings\n",
    "if not sys.warnoptions:\n",
    "    warnings.simplefilter(\"ignore\")\n",
    "    \n",
    "\n",
    "import os\n",
    "import gensim\n",
    "from nltk.tokenize import word_tokenize\n",
    "import dateutil.parser\n",
    "from datetime import datetime\n",
    "import matplotlib.pyplot as plt\n",
    "pd.set_option('display.max_colwidth', -1)\n",
    "\n",
    "%matplotlib inline\n"
   ]
  },
  {
   "cell_type": "code",
   "execution_count": 3,
   "metadata": {},
   "outputs": [],
   "source": [
    "#pro= pd.read_csv('professionals.csv')\n",
    "#stu=pd.read_csv(\"students.csv\")\n",
    "qs=pd.read_csv(\"questions.csv\")\n",
    "ans= pd.read_csv('answers.csv')\n",
    "#com= pd.read_csv('comments.csv')\n",
    "#email= pd.read_csv('emails.csv')\n",
    "#match= pd.read_csv('matches.csv')\n",
    "#school_mem= pd.read_csv('school_memberships.csv')\n",
    "tags= pd.read_csv('tags.csv')\n",
    "qs_tags=pd.read_csv('tag_questions.csv')\n",
    "#user_tag=pd.read_csv('tag_users.csv')\n",
    "occupation = pd.read_csv('occupation_corpus.csv')"
   ]
  },
  {
   "cell_type": "markdown",
   "metadata": {},
   "source": [
    "## Build out Recommender - Find Similar Questions"
   ]
  },
  {
   "cell_type": "markdown",
   "metadata": {},
   "source": [
    "Find similar questions that professionals have answered in the past so students don't need to post same questions. "
   ]
  },
  {
   "cell_type": "code",
   "execution_count": 4,
   "metadata": {},
   "outputs": [],
   "source": [
    "# Concentrate tags to questions\n",
    "\n",
    "qs_tagnames= pd.merge(qs_tags,tags,left_on='tag_questions_tag_id',right_on='tags_tag_id')\n",
    "qs_tagnames=qs_tagnames.drop(['tags_tag_id','tag_questions_tag_id'],axis=1)\n",
    "\n",
    "qs_tag_pivot=qs_tagnames.pivot_table(index='tag_questions_question_id',values='tags_tag_name',aggfunc=lambda x: \" \".join(x))\n",
    "qs_tag_pivot['tag_questions_question_id']=qs_tag_pivot.index\n",
    "\n",
    "qs_tag_pivot=qs_tag_pivot.reset_index(drop=True)\n",
    "\n",
    "# Combine question table with tags\n",
    "\n",
    "qs_with_tags=pd.merge(qs,qs_tag_pivot,left_on='questions_id',right_on='tag_questions_question_id')\n",
    "\n",
    "# Combine question title, body, and tags\n",
    "\n",
    "raw_documents=qs_with_tags['questions_title']+qs_with_tags['questions_body']+qs_with_tags['tags_tag_name']\n",
    "\n"
   ]
  },
  {
   "cell_type": "markdown",
   "metadata": {},
   "source": [
    "### Text Processing"
   ]
  },
  {
   "cell_type": "code",
   "execution_count": 5,
   "metadata": {},
   "outputs": [],
   "source": [
    "# print(\"Number of Questions:\",len(raw_documents))\n",
    "\n",
    "#Tokenizing data\n",
    "gen_docs = [[w.lower() for w in word_tokenize(text)] \n",
    "            for text in raw_documents]\n",
    "\n",
    "# Create dictionary\n",
    "dictionary = gensim.corpora.Dictionary(gen_docs)\n",
    "\n",
    "# Creat Document-Term Matrix\n",
    "corpus = [dictionary.doc2bow(gen_doc) for gen_doc in gen_docs]\n",
    "\n",
    "# Creat TF-IDF Model\n",
    "tf_idf = gensim.models.TfidfModel(corpus)\n",
    "\n",
    "# Creat Similarity Checker\n",
    "similar_qs = gensim.similarities.Similarity(\"\",tf_idf[corpus],num_features=len(dictionary))\n",
    "\n",
    "#print(\"Processing Completed!\")"
   ]
  },
  {
   "cell_type": "code",
   "execution_count": 6,
   "metadata": {},
   "outputs": [],
   "source": [
    "def recommendation(query):\n",
    "    query_doc = [w.lower() for w in word_tokenize(query)]\n",
    "    query_doc_bow = dictionary.doc2bow(query_doc)\n",
    "    query_doc_tf_idf = tf_idf[query_doc_bow]\n",
    "    q_sim=similar_qs[query_doc_tf_idf]\n",
    "    sim_threshold=0.10\n",
    "    \n",
    "    # Display similar questions from the past:\n",
    "\n",
    "    qs_with_tags['Similarity']=q_sim\n",
    "    ques=qs_with_tags[qs_with_tags['Similarity']>=sim_threshold]\n",
    "    ques=ques.sort_values('Similarity',ascending=False)\n",
    "    ques = ques[['questions_title', 'questions_body']]\n",
    "    return ques.head()\n"
   ]
  },
  {
   "cell_type": "code",
   "execution_count": 42,
   "metadata": {},
   "outputs": [
    {
     "data": {
      "text/plain": [
       "0    Teacher   career   question                                                                \n",
       "1    I want to become an army officer. What can I do to become an army officer?                 \n",
       "2    Will going abroad for your first job increase your chances for jobs back home?             \n",
       "3    To become a specialist in business  management, will I have to network myself?             \n",
       "4    Are there any scholarships out there for students that are first generation and live in GA?\n",
       "Name: questions_title, dtype: object"
      ]
     },
     "execution_count": 42,
     "metadata": {},
     "output_type": "execute_result"
    }
   ],
   "source": [
    "qs['questions_title'][0:5]"
   ]
  },
  {
   "cell_type": "code",
   "execution_count": 43,
   "metadata": {},
   "outputs": [],
   "source": [
    "result = {}\n",
    "\n",
    "for question in qs['questions_title']:\n",
    "    key = question\n",
    "    result[key] = recommendation(key)\n"
   ]
  },
  {
   "cell_type": "code",
   "execution_count": 52,
   "metadata": {},
   "outputs": [],
   "source": [
    "# dict = {'Python' : '.py', 'C++' : '.cpp', 'Java' : '.java'}\n",
    "f = open(\"dict.txt\",\"w\")\n",
    "f.write( str(result) )\n",
    "f.close()\n"
   ]
  }
 ],
 "metadata": {
  "kernelspec": {
   "display_name": "Python 3",
   "language": "python",
   "name": "python3"
  },
  "language_info": {
   "codemirror_mode": {
    "name": "ipython",
    "version": 3
   },
   "file_extension": ".py",
   "mimetype": "text/x-python",
   "name": "python",
   "nbconvert_exporter": "python",
   "pygments_lexer": "ipython3",
   "version": "3.7.1"
  }
 },
 "nbformat": 4,
 "nbformat_minor": 2
}
