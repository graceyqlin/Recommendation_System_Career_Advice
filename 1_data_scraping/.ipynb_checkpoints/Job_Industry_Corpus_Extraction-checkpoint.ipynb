{
 "cells": [
  {
   "cell_type": "markdown",
   "metadata": {},
   "source": [
    "The purpose of this notebook is to generate a final corpus of unique unigrams using the Department of Labor Statistics job dataset."
   ]
  },
  {
   "cell_type": "code",
   "execution_count": 2,
   "metadata": {},
   "outputs": [],
   "source": [
    "import pandas as pd"
   ]
  },
  {
   "cell_type": "code",
   "execution_count": 4,
   "metadata": {},
   "outputs": [],
   "source": [
    "# pull in DLS dataset\n",
    "careers = pd.read_csv('../0_data/All_Career_Clusters.csv')"
   ]
  },
  {
   "cell_type": "code",
   "execution_count": 5,
   "metadata": {},
   "outputs": [
    {
     "data": {
      "text/html": [
       "<div>\n",
       "<style scoped>\n",
       "    .dataframe tbody tr th:only-of-type {\n",
       "        vertical-align: middle;\n",
       "    }\n",
       "\n",
       "    .dataframe tbody tr th {\n",
       "        vertical-align: top;\n",
       "    }\n",
       "\n",
       "    .dataframe thead th {\n",
       "        text-align: right;\n",
       "    }\n",
       "</style>\n",
       "<table border=\"1\" class=\"dataframe\">\n",
       "  <thead>\n",
       "    <tr style=\"text-align: right;\">\n",
       "      <th></th>\n",
       "      <th>Career Cluster</th>\n",
       "      <th>Career Pathway</th>\n",
       "      <th>Code</th>\n",
       "      <th>Occupation</th>\n",
       "    </tr>\n",
       "  </thead>\n",
       "  <tbody>\n",
       "    <tr>\n",
       "      <th>0</th>\n",
       "      <td>Agriculture, Food &amp; Natural Resources</td>\n",
       "      <td>Agribusiness Systems</td>\n",
       "      <td>11-9013.03</td>\n",
       "      <td>Aquacultural Managers</td>\n",
       "    </tr>\n",
       "    <tr>\n",
       "      <th>1</th>\n",
       "      <td>Agriculture, Food &amp; Natural Resources</td>\n",
       "      <td>Agribusiness Systems</td>\n",
       "      <td>13-1021.00</td>\n",
       "      <td>Buyers and Purchasing Agents, Farm Products</td>\n",
       "    </tr>\n",
       "    <tr>\n",
       "      <th>2</th>\n",
       "      <td>Agriculture, Food &amp; Natural Resources</td>\n",
       "      <td>Agribusiness Systems</td>\n",
       "      <td>11-9013.02</td>\n",
       "      <td>Farm and Ranch Managers</td>\n",
       "    </tr>\n",
       "    <tr>\n",
       "      <th>3</th>\n",
       "      <td>Agriculture, Food &amp; Natural Resources</td>\n",
       "      <td>Agribusiness Systems</td>\n",
       "      <td>13-1074.00</td>\n",
       "      <td>Farm Labor Contractors</td>\n",
       "    </tr>\n",
       "    <tr>\n",
       "      <th>4</th>\n",
       "      <td>Agriculture, Food &amp; Natural Resources</td>\n",
       "      <td>Agribusiness Systems</td>\n",
       "      <td>11-9013.00</td>\n",
       "      <td>Farmers, Ranchers, and Other Agricultural Mana...</td>\n",
       "    </tr>\n",
       "  </tbody>\n",
       "</table>\n",
       "</div>"
      ],
      "text/plain": [
       "                          Career Cluster        Career Pathway        Code  \\\n",
       "0  Agriculture, Food & Natural Resources  Agribusiness Systems  11-9013.03   \n",
       "1  Agriculture, Food & Natural Resources  Agribusiness Systems  13-1021.00   \n",
       "2  Agriculture, Food & Natural Resources  Agribusiness Systems  11-9013.02   \n",
       "3  Agriculture, Food & Natural Resources  Agribusiness Systems  13-1074.00   \n",
       "4  Agriculture, Food & Natural Resources  Agribusiness Systems  11-9013.00   \n",
       "\n",
       "                                          Occupation  \n",
       "0                              Aquacultural Managers  \n",
       "1        Buyers and Purchasing Agents, Farm Products  \n",
       "2                            Farm and Ranch Managers  \n",
       "3                             Farm Labor Contractors  \n",
       "4  Farmers, Ranchers, and Other Agricultural Mana...  "
      ]
     },
     "execution_count": 5,
     "metadata": {},
     "output_type": "execute_result"
    }
   ],
   "source": [
    "# preview\n",
    "careers.head()"
   ]
  },
  {
   "cell_type": "code",
   "execution_count": 6,
   "metadata": {},
   "outputs": [
    {
     "data": {
      "text/plain": [
       "['aquacultural',\n",
       " 'managers',\n",
       " 'buyers',\n",
       " 'and',\n",
       " 'purchasing',\n",
       " 'agents',\n",
       " 'farm',\n",
       " 'products',\n",
       " 'ranch',\n",
       " 'labor',\n",
       " 'contractors',\n",
       " 'farmers',\n",
       " 'ranchers',\n",
       " 'other',\n",
       " 'agricultural',\n",
       " 'nursery',\n",
       " 'greenhouse',\n",
       " 'animal',\n",
       " 'breeders',\n",
       " 'scientists',\n",
       " 'farmworkers',\n",
       " 'animals',\n",
       " 'nonfarm',\n",
       " 'caretakers',\n",
       " 'environmental',\n",
       " 'engineering',\n",
       " 'technicians',\n",
       " 'engineers',\n",
       " 'science',\n",
       " 'protection',\n",
       " 'including',\n",
       " 'health',\n",
       " 'hazardous',\n",
       " 'materials',\n",
       " 'removal',\n",
       " 'workers',\n",
       " 'pest',\n",
       " 'control',\n",
       " 'refuse',\n",
       " 'recyclable',\n",
       " 'material',\n",
       " 'collectors',\n",
       " 'water',\n",
       " 'wastewater',\n",
       " 'treatment',\n",
       " 'plant',\n",
       " 'system',\n",
       " 'operators',\n",
       " 'waterwastewater',\n",
       " 'food']"
      ]
     },
     "execution_count": 6,
     "metadata": {},
     "output_type": "execute_result"
    }
   ],
   "source": [
    "# remove punctuation from Occupation column and make everything lower-case\n",
    "occupations_clean = careers['Occupation'].str.replace('[^\\w\\s]','').str.lower()\n",
    "\n",
    "# Get unique list of unigrams from clean Occupation column\n",
    "occupations_corpus = list(occupations_clean.str.split(' ', expand=True).stack().unique())\n",
    "occupations_corpus[0:50]"
   ]
  },
  {
   "cell_type": "code",
   "execution_count": 7,
   "metadata": {},
   "outputs": [],
   "source": [
    "# write list to CSV for use in clustering\n",
    "pd.DataFrame(occupations_corpus).to_csv('../0_data/occupation_corpus.csv', index=False, header=False)"
   ]
  }
 ],
 "metadata": {
  "kernelspec": {
   "display_name": "Python 3",
   "language": "python",
   "name": "python3"
  },
  "language_info": {
   "codemirror_mode": {
    "name": "ipython",
    "version": 3
   },
   "file_extension": ".py",
   "mimetype": "text/x-python",
   "name": "python",
   "nbconvert_exporter": "python",
   "pygments_lexer": "ipython3",
   "version": "3.7.3"
  }
 },
 "nbformat": 4,
 "nbformat_minor": 2
}
