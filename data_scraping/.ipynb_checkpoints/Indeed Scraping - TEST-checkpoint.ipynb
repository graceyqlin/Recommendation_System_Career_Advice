{
 "cells": [
  {
   "cell_type": "code",
   "execution_count": 3,
   "metadata": {},
   "outputs": [],
   "source": [
    "import sys\n",
    "from bs4 import BeautifulSoup\n",
    "from selenium import webdriver\n",
    "from selenium.common.exceptions import TimeoutException\n",
    "import time\n",
    "import requests\n",
    "import random\n",
    "import pandas as pd\n",
    "import boto3\n",
    "import botocore\n",
    "import json\n",
    "import logging\n",
    "from datetime import date, datetime, timedelta\n",
    "import traceback\n",
    "import csv"
   ]
  },
  {
   "cell_type": "markdown",
   "metadata": {},
   "source": [
    "## Try an example scrape and parse out the result count and ID"
   ]
  },
  {
   "cell_type": "code",
   "execution_count": 7,
   "metadata": {},
   "outputs": [],
   "source": [
    "job = 'Accounting'\n",
    "location = 'Washington%2C+DC'\n",
    "radius = 25\n",
    "page_number = 10"
   ]
  },
  {
   "cell_type": "code",
   "execution_count": 42,
   "metadata": {},
   "outputs": [
    {
     "name": "stdout",
     "output_type": "stream",
     "text": [
      "Search:Accounting in Location:Washington%2C+DC within Radius:25 at Start Page:10\n",
      "https://www.indeed.com/resumes?q=Accounting&l=Washington%2C+DC&co=US&radius=25&start=10\n"
     ]
    }
   ],
   "source": [
    "# construct the search URL\n",
    "log(\"Search:{} in Location:{} within Radius:{} at Start Page:{}\" \\\n",
    "                .format(job, location, str(radius), page_number))\n",
    "search_url = \"https://www.indeed.com/resumes?q={}&l={}&co=US&radius={}&start={}\"\\\n",
    ".format(job, location, str(radius), page_number)\n",
    "print(search_url)"
   ]
  },
  {
   "cell_type": "code",
   "execution_count": 43,
   "metadata": {},
   "outputs": [],
   "source": [
    "search_page = requests.get(search_url)\n",
    "soup = BeautifulSoup(search_page.text, \"html.parser\")\n",
    "\n",
    "# Here's the actual text scraped from the search page\n",
    "print(search_page.text)"
   ]
  },
  {
   "cell_type": "code",
   "execution_count": 44,
   "metadata": {},
   "outputs": [
    {
     "name": "stdout",
     "output_type": "stream",
     "text": [
      "None\n"
     ]
    }
   ],
   "source": [
    "# soup can't actually find this anywhere in the text...\n",
    "print(soup.find(id=\"result_count\").string)"
   ]
  },
  {
   "cell_type": "code",
   "execution_count": 41,
   "metadata": {},
   "outputs": [
    {
     "data": {
      "text/plain": [
       "[]"
      ]
     },
     "execution_count": 41,
     "metadata": {},
     "output_type": "execute_result"
    }
   ],
   "source": [
    "# this was the original code to find all the IDs. doesn't return anything\n",
    "soup.find_all(name=\"input\", attrs={\"name\":\"rez\"})"
   ]
  }
 ],
 "metadata": {
  "kernelspec": {
   "display_name": "Python 3",
   "language": "python",
   "name": "python3"
  },
  "language_info": {
   "codemirror_mode": {
    "name": "ipython",
    "version": 3
   },
   "file_extension": ".py",
   "mimetype": "text/x-python",
   "name": "python",
   "nbconvert_exporter": "python",
   "pygments_lexer": "ipython3",
   "version": "3.7.3"
  }
 },
 "nbformat": 4,
 "nbformat_minor": 2
}
