{
 "cells": [
  {
   "cell_type": "code",
   "execution_count": 2,
   "metadata": {},
   "outputs": [],
   "source": [
    "import docx2txt"
   ]
  },
  {
   "cell_type": "code",
   "execution_count": 4,
   "metadata": {},
   "outputs": [],
   "source": [
    "# Import one resume for exploration\n",
    "text = docx2txt.process('../../data-science-for-good-careervillage/data/Resume&Job_Description/Original_Resumes/6Faye.docx')"
   ]
  },
  {
   "cell_type": "code",
   "execution_count": 5,
   "metadata": {},
   "outputs": [
    {
     "data": {
      "text/plain": [
       "'FAYE\\n\\n \\n\\n\\t\\t\\tCitco Fund Services (Singapore) Pte. Ltd., Fund Accountant   \\t \\t \\t   Feb. 2016 – Current  \\n\\n \\n\\nPerformance of the administration and services pursuant to the administration agreement of hedge funds \\n\\nPreparation and review of daily, weekly and monthly Net Asset Value calculations, financial statements, and associated reports in accordance to service level agreements \\n\\nProvision of cash, portfolio and capital reconciliation \\n\\nDevelopment and implementation of standard operating procedures \\n\\nLiaison with investment managers, brokers and external auditors \\n\\nProficient with various incentive fee, management fee and administration fee computations \\n\\nProficient with migrations, liquidations and mergers of funds \\n\\nMentoring of new hires in the team \\n\\n \\n\\n\\tFTC Corporate & Tax Advisory Pte. Ltd., Client Services Executive (Internship) \\tOct. 2015 – Jan. 2016 \\n\\n \\n\\nPreparation of financial statements in accordance with Singapore Financial Reporting Standards \\n\\nPreparation and submission of XBRL and annual returns for ACRA filings \\n\\nPreparation and submission of corporate tax returns and provisional personal tax returns \\n\\nPayroll administration, including CPF related matters \\n\\nWebsite development and maintenance  \\n\\n \\n\\n\\t\\t\\t\\tLG Electronics Singapore Pte. Ltd., Accounts Associate \\t \\t \\t \\tNov. 2014 – Oct. 2015 \\n\\n \\n\\nProcessing of timely payments of company’s expenses \\n\\nProvision of variance analysis of monthly and quarterly expenses \\n\\nManagement of company’s cash accounts with commercial banks \\n\\nReconciliation of bank accounts daily to monitor all bank transactions \\n\\nReporting of daily and monthly cash flow forecasts \\n\\nGeneration of general ledgers and other reports \\n\\nPreparation of quarterly GST returns \\n\\n \\n\\nEDUCATION \\n\\n\\n\\n \\n\\n\\t\\t\\t\\t\\t\\t\\t\\t\\t\\t\\tACCA  \\t \\t \\t \\t \\t \\t \\t \\t \\t \\t  \\t 2015 – 2017 \\n\\n\\t \\tACCA Qualification Level 3 \\n\\n \\n\\n\\t\\t\\t\\t\\t\\t\\t\\t\\t\\tCFA Institute  \\t \\t \\t \\t \\t \\t \\t \\t \\t \\t 2016 – 2016 \\n\\n\\t \\tInvestment Foundations Progam \\n\\n \\n\\n\\t\\t\\t\\t\\t\\t\\t\\t\\tUniversity of London  \\t \\t \\t \\t \\t \\t \\t \\t \\t 2012 – 2014  \\n\\n\\t\\t \\tBachelor in Accounting & Finance (Second Class Honours Upper Division) \\t \\n\\n                                       \\n\\n\\t\\t\\t\\t\\t\\t\\t\\t\\tNgee Ann Polytechnic  \\t \\t \\t \\t \\t \\t \\t \\t \\t 2007 – 2010 \\n\\n\\t \\tDiploma in Business Studies \\n\\n \\n\\nADDITIONAL INFORMATION \\n\\n\\n\\n \\n\\n\\t\\t\\tNationality: \\t \\t \\tSingaporean \\n\\nLanguage Proficiency: \\tEnglish, Mandarin Chinese  Achievements:  \\n\\nAwards for Citco Excellence in Citco Fund Services \\n\\nCommanding Officer Choice and Best Commander for National Service \\n\\nRepresented Ngee Ann Polytechnic in SGDF Dancesport Nationals and IVP Track and Field Meet \\n\\nCoordinated an outreach programme between Ngee Ann Polytechnic and Wildlife Reserves Singapore \\n\\nManagement committee of Environmental Rangers Society and Kung Fu Club in Ngee Ann Polytechnic - Organising committee and student coordinater in various events in Singapore Institute of Management and  xNgee Ann Polytechnic'"
      ]
     },
     "execution_count": 5,
     "metadata": {},
     "output_type": "execute_result"
    }
   ],
   "source": [
    "text"
   ]
  },
  {
   "cell_type": "code",
   "execution_count": null,
   "metadata": {},
   "outputs": [],
   "source": []
  }
 ],
 "metadata": {
  "kernelspec": {
   "display_name": "Python 3",
   "language": "python",
   "name": "python3"
  },
  "language_info": {
   "codemirror_mode": {
    "name": "ipython",
    "version": 3
   },
   "file_extension": ".py",
   "mimetype": "text/x-python",
   "name": "python",
   "nbconvert_exporter": "python",
   "pygments_lexer": "ipython3",
   "version": "3.7.3"
  }
 },
 "nbformat": 4,
 "nbformat_minor": 2
}
