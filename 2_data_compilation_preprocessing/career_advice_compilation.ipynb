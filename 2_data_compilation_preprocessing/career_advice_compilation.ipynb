{
 "cells": [
  {
   "cell_type": "markdown",
   "metadata": {},
   "source": [
    "## Pull in packages"
   ]
  },
  {
   "cell_type": "code",
   "execution_count": 1,
   "metadata": {},
   "outputs": [],
   "source": [
    "import re\n",
    "import pandas as pd\n",
    "import numpy as np\n",
    "from matplotlib import pyplot as plt\n",
    "from bs4 import BeautifulSoup\n",
    "from wordcloud import WordCloud, STOPWORDS\n",
    "%matplotlib inline"
   ]
  },
  {
   "cell_type": "markdown",
   "metadata": {},
   "source": [
    "## Pull in raw datasets"
   ]
  },
  {
   "cell_type": "code",
   "execution_count": 2,
   "metadata": {},
   "outputs": [],
   "source": [
    "# read in Reddit datasets (questions and answers)\n",
    "ques_reddit = pd.read_csv('../../data-science-for-good-careervillage/data/reddit_careeradvice_questions.csv')\n",
    "ans_reddit = pd.read_csv('../../data-science-for-good-careervillage/data/reddit_careeradvice_answers.csv')"
   ]
  },
  {
   "cell_type": "code",
   "execution_count": 3,
   "metadata": {},
   "outputs": [],
   "source": [
    "# read in CareerVillage datasets (questions and answers)\n",
    "a = pd.read_csv('../../data-science-for-good-careervillage/data/answers.csv')\n",
    "a_scores = pd.read_csv('../../data-science-for-good-careervillage/data/answer_scores.csv')\n",
    "q = pd.read_csv('../../data-science-for-good-careervillage/data/questions.csv')\n",
    "q_scores = pd.read_csv('../../data-science-for-good-careervillage/data/question_scores.csv')"
   ]
  },
  {
   "cell_type": "markdown",
   "metadata": {},
   "source": [
    "## Combine datasets, preserving as many common columns as possible"
   ]
  },
  {
   "cell_type": "code",
   "execution_count": 4,
   "metadata": {},
   "outputs": [],
   "source": [
    "combined_ans = a['answers_body'].append(ans_reddit['body'])"
   ]
  },
  {
   "cell_type": "code",
   "execution_count": 5,
   "metadata": {},
   "outputs": [
    {
     "name": "stdout",
     "output_type": "stream",
     "text": [
      "(51123, 5)\n",
      "(1939, 5)\n",
      "(53062,)\n"
     ]
    }
   ],
   "source": [
    "print(a.shape)\n",
    "print(ans_reddit.shape)\n",
    "print(combined_ans.shape)"
   ]
  },
  {
   "cell_type": "code",
   "execution_count": 6,
   "metadata": {},
   "outputs": [
    {
     "data": {
      "text/plain": [
       "0    <p>Hi!</p>\\n<p>You are asking a very interesti...\n",
       "1    <p>Hi. I joined the Army after I attended coll...\n",
       "2    <p>Dear Priyanka,</p><p>Greetings! I have answ...\n",
       "3    <p>I work for a global company who values high...\n",
       "4    I agree with Denise. Every single job I've had...\n",
       "dtype: object"
      ]
     },
     "execution_count": 6,
     "metadata": {},
     "output_type": "execute_result"
    }
   ],
   "source": [
    "combined_ans.head()"
   ]
  },
  {
   "cell_type": "markdown",
   "metadata": {},
   "source": [
    "## Clean the combined dataset"
   ]
  },
  {
   "cell_type": "code",
   "execution_count": 7,
   "metadata": {},
   "outputs": [],
   "source": [
    "# extract just the answer bodies and remove nulls\n",
    "answers = combined_ans.dropna()\n",
    "# set up an empty list to populate the parsed data\n",
    "answers_text = []\n",
    "ans_clean = []\n",
    "# for each line in answers, remove HTML encoding\n",
    "for ans in answers:\n",
    "    soup = BeautifulSoup(ans, 'html.parser')\n",
    "    # find all the paragraph portions of the answer\n",
    "    # extract the text\n",
    "    for section in soup.find_all('p'):\n",
    "        # combine each section's text into \"clean\" list\n",
    "        ans_clean.append(section.get_text())\n",
    "    # concatenate all the sections and add to answers_preprocessed\n",
    "    answers_text.append(' '.join(map(str,ans_clean)))\n",
    "    # reset ans_clean for next row\n",
    "    ans_clean = []"
   ]
  },
  {
   "cell_type": "code",
   "execution_count": 8,
   "metadata": {},
   "outputs": [],
   "source": [
    "answers_clean = pd.DataFrame(answers_text, columns=['answer_body']).dropna()"
   ]
  },
  {
   "cell_type": "code",
   "execution_count": 23,
   "metadata": {},
   "outputs": [
    {
     "data": {
      "text/html": [
       "<div>\n",
       "<style scoped>\n",
       "    .dataframe tbody tr th:only-of-type {\n",
       "        vertical-align: middle;\n",
       "    }\n",
       "\n",
       "    .dataframe tbody tr th {\n",
       "        vertical-align: top;\n",
       "    }\n",
       "\n",
       "    .dataframe thead th {\n",
       "        text-align: right;\n",
       "    }\n",
       "</style>\n",
       "<table border=\"1\" class=\"dataframe\">\n",
       "  <thead>\n",
       "    <tr style=\"text-align: right;\">\n",
       "      <th></th>\n",
       "      <th>answer_body</th>\n",
       "    </tr>\n",
       "  </thead>\n",
       "  <tbody>\n",
       "    <tr>\n",
       "      <th>0</th>\n",
       "      <td>Hi! You are asking a very interesting question...</td>\n",
       "    </tr>\n",
       "    <tr>\n",
       "      <th>1</th>\n",
       "      <td>Hi. I joined the Army after I attended college...</td>\n",
       "    </tr>\n",
       "    <tr>\n",
       "      <th>2</th>\n",
       "      <td>Dear Priyanka, Greetings! I have answered this...</td>\n",
       "    </tr>\n",
       "    <tr>\n",
       "      <th>3</th>\n",
       "      <td>I work for a global company who values highly ...</td>\n",
       "    </tr>\n",
       "    <tr>\n",
       "      <th>4</th>\n",
       "      <td>Hi Jocelyn ,  May I recommend Fastweb.com! It’...</td>\n",
       "    </tr>\n",
       "  </tbody>\n",
       "</table>\n",
       "</div>"
      ],
      "text/plain": [
       "                                         answer_body\n",
       "0  Hi! You are asking a very interesting question...\n",
       "1  Hi. I joined the Army after I attended college...\n",
       "2  Dear Priyanka, Greetings! I have answered this...\n",
       "3  I work for a global company who values highly ...\n",
       "4  Hi Jocelyn ,  May I recommend Fastweb.com! It’..."
      ]
     },
     "execution_count": 23,
     "metadata": {},
     "output_type": "execute_result"
    }
   ],
   "source": [
    "answers_clean.head()"
   ]
  },
  {
   "cell_type": "code",
   "execution_count": null,
   "metadata": {},
   "outputs": [],
   "source": []
  }
 ],
 "metadata": {
  "kernelspec": {
   "display_name": "Python 3",
   "language": "python",
   "name": "python3"
  },
  "language_info": {
   "codemirror_mode": {
    "name": "ipython",
    "version": 3
   },
   "file_extension": ".py",
   "mimetype": "text/x-python",
   "name": "python",
   "nbconvert_exporter": "python",
   "pygments_lexer": "ipython3",
   "version": "3.7.3"
  }
 },
 "nbformat": 4,
 "nbformat_minor": 2
}
