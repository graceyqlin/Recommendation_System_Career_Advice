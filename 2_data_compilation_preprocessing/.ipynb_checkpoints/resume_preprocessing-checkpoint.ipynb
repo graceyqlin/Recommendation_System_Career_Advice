{
 "cells": [
  {
   "cell_type": "code",
   "execution_count": 9,
   "metadata": {},
   "outputs": [],
   "source": [
    "import re\n",
    "import pandas as pd\n",
    "import numpy as np\n",
    "import text_process\n",
    "import os"
   ]
  },
  {
   "cell_type": "code",
   "execution_count": 2,
   "metadata": {},
   "outputs": [],
   "source": [
    "# read in resume dataset\n",
    "resume_df = pd.read_csv('../../data-science-for-good-careervillage/data/resume_dataset.csv')"
   ]
  },
  {
   "cell_type": "code",
   "execution_count": 3,
   "metadata": {},
   "outputs": [
    {
     "data": {
      "text/html": [
       "<div>\n",
       "<style scoped>\n",
       "    .dataframe tbody tr th:only-of-type {\n",
       "        vertical-align: middle;\n",
       "    }\n",
       "\n",
       "    .dataframe tbody tr th {\n",
       "        vertical-align: top;\n",
       "    }\n",
       "\n",
       "    .dataframe thead th {\n",
       "        text-align: right;\n",
       "    }\n",
       "</style>\n",
       "<table border=\"1\" class=\"dataframe\">\n",
       "  <thead>\n",
       "    <tr style=\"text-align: right;\">\n",
       "      <th></th>\n",
       "      <th>category</th>\n",
       "      <th>name</th>\n",
       "      <th>resume_line</th>\n",
       "    </tr>\n",
       "  </thead>\n",
       "  <tbody>\n",
       "    <tr>\n",
       "      <th>0</th>\n",
       "      <td>['1Amy.docx']</td>\n",
       "      <td>['1Amy.docx']</td>\n",
       "      <td>Fund accountant with nearly years of experienc...</td>\n",
       "    </tr>\n",
       "    <tr>\n",
       "      <th>1</th>\n",
       "      <td>['1Amy.docx']</td>\n",
       "      <td>['1Amy.docx']</td>\n",
       "      <td>Citco Fund Services Singapore Pte Ltd Jan Pres...</td>\n",
       "    </tr>\n",
       "    <tr>\n",
       "      <th>2</th>\n",
       "      <td>['1Amy.docx']</td>\n",
       "      <td>['1Amy.docx']</td>\n",
       "      <td>Calculation of estimate and final NAVs on a da...</td>\n",
       "    </tr>\n",
       "    <tr>\n",
       "      <th>3</th>\n",
       "      <td>['1Amy.docx']</td>\n",
       "      <td>['1Amy.docx']</td>\n",
       "      <td>Preparation of cash and position reconciliatio...</td>\n",
       "    </tr>\n",
       "    <tr>\n",
       "      <th>4</th>\n",
       "      <td>['1Amy.docx']</td>\n",
       "      <td>['1Amy.docx']</td>\n",
       "      <td>Daily preproduction tasks such as price checks...</td>\n",
       "    </tr>\n",
       "  </tbody>\n",
       "</table>\n",
       "</div>"
      ],
      "text/plain": [
       "        category           name  \\\n",
       "0  ['1Amy.docx']  ['1Amy.docx']   \n",
       "1  ['1Amy.docx']  ['1Amy.docx']   \n",
       "2  ['1Amy.docx']  ['1Amy.docx']   \n",
       "3  ['1Amy.docx']  ['1Amy.docx']   \n",
       "4  ['1Amy.docx']  ['1Amy.docx']   \n",
       "\n",
       "                                         resume_line  \n",
       "0  Fund accountant with nearly years of experienc...  \n",
       "1  Citco Fund Services Singapore Pte Ltd Jan Pres...  \n",
       "2  Calculation of estimate and final NAVs on a da...  \n",
       "3  Preparation of cash and position reconciliatio...  \n",
       "4  Daily preproduction tasks such as price checks...  "
      ]
     },
     "execution_count": 3,
     "metadata": {},
     "output_type": "execute_result"
    }
   ],
   "source": [
    "resume_df.head()"
   ]
  },
  {
   "cell_type": "code",
   "execution_count": 6,
   "metadata": {},
   "outputs": [],
   "source": [
    "# clean the dataset for the similarity model\n",
    "resume_df['resume_line_pp'] = resume_df['resume_line'].map(text_process.normalize)"
   ]
  },
  {
   "cell_type": "code",
   "execution_count": 10,
   "metadata": {},
   "outputs": [],
   "source": [
    "# write the preprocessed dataframe to csv\n",
    "os.chdir('/Users/lucyxie/Documents/MIDS/Capstone/data-science-for-good-careervillage/data/')\n",
    "resume_df.to_csv('resume_dataset_preprocessed.csv', index=False)"
   ]
  }
 ],
 "metadata": {
  "kernelspec": {
   "display_name": "Python 3",
   "language": "python",
   "name": "python3"
  },
  "language_info": {
   "codemirror_mode": {
    "name": "ipython",
    "version": 3
   },
   "file_extension": ".py",
   "mimetype": "text/x-python",
   "name": "python",
   "nbconvert_exporter": "python",
   "pygments_lexer": "ipython3",
   "version": "3.7.3"
  }
 },
 "nbformat": 4,
 "nbformat_minor": 2
}
