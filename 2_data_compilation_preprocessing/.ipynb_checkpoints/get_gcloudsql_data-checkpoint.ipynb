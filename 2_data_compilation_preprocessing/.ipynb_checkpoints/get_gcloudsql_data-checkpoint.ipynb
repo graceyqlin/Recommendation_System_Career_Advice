{
 "cells": [
  {
   "cell_type": "code",
   "execution_count": 4,
   "metadata": {},
   "outputs": [],
   "source": [
    "import pymysql\n",
    "import pandas as pd\n",
    "\n",
    "connection = pymysql.connect(host='127.0.0.1',\n",
    "                             user='root',\n",
    "                             password='capstone',\n",
    "                             db='capstone')"
   ]
  },
  {
   "cell_type": "code",
   "execution_count": 5,
   "metadata": {},
   "outputs": [],
   "source": [
    "query = \"SELECT * FROM QA_FINAL\"\n",
    "df = pd.read_sql(query, connection)"
   ]
  },
  {
   "cell_type": "code",
   "execution_count": 6,
   "metadata": {},
   "outputs": [
    {
     "data": {
      "text/html": [
       "<div>\n",
       "<style scoped>\n",
       "    .dataframe tbody tr th:only-of-type {\n",
       "        vertical-align: middle;\n",
       "    }\n",
       "\n",
       "    .dataframe tbody tr th {\n",
       "        vertical-align: top;\n",
       "    }\n",
       "\n",
       "    .dataframe thead th {\n",
       "        text-align: right;\n",
       "    }\n",
       "</style>\n",
       "<table border=\"1\" class=\"dataframe\">\n",
       "  <thead>\n",
       "    <tr style=\"text-align: right;\">\n",
       "      <th></th>\n",
       "      <th>answers_id</th>\n",
       "      <th>answers_body_clean</th>\n",
       "      <th>answers_score</th>\n",
       "      <th>questions_id</th>\n",
       "      <th>questions_body_clean</th>\n",
       "      <th>questions_score</th>\n",
       "    </tr>\n",
       "  </thead>\n",
       "  <tbody>\n",
       "    <tr>\n",
       "      <th>0</th>\n",
       "      <td>answers_id</td>\n",
       "      <td>answers_body_clean</td>\n",
       "      <td>0.0</td>\n",
       "      <td>questions_id</td>\n",
       "      <td>questions_body_clean</td>\n",
       "      <td>0.0</td>\n",
       "    </tr>\n",
       "    <tr>\n",
       "      <th>1</th>\n",
       "      <td>4e5f01128cae4f6d8fd697cec5dca60c</td>\n",
       "      <td>Hi! You are asking a very interesting question...</td>\n",
       "      <td>0.0</td>\n",
       "      <td>332a511f1569444485cf7a7a556a5e54</td>\n",
       "      <td>What  is  a  maths  teacher?   what  is  a  ma...</td>\n",
       "      <td>1.0</td>\n",
       "    </tr>\n",
       "    <tr>\n",
       "      <th>2</th>\n",
       "      <td>ada720538c014e9b8a6dceed09385ee3</td>\n",
       "      <td>Hi. I joined the Army after I attended college...</td>\n",
       "      <td>0.0</td>\n",
       "      <td>eb80205482e4424cad8f16bc25aa2d9c</td>\n",
       "      <td>I am Priyanka from Bangalore . Now am in 10th ...</td>\n",
       "      <td>5.0</td>\n",
       "    </tr>\n",
       "    <tr>\n",
       "      <th>3</th>\n",
       "      <td>eaa66ef919bc408ab5296237440e323f</td>\n",
       "      <td>Dear Priyanka, Greetings! I have answered this...</td>\n",
       "      <td>0.0</td>\n",
       "      <td>eb80205482e4424cad8f16bc25aa2d9c</td>\n",
       "      <td>I am Priyanka from Bangalore . Now am in 10th ...</td>\n",
       "      <td>5.0</td>\n",
       "    </tr>\n",
       "    <tr>\n",
       "      <th>4</th>\n",
       "      <td>1a6b3749d391486c9e371fbd1e605014</td>\n",
       "      <td>I work for a global company who values highly ...</td>\n",
       "      <td>0.0</td>\n",
       "      <td>4ec31632938a40b98909416bdd0decff</td>\n",
       "      <td>I'm planning on going abroad for my first job....</td>\n",
       "      <td>2.0</td>\n",
       "    </tr>\n",
       "  </tbody>\n",
       "</table>\n",
       "</div>"
      ],
      "text/plain": [
       "                         answers_id  \\\n",
       "0                        answers_id   \n",
       "1  4e5f01128cae4f6d8fd697cec5dca60c   \n",
       "2  ada720538c014e9b8a6dceed09385ee3   \n",
       "3  eaa66ef919bc408ab5296237440e323f   \n",
       "4  1a6b3749d391486c9e371fbd1e605014   \n",
       "\n",
       "                                  answers_body_clean  answers_score  \\\n",
       "0                                 answers_body_clean            0.0   \n",
       "1  Hi! You are asking a very interesting question...            0.0   \n",
       "2  Hi. I joined the Army after I attended college...            0.0   \n",
       "3  Dear Priyanka, Greetings! I have answered this...            0.0   \n",
       "4  I work for a global company who values highly ...            0.0   \n",
       "\n",
       "                       questions_id  \\\n",
       "0                      questions_id   \n",
       "1  332a511f1569444485cf7a7a556a5e54   \n",
       "2  eb80205482e4424cad8f16bc25aa2d9c   \n",
       "3  eb80205482e4424cad8f16bc25aa2d9c   \n",
       "4  4ec31632938a40b98909416bdd0decff   \n",
       "\n",
       "                                questions_body_clean  questions_score  \n",
       "0                               questions_body_clean              0.0  \n",
       "1  What  is  a  maths  teacher?   what  is  a  ma...              1.0  \n",
       "2  I am Priyanka from Bangalore . Now am in 10th ...              5.0  \n",
       "3  I am Priyanka from Bangalore . Now am in 10th ...              5.0  \n",
       "4  I'm planning on going abroad for my first job....              2.0  "
      ]
     },
     "execution_count": 6,
     "metadata": {},
     "output_type": "execute_result"
    }
   ],
   "source": [
    "df.head()"
   ]
  },
  {
   "cell_type": "code",
   "execution_count": null,
   "metadata": {},
   "outputs": [],
   "source": []
  }
 ],
 "metadata": {
  "kernelspec": {
   "display_name": "Python 3",
   "language": "python",
   "name": "python3"
  },
  "language_info": {
   "codemirror_mode": {
    "name": "ipython",
    "version": 3
   },
   "file_extension": ".py",
   "mimetype": "text/x-python",
   "name": "python",
   "nbconvert_exporter": "python",
   "pygments_lexer": "ipython3",
   "version": "3.7.3"
  }
 },
 "nbformat": 4,
 "nbformat_minor": 2
}
