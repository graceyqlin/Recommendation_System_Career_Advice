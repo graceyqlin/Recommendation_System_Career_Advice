{
 "cells": [
  {
   "cell_type": "markdown",
   "metadata": {},
   "source": [
    "## Pull in packages"
   ]
  },
  {
   "cell_type": "code",
   "execution_count": 2,
   "metadata": {},
   "outputs": [],
   "source": [
    "import re\n",
    "import pandas as pd\n",
    "import numpy as np\n",
    "from matplotlib import pyplot as plt\n",
    "from bs4 import BeautifulSoup\n",
    "from wordcloud import WordCloud, STOPWORDS\n",
    "%matplotlib inline"
   ]
  },
  {
   "cell_type": "markdown",
   "metadata": {},
   "source": [
    "## Pull in raw datasets"
   ]
  },
  {
   "cell_type": "code",
   "execution_count": 20,
   "metadata": {},
   "outputs": [],
   "source": [
    "# read in Reddit datasets (questions and answers)\n",
    "ques_reddit = pd.read_csv('../../data-science-for-good-careervillage/data/reddit_careeradvice_questions.csv')\n",
    "ans_reddit = pd.read_csv('../../data-science-for-good-careervillage/data/reddit_careeradvice_answers.csv')"
   ]
  },
  {
   "cell_type": "code",
   "execution_count": 21,
   "metadata": {},
   "outputs": [],
   "source": [
    "# read in CareerVillage datasets (questions and answers)\n",
    "a = pd.read_csv('../../data-science-for-good-careervillage/data/answers.csv')\n",
    "a_scores = pd.read_csv('../../data-science-for-good-careervillage/data/answer_scores.csv')\n",
    "q = pd.read_csv('../../data-science-for-good-careervillage/data/questions.csv')\n",
    "q_scores = pd.read_csv('../../data-science-for-good-careervillage/data/question_scores.csv')"
   ]
  },
  {
   "cell_type": "markdown",
   "metadata": {},
   "source": [
    "## Combine question datasets and answer datasets, preserving as many common columns as possible"
   ]
  },
  {
   "cell_type": "code",
   "execution_count": 22,
   "metadata": {},
   "outputs": [
    {
     "data": {
      "text/html": [
       "<div>\n",
       "<style scoped>\n",
       "    .dataframe tbody tr th:only-of-type {\n",
       "        vertical-align: middle;\n",
       "    }\n",
       "\n",
       "    .dataframe tbody tr th {\n",
       "        vertical-align: top;\n",
       "    }\n",
       "\n",
       "    .dataframe thead th {\n",
       "        text-align: right;\n",
       "    }\n",
       "</style>\n",
       "<table border=\"1\" class=\"dataframe\">\n",
       "  <thead>\n",
       "    <tr style=\"text-align: right;\">\n",
       "      <th></th>\n",
       "      <th>title</th>\n",
       "      <th>score</th>\n",
       "      <th>id</th>\n",
       "      <th>body</th>\n",
       "      <th>timestamp</th>\n",
       "    </tr>\n",
       "  </thead>\n",
       "  <tbody>\n",
       "    <tr>\n",
       "      <th>0</th>\n",
       "      <td>Is adult life after college just sort of, gues...</td>\n",
       "      <td>344</td>\n",
       "      <td>bowpxj</td>\n",
       "      <td>I graduated college at 22, I'm 25 now, and not...</td>\n",
       "      <td>2019-05-15 14:24:22</td>\n",
       "    </tr>\n",
       "    <tr>\n",
       "      <th>1</th>\n",
       "      <td>“Most people overestimate what they can do in ...</td>\n",
       "      <td>287</td>\n",
       "      <td>9bkhce</td>\n",
       "      <td>When I hear people on this sub telling others:...</td>\n",
       "      <td>2018-08-30 18:14:12</td>\n",
       "    </tr>\n",
       "    <tr>\n",
       "      <th>2</th>\n",
       "      <td>I want to work at an Oreo factory?</td>\n",
       "      <td>281</td>\n",
       "      <td>9n66cn</td>\n",
       "      <td>Today I was eating Oreos and I realized that O...</td>\n",
       "      <td>2018-10-11 05:55:51</td>\n",
       "    </tr>\n",
       "    <tr>\n",
       "      <th>3</th>\n",
       "      <td>Update: got a job offer but failed drug test d...</td>\n",
       "      <td>264</td>\n",
       "      <td>9nj22q</td>\n",
       "      <td>So some suggested I just go and tell the truth...</td>\n",
       "      <td>2018-10-12 13:20:16</td>\n",
       "    </tr>\n",
       "    <tr>\n",
       "      <th>4</th>\n",
       "      <td>What do people do to make over 200k a year?</td>\n",
       "      <td>227</td>\n",
       "      <td>b1wixu</td>\n",
       "      <td>So i’m in school now (in Finland) and my grade...</td>\n",
       "      <td>2019-03-16 22:53:06</td>\n",
       "    </tr>\n",
       "  </tbody>\n",
       "</table>\n",
       "</div>"
      ],
      "text/plain": [
       "                                               title score      id  \\\n",
       "0  Is adult life after college just sort of, gues...   344  bowpxj   \n",
       "1  “Most people overestimate what they can do in ...   287  9bkhce   \n",
       "2                 I want to work at an Oreo factory?   281  9n66cn   \n",
       "3  Update: got a job offer but failed drug test d...   264  9nj22q   \n",
       "4        What do people do to make over 200k a year?   227  b1wixu   \n",
       "\n",
       "                                                body            timestamp  \n",
       "0  I graduated college at 22, I'm 25 now, and not...  2019-05-15 14:24:22  \n",
       "1  When I hear people on this sub telling others:...  2018-08-30 18:14:12  \n",
       "2  Today I was eating Oreos and I realized that O...  2018-10-11 05:55:51  \n",
       "3  So some suggested I just go and tell the truth...  2018-10-12 13:20:16  \n",
       "4  So i’m in school now (in Finland) and my grade...  2019-03-16 22:53:06  "
      ]
     },
     "execution_count": 22,
     "metadata": {},
     "output_type": "execute_result"
    }
   ],
   "source": [
    "ques_reddit.head()"
   ]
  },
  {
   "cell_type": "code",
   "execution_count": 23,
   "metadata": {},
   "outputs": [],
   "source": [
    "# combine the body and the id columns from CareerVillage and Reddit\n",
    "combined_ques_body = q['questions_body'].append(ques_reddit['body'])\n",
    "combined_ques_id = q['questions_id'].append(ques_reddit['id'])\n",
    "\n",
    "# create the final combined dataframes\n",
    "combined_ques = pd.DataFrame({'questions_body': combined_ques_body, 'questions_id': combined_ques_id})\n",
    "combined_ans = a['answers_body'].append(ans_reddit['body'])"
   ]
  },
  {
   "cell_type": "code",
   "execution_count": 24,
   "metadata": {},
   "outputs": [
    {
     "name": "stdout",
     "output_type": "stream",
     "text": [
      "CareerVillage:  (23931, 5)\n",
      "Reddit:  (2410, 5)\n",
      "Total:  (26341, 2)\n"
     ]
    }
   ],
   "source": [
    "# check question dataset dimensions\n",
    "print('CareerVillage: ', q.shape)\n",
    "print('Reddit: ', ques_reddit.shape)\n",
    "print('Total: ', combined_ques.shape)"
   ]
  },
  {
   "cell_type": "code",
   "execution_count": 25,
   "metadata": {},
   "outputs": [
    {
     "data": {
      "text/html": [
       "<div>\n",
       "<style scoped>\n",
       "    .dataframe tbody tr th:only-of-type {\n",
       "        vertical-align: middle;\n",
       "    }\n",
       "\n",
       "    .dataframe tbody tr th {\n",
       "        vertical-align: top;\n",
       "    }\n",
       "\n",
       "    .dataframe thead th {\n",
       "        text-align: right;\n",
       "    }\n",
       "</style>\n",
       "<table border=\"1\" class=\"dataframe\">\n",
       "  <thead>\n",
       "    <tr style=\"text-align: right;\">\n",
       "      <th></th>\n",
       "      <th>questions_body</th>\n",
       "      <th>questions_id</th>\n",
       "    </tr>\n",
       "  </thead>\n",
       "  <tbody>\n",
       "    <tr>\n",
       "      <th>0</th>\n",
       "      <td>What  is  a  maths  teacher?   what  is  a  ma...</td>\n",
       "      <td>332a511f1569444485cf7a7a556a5e54</td>\n",
       "    </tr>\n",
       "    <tr>\n",
       "      <th>1</th>\n",
       "      <td>I am Priyanka from Bangalore . Now am in 10th ...</td>\n",
       "      <td>eb80205482e4424cad8f16bc25aa2d9c</td>\n",
       "    </tr>\n",
       "    <tr>\n",
       "      <th>2</th>\n",
       "      <td>I'm planning on going abroad for my first job....</td>\n",
       "      <td>4ec31632938a40b98909416bdd0decff</td>\n",
       "    </tr>\n",
       "    <tr>\n",
       "      <th>3</th>\n",
       "      <td>i hear business management is a hard way to ge...</td>\n",
       "      <td>2f6a9a99d9b24e5baa50d40d0ba50a75</td>\n",
       "    </tr>\n",
       "    <tr>\n",
       "      <th>4</th>\n",
       "      <td>I'm trying to find scholarships for first year...</td>\n",
       "      <td>5af8880460c141dbb02971a1a8369529</td>\n",
       "    </tr>\n",
       "  </tbody>\n",
       "</table>\n",
       "</div>"
      ],
      "text/plain": [
       "                                      questions_body  \\\n",
       "0  What  is  a  maths  teacher?   what  is  a  ma...   \n",
       "1  I am Priyanka from Bangalore . Now am in 10th ...   \n",
       "2  I'm planning on going abroad for my first job....   \n",
       "3  i hear business management is a hard way to ge...   \n",
       "4  I'm trying to find scholarships for first year...   \n",
       "\n",
       "                       questions_id  \n",
       "0  332a511f1569444485cf7a7a556a5e54  \n",
       "1  eb80205482e4424cad8f16bc25aa2d9c  \n",
       "2  4ec31632938a40b98909416bdd0decff  \n",
       "3  2f6a9a99d9b24e5baa50d40d0ba50a75  \n",
       "4  5af8880460c141dbb02971a1a8369529  "
      ]
     },
     "execution_count": 25,
     "metadata": {},
     "output_type": "execute_result"
    }
   ],
   "source": [
    "# get sample of questions dataset\n",
    "combined_ques.head()"
   ]
  },
  {
   "cell_type": "code",
   "execution_count": 26,
   "metadata": {},
   "outputs": [
    {
     "name": "stdout",
     "output_type": "stream",
     "text": [
      "CareerVillage:  (51123, 5)\n",
      "Reddit:  (2410, 5)\n",
      "Total:  (53533,)\n"
     ]
    }
   ],
   "source": [
    "# check answer dataset dimensions\n",
    "print('CareerVillage: ', a.shape)\n",
    "print('Reddit: ', ans_reddit.shape)\n",
    "print('Total: ', combined_ans.shape)"
   ]
  },
  {
   "cell_type": "code",
   "execution_count": 27,
   "metadata": {},
   "outputs": [
    {
     "data": {
      "text/plain": [
       "0    <p>Hi!</p>\\n<p>You are asking a very interesti...\n",
       "1    <p>Hi. I joined the Army after I attended coll...\n",
       "2    <p>Dear Priyanka,</p><p>Greetings! I have answ...\n",
       "3    <p>I work for a global company who values high...\n",
       "4    I agree with Denise. Every single job I've had...\n",
       "dtype: object"
      ]
     },
     "execution_count": 27,
     "metadata": {},
     "output_type": "execute_result"
    }
   ],
   "source": [
    "# get sample of answers dataset\n",
    "combined_ans.head()"
   ]
  },
  {
   "cell_type": "markdown",
   "metadata": {},
   "source": [
    "## Clean the combined question and answer datasets"
   ]
  },
  {
   "cell_type": "code",
   "execution_count": 54,
   "metadata": {},
   "outputs": [],
   "source": [
    "# extract just the question bodies and remove nulls\n",
    "questions = combined_ques['questions_body'].dropna()\n",
    "# set up an empty list to populate the parsed data\n",
    "questions_text = []\n",
    "ques_clean = []\n",
    "# for each line in answers, remove HTML encoding\n",
    "for q in questions:\n",
    "    soup = BeautifulSoup(q, 'html.parser')\n",
    "    # find all the paragraph portions of the answer\n",
    "    # extract the text\n",
    "    if soup.find_all(['p','n']):\n",
    "        for section in soup.find_all('p'):\n",
    "        # combine each section's text into \"clean\" list\n",
    "            ques_clean.append(section.get_text())\n",
    "    else:\n",
    "        ques_clean.append(q.replace('\\r',' ').replace('\\n',' '))\n",
    "    # concatenate all the sections and add to answers_preprocessed\n",
    "    questions_text.append(' '.join(map(str,ques_clean)))\n",
    "    # reset ans_clean for next row\n",
    "    ques_clean = []"
   ]
  },
  {
   "cell_type": "code",
   "execution_count": 65,
   "metadata": {},
   "outputs": [
    {
     "name": "stderr",
     "output_type": "stream",
     "text": [
      "/Users/lucyxie/anaconda3/lib/python3.7/site-packages/ipykernel_launcher.py:3: SettingWithCopyWarning: \n",
      "A value is trying to be set on a copy of a slice from a DataFrame.\n",
      "Try using .loc[row_indexer,col_indexer] = value instead\n",
      "\n",
      "See the caveats in the documentation: http://pandas.pydata.org/pandas-docs/stable/indexing.html#indexing-view-versus-copy\n",
      "  This is separate from the ipykernel package so we can avoid doing imports until\n"
     ]
    },
    {
     "data": {
      "text/html": [
       "<div>\n",
       "<style scoped>\n",
       "    .dataframe tbody tr th:only-of-type {\n",
       "        vertical-align: middle;\n",
       "    }\n",
       "\n",
       "    .dataframe tbody tr th {\n",
       "        vertical-align: top;\n",
       "    }\n",
       "\n",
       "    .dataframe thead th {\n",
       "        text-align: right;\n",
       "    }\n",
       "</style>\n",
       "<table border=\"1\" class=\"dataframe\">\n",
       "  <thead>\n",
       "    <tr style=\"text-align: right;\">\n",
       "      <th></th>\n",
       "      <th>questions_body</th>\n",
       "      <th>questions_id</th>\n",
       "      <th>questions_body_clean</th>\n",
       "    </tr>\n",
       "  </thead>\n",
       "  <tbody>\n",
       "    <tr>\n",
       "      <th>0</th>\n",
       "      <td>What  is  a  maths  teacher?   what  is  a  ma...</td>\n",
       "      <td>332a511f1569444485cf7a7a556a5e54</td>\n",
       "      <td>What  is  a  maths  teacher?   what  is  a  ma...</td>\n",
       "    </tr>\n",
       "    <tr>\n",
       "      <th>1</th>\n",
       "      <td>I am Priyanka from Bangalore . Now am in 10th ...</td>\n",
       "      <td>eb80205482e4424cad8f16bc25aa2d9c</td>\n",
       "      <td>I am Priyanka from Bangalore . Now am in 10th ...</td>\n",
       "    </tr>\n",
       "    <tr>\n",
       "      <th>2</th>\n",
       "      <td>I'm planning on going abroad for my first job....</td>\n",
       "      <td>4ec31632938a40b98909416bdd0decff</td>\n",
       "      <td>I'm planning on going abroad for my first job....</td>\n",
       "    </tr>\n",
       "    <tr>\n",
       "      <th>3</th>\n",
       "      <td>i hear business management is a hard way to ge...</td>\n",
       "      <td>2f6a9a99d9b24e5baa50d40d0ba50a75</td>\n",
       "      <td>i hear business management is a hard way to ge...</td>\n",
       "    </tr>\n",
       "    <tr>\n",
       "      <th>4</th>\n",
       "      <td>I'm trying to find scholarships for first year...</td>\n",
       "      <td>5af8880460c141dbb02971a1a8369529</td>\n",
       "      <td>I'm trying to find scholarships for first year...</td>\n",
       "    </tr>\n",
       "  </tbody>\n",
       "</table>\n",
       "</div>"
      ],
      "text/plain": [
       "                                      questions_body  \\\n",
       "0  What  is  a  maths  teacher?   what  is  a  ma...   \n",
       "1  I am Priyanka from Bangalore . Now am in 10th ...   \n",
       "2  I'm planning on going abroad for my first job....   \n",
       "3  i hear business management is a hard way to ge...   \n",
       "4  I'm trying to find scholarships for first year...   \n",
       "\n",
       "                       questions_id  \\\n",
       "0  332a511f1569444485cf7a7a556a5e54   \n",
       "1  eb80205482e4424cad8f16bc25aa2d9c   \n",
       "2  4ec31632938a40b98909416bdd0decff   \n",
       "3  2f6a9a99d9b24e5baa50d40d0ba50a75   \n",
       "4  5af8880460c141dbb02971a1a8369529   \n",
       "\n",
       "                                questions_body_clean  \n",
       "0  What  is  a  maths  teacher?   what  is  a  ma...  \n",
       "1  I am Priyanka from Bangalore . Now am in 10th ...  \n",
       "2  I'm planning on going abroad for my first job....  \n",
       "3  i hear business management is a hard way to ge...  \n",
       "4  I'm trying to find scholarships for first year...  "
      ]
     },
     "execution_count": 65,
     "metadata": {},
     "output_type": "execute_result"
    }
   ],
   "source": [
    "# add the cleaned questions column to the original dataframe\n",
    "combined_ques_clean = combined_ques[combined_ques.questions_body.notnull()]\n",
    "combined_ques_clean['questions_body_clean'] = questions_text\n",
    "combined_ques_clean.head()\n"
   ]
  },
  {
   "cell_type": "code",
   "execution_count": 68,
   "metadata": {},
   "outputs": [],
   "source": [
    "# only select the clean and id columns for the final dataset\n",
    "questions_clean = combined_ques_clean['questions_id'] + combined_ques_clean['questions_body_clean']"
   ]
  },
  {
   "cell_type": "code",
   "execution_count": 47,
   "metadata": {},
   "outputs": [],
   "source": [
    "# extract just the answer bodies and remove nulls\n",
    "answers = combined_ans.dropna()\n",
    "# set up an empty list to populate the parsed data\n",
    "answers_text = []\n",
    "ans_clean = []\n",
    "# for each line in answers, remove HTML encoding\n",
    "for ans in answers:\n",
    "    soup = BeautifulSoup(ans, 'html.parser')\n",
    "    # find all the paragraph portions of the answer\n",
    "    # extract the text\n",
    "    if soup.find_all('p'):\n",
    "        for section in soup.find_all('p'):\n",
    "        # combine each section's text into \"clean\" list\n",
    "            ans_clean.append(section.get_text())\n",
    "    else:\n",
    "        ans_clean.append(ans)\n",
    "    # concatenate all the sections and add to answers_preprocessed\n",
    "    answers_text.append(' '.join(map(str,ans_clean)))\n",
    "    # reset ans_clean for next row\n",
    "    ans_clean = []"
   ]
  },
  {
   "cell_type": "code",
   "execution_count": 49,
   "metadata": {},
   "outputs": [],
   "source": [
    "answers_clean = pd.DataFrame(answers_text, columns=['answer_body']).dropna()"
   ]
  },
  {
   "cell_type": "code",
   "execution_count": 50,
   "metadata": {},
   "outputs": [
    {
     "data": {
      "text/html": [
       "<div>\n",
       "<style scoped>\n",
       "    .dataframe tbody tr th:only-of-type {\n",
       "        vertical-align: middle;\n",
       "    }\n",
       "\n",
       "    .dataframe tbody tr th {\n",
       "        vertical-align: top;\n",
       "    }\n",
       "\n",
       "    .dataframe thead th {\n",
       "        text-align: right;\n",
       "    }\n",
       "</style>\n",
       "<table border=\"1\" class=\"dataframe\">\n",
       "  <thead>\n",
       "    <tr style=\"text-align: right;\">\n",
       "      <th></th>\n",
       "      <th>answer_body</th>\n",
       "    </tr>\n",
       "  </thead>\n",
       "  <tbody>\n",
       "    <tr>\n",
       "      <th>0</th>\n",
       "      <td>Hi! You are asking a very interesting question...</td>\n",
       "    </tr>\n",
       "    <tr>\n",
       "      <th>1</th>\n",
       "      <td>Hi. I joined the Army after I attended college...</td>\n",
       "    </tr>\n",
       "    <tr>\n",
       "      <th>2</th>\n",
       "      <td>Dear Priyanka, Greetings! I have answered this...</td>\n",
       "    </tr>\n",
       "    <tr>\n",
       "      <th>3</th>\n",
       "      <td>I work for a global company who values highly ...</td>\n",
       "    </tr>\n",
       "    <tr>\n",
       "      <th>4</th>\n",
       "      <td>I agree with Denise. Every single job I've had...</td>\n",
       "    </tr>\n",
       "  </tbody>\n",
       "</table>\n",
       "</div>"
      ],
      "text/plain": [
       "                                         answer_body\n",
       "0  Hi! You are asking a very interesting question...\n",
       "1  Hi. I joined the Army after I attended college...\n",
       "2  Dear Priyanka, Greetings! I have answered this...\n",
       "3  I work for a global company who values highly ...\n",
       "4  I agree with Denise. Every single job I've had..."
      ]
     },
     "execution_count": 50,
     "metadata": {},
     "output_type": "execute_result"
    }
   ],
   "source": [
    "answers_clean.head()"
   ]
  },
  {
   "cell_type": "code",
   "execution_count": 69,
   "metadata": {},
   "outputs": [
    {
     "name": "stderr",
     "output_type": "stream",
     "text": [
      "/Users/lucyxie/anaconda3/lib/python3.7/site-packages/ipykernel_launcher.py:2: FutureWarning: The signature of `Series.to_csv` was aligned to that of `DataFrame.to_csv`, and argument 'header' will change its default value from False to True: please pass an explicit value to suppress this warning.\n",
      "  \n"
     ]
    }
   ],
   "source": [
    "# write both to csv\n",
    "questions_clean.to_csv('../../data-science-for-good-careervillage/data/questions_final.csv', index=False) \n",
    "answers_clean.to_csv('../../data-science-for-good-careervillage/data/answers_final.csv', index=False) "
   ]
  }
 ],
 "metadata": {
  "kernelspec": {
   "display_name": "Python 3",
   "language": "python",
   "name": "python3"
  },
  "language_info": {
   "codemirror_mode": {
    "name": "ipython",
    "version": 3
   },
   "file_extension": ".py",
   "mimetype": "text/x-python",
   "name": "python",
   "nbconvert_exporter": "python",
   "pygments_lexer": "ipython3",
   "version": "3.7.3"
  }
 },
 "nbformat": 4,
 "nbformat_minor": 2
}
