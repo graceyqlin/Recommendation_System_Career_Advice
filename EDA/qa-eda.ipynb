{
 "cells": [
  {
   "cell_type": "code",
   "execution_count": 27,
   "metadata": {},
   "outputs": [],
   "source": [
    "import re\n",
    "import pandas as pd\n",
    "import numpy as np\n",
    "from matplotlib import pyplot as plt\n",
    "from sklearn.feature_extraction.text import *\n",
    "%matplotlib inline"
   ]
  },
  {
   "cell_type": "code",
   "execution_count": 28,
   "metadata": {},
   "outputs": [
    {
     "data": {
      "text/html": [
       "<div>\n",
       "<style scoped>\n",
       "    .dataframe tbody tr th:only-of-type {\n",
       "        vertical-align: middle;\n",
       "    }\n",
       "\n",
       "    .dataframe tbody tr th {\n",
       "        vertical-align: top;\n",
       "    }\n",
       "\n",
       "    .dataframe thead th {\n",
       "        text-align: right;\n",
       "    }\n",
       "</style>\n",
       "<table border=\"1\" class=\"dataframe\">\n",
       "  <thead>\n",
       "    <tr style=\"text-align: right;\">\n",
       "      <th></th>\n",
       "      <th>questions_id</th>\n",
       "      <th>questions_author_id</th>\n",
       "      <th>questions_date_added</th>\n",
       "      <th>questions_title</th>\n",
       "      <th>questions_body</th>\n",
       "    </tr>\n",
       "  </thead>\n",
       "  <tbody>\n",
       "    <tr>\n",
       "      <th>0</th>\n",
       "      <td>332a511f1569444485cf7a7a556a5e54</td>\n",
       "      <td>8f6f374ffd834d258ab69d376dd998f5</td>\n",
       "      <td>2016-04-26 11:14:26 UTC+0000</td>\n",
       "      <td>Teacher   career   question</td>\n",
       "      <td>What  is  a  maths  teacher?   what  is  a  ma...</td>\n",
       "    </tr>\n",
       "    <tr>\n",
       "      <th>1</th>\n",
       "      <td>eb80205482e4424cad8f16bc25aa2d9c</td>\n",
       "      <td>acccbda28edd4362ab03fb8b6fd2d67b</td>\n",
       "      <td>2016-05-20 16:48:25 UTC+0000</td>\n",
       "      <td>I want to become an army officer. What can I d...</td>\n",
       "      <td>I am Priyanka from Bangalore . Now am in 10th ...</td>\n",
       "    </tr>\n",
       "    <tr>\n",
       "      <th>2</th>\n",
       "      <td>4ec31632938a40b98909416bdd0decff</td>\n",
       "      <td>f2c179a563024ccc927399ce529094b5</td>\n",
       "      <td>2017-02-08 19:13:38 UTC+0000</td>\n",
       "      <td>Will going abroad for your first job increase ...</td>\n",
       "      <td>I'm planning on going abroad for my first job....</td>\n",
       "    </tr>\n",
       "    <tr>\n",
       "      <th>3</th>\n",
       "      <td>2f6a9a99d9b24e5baa50d40d0ba50a75</td>\n",
       "      <td>2c30ffba444e40eabb4583b55233a5a4</td>\n",
       "      <td>2017-09-01 14:05:32 UTC+0000</td>\n",
       "      <td>To become a specialist in business  management...</td>\n",
       "      <td>i hear business management is a hard way to ge...</td>\n",
       "    </tr>\n",
       "    <tr>\n",
       "      <th>4</th>\n",
       "      <td>5af8880460c141dbb02971a1a8369529</td>\n",
       "      <td>aa9eb1a2ab184ebbb00dc01ab663428a</td>\n",
       "      <td>2017-09-01 02:36:54 UTC+0000</td>\n",
       "      <td>Are there any scholarships out there for stude...</td>\n",
       "      <td>I'm trying to find scholarships for first year...</td>\n",
       "    </tr>\n",
       "  </tbody>\n",
       "</table>\n",
       "</div>"
      ],
      "text/plain": [
       "                       questions_id               questions_author_id  \\\n",
       "0  332a511f1569444485cf7a7a556a5e54  8f6f374ffd834d258ab69d376dd998f5   \n",
       "1  eb80205482e4424cad8f16bc25aa2d9c  acccbda28edd4362ab03fb8b6fd2d67b   \n",
       "2  4ec31632938a40b98909416bdd0decff  f2c179a563024ccc927399ce529094b5   \n",
       "3  2f6a9a99d9b24e5baa50d40d0ba50a75  2c30ffba444e40eabb4583b55233a5a4   \n",
       "4  5af8880460c141dbb02971a1a8369529  aa9eb1a2ab184ebbb00dc01ab663428a   \n",
       "\n",
       "           questions_date_added  \\\n",
       "0  2016-04-26 11:14:26 UTC+0000   \n",
       "1  2016-05-20 16:48:25 UTC+0000   \n",
       "2  2017-02-08 19:13:38 UTC+0000   \n",
       "3  2017-09-01 14:05:32 UTC+0000   \n",
       "4  2017-09-01 02:36:54 UTC+0000   \n",
       "\n",
       "                                     questions_title  \\\n",
       "0                        Teacher   career   question   \n",
       "1  I want to become an army officer. What can I d...   \n",
       "2  Will going abroad for your first job increase ...   \n",
       "3  To become a specialist in business  management...   \n",
       "4  Are there any scholarships out there for stude...   \n",
       "\n",
       "                                      questions_body  \n",
       "0  What  is  a  maths  teacher?   what  is  a  ma...  \n",
       "1  I am Priyanka from Bangalore . Now am in 10th ...  \n",
       "2  I'm planning on going abroad for my first job....  \n",
       "3  i hear business management is a hard way to ge...  \n",
       "4  I'm trying to find scholarships for first year...  "
      ]
     },
     "execution_count": 28,
     "metadata": {},
     "output_type": "execute_result"
    }
   ],
   "source": [
    "# Import questions.csv\n",
    "\n",
    "q = pd.read_csv('data/questions.csv')\n",
    "q.head()"
   ]
  },
  {
   "cell_type": "code",
   "execution_count": 29,
   "metadata": {},
   "outputs": [
    {
     "name": "stdout",
     "output_type": "stream",
     "text": [
      "Teacher   career   question \n",
      " What  is  a  maths  teacher?   what  is  a  maths  teacher  useful? #college #professor #lecture \n",
      "\n",
      "\n",
      "I want to become an army officer. What can I do to become an army officer? \n",
      " I am Priyanka from Bangalore . Now am in 10th std . When I go to college I should not get confused on what I want to take to become army officer. So I am asking this question  #military #army \n",
      "\n",
      "\n",
      "Will going abroad for your first job increase your chances for jobs back home? \n",
      " I'm planning on going abroad for my first job. It will be a teaching job and I don't have any serious career ideas. I don't know what job I would be working if I stay home instead so I'm assuming staying or leaving won't makeba huge difference in what I care about, unless I find something before my first job. I can think of ways that going abroad can be seen as good and bad. I do not know which side respectable employers willl side with. #working-abroad #employment- #overseas \n",
      "\n",
      "\n",
      "To become a specialist in business  management, will I have to network myself? \n",
      " i hear business management is a hard way to get a job if you're not known in the right areas. #business #networking  \n",
      "\n",
      "\n",
      "Are there any scholarships out there for students that are first generation and live in GA? \n",
      " I'm trying to find scholarships for first year students but they all seem to be for other states besides GA. Any help??\r\n",
      "\r\n",
      "#college\r\n",
      "#scholarships \r\n",
      "#highschoolsenior \r\n",
      "#firstgeneration \r\n",
      " \n",
      "\n",
      "\n",
      "How many years of coege do you need to be an engineer \n",
      " To be an engineer #united-states \n",
      "\n",
      "\n",
      "I want to become a doctor because of my great interest in science and helping people, but can I major in something that isn't science oriented? \n",
      " I am a musician and want to pursue that in college as well, but I don't want my love of science to supersede that. \r\n",
      "#medicine #music  \n",
      "\n",
      "\n",
      "what kind of  college could i go  to for a soccer player \n",
      " I like soccer because i been playing sense i was 6 years old. soccer is my best sport  i played  for 1/7 years.every year.   #college #soccer #building \n",
      "\n",
      "\n",
      "What are the college classes like for and graphics design major? \n",
      " I'm asking because I was thinking about choosing that career as an major for when I go to  college. I though why not ask someone who has went to college and graduated with and  degree in that subject. #graphic-design  #graphics \n",
      "\n",
      "\n",
      "what does it take to be an anesthesiologist? \n",
      " I am a sophomore who is interested in learning more about anesthesiologist. What steps do they have to take in order to become a anesthesiologist? Is it fun or hard?  #doctor #healthcare #experience #anesthesiologist \n",
      "\n",
      "\n"
     ]
    }
   ],
   "source": [
    "for i in range(10):\n",
    "    print(q.questions_title.iloc[i], '\\n', q.questions_body.iloc[i], '\\n\\n')"
   ]
  },
  {
   "cell_type": "code",
   "execution_count": 30,
   "metadata": {},
   "outputs": [],
   "source": [
    "def fit_transform_output(cv, strs, label):\n",
    "    X = cv.fit_transform(strs)\n",
    "    k = X.shape[1]\n",
    "    n = X.shape[0]\n",
    "    print(\"\\n\\nUsing {}:\\n\".format(label))\n",
    "    print('Vocabulary size:', k)\n",
    "    print('Average non-zero features per example: {:0.1f}'.format((X.nnz)/n))\n",
    "    print('Fraction of non-zero entries in matrix: {:0.2%}'.format(X.nnz/(k*n)))\n",
    "    feat_names = cv.get_feature_names()\n",
    "    counts = np.asarray(np.sum(X, axis = 0)).reshape(-1)\n",
    "    print(\"Most common features:\", \n",
    "          [x[0] for x in sorted(zip(feat_names, counts), key = lambda x: x[1], reverse = True)][:10])\n",
    "    \n",
    "    return X, feat_names"
   ]
  },
  {
   "cell_type": "code",
   "execution_count": 31,
   "metadata": {},
   "outputs": [],
   "source": [
    "def pre_hashtags_only(s):\n",
    "    out = []\n",
    "    for w in s.strip().split(' '):\n",
    "        if len(w) > 0:\n",
    "            if w[0] == '#':\n",
    "                out.append(w)\n",
    "    return ' '.join(out)"
   ]
  },
  {
   "cell_type": "code",
   "execution_count": 32,
   "metadata": {},
   "outputs": [
    {
     "name": "stdout",
     "output_type": "stream",
     "text": [
      "\n",
      "\n",
      "Using 2 and 3-gram vocabulary:\n",
      "\n",
      "Vocabulary size: 539429\n",
      "Average non-zero features per example: 33.4\n",
      "Fraction of non-zero entries in matrix: 0.01%\n",
      "Most common features: ['high school', 'want know', 'like know', 'college major', 'don know', 'computer science', 'college college', 'career path', 'medical school', 'career counseling']\n"
     ]
    }
   ],
   "source": [
    "cv = CountVectorizer(ngram_range = (2,3), stop_words = 'english')\n",
    "X, f = fit_transform_output(cv, q.questions_body, '2 and 3-gram vocabulary')"
   ]
  },
  {
   "cell_type": "code",
   "execution_count": 33,
   "metadata": {
    "scrolled": true
   },
   "outputs": [
    {
     "name": "stdout",
     "output_type": "stream",
     "text": [
      "\n",
      "\n",
      "Using Hashtags only:\n",
      "\n",
      "Vocabulary size: 5530\n",
      "Average non-zero features per example: 3.7\n",
      "Fraction of non-zero entries in matrix: 0.07%\n",
      "Most common features: ['college', 'career', 'engineering', 'medicine', 'science', 'computer', 'school', 'business', 'major', 'education']\n"
     ]
    }
   ],
   "source": [
    "cv2 = CountVectorizer(preprocessor = pre_hashtags_only)\n",
    "X2, f2 = fit_transform_output(cv2, q.questions_body, 'Hashtags only')"
   ]
  },
  {
   "cell_type": "code",
   "execution_count": 34,
   "metadata": {},
   "outputs": [
    {
     "data": {
      "text/html": [
       "<div>\n",
       "<style scoped>\n",
       "    .dataframe tbody tr th:only-of-type {\n",
       "        vertical-align: middle;\n",
       "    }\n",
       "\n",
       "    .dataframe tbody tr th {\n",
       "        vertical-align: top;\n",
       "    }\n",
       "\n",
       "    .dataframe thead th {\n",
       "        text-align: right;\n",
       "    }\n",
       "</style>\n",
       "<table border=\"1\" class=\"dataframe\">\n",
       "  <thead>\n",
       "    <tr style=\"text-align: right;\">\n",
       "      <th></th>\n",
       "      <th>id</th>\n",
       "      <th>score</th>\n",
       "    </tr>\n",
       "  </thead>\n",
       "  <tbody>\n",
       "    <tr>\n",
       "      <th>0</th>\n",
       "      <td>38436aadef3d4b608ad089cf53ab0fe7</td>\n",
       "      <td>5</td>\n",
       "    </tr>\n",
       "    <tr>\n",
       "      <th>1</th>\n",
       "      <td>edb8c179c5d64c9cb812a59a32045f55</td>\n",
       "      <td>4</td>\n",
       "    </tr>\n",
       "    <tr>\n",
       "      <th>2</th>\n",
       "      <td>333464d7484b43e3866e86096bc4ddb9</td>\n",
       "      <td>6</td>\n",
       "    </tr>\n",
       "    <tr>\n",
       "      <th>3</th>\n",
       "      <td>4b995e60b99d4ee18346e893e007cb8f</td>\n",
       "      <td>6</td>\n",
       "    </tr>\n",
       "    <tr>\n",
       "      <th>4</th>\n",
       "      <td>f6b9ca94aed04ba28256492708e74f60</td>\n",
       "      <td>6</td>\n",
       "    </tr>\n",
       "  </tbody>\n",
       "</table>\n",
       "</div>"
      ],
      "text/plain": [
       "                                 id  score\n",
       "0  38436aadef3d4b608ad089cf53ab0fe7      5\n",
       "1  edb8c179c5d64c9cb812a59a32045f55      4\n",
       "2  333464d7484b43e3866e86096bc4ddb9      6\n",
       "3  4b995e60b99d4ee18346e893e007cb8f      6\n",
       "4  f6b9ca94aed04ba28256492708e74f60      6"
      ]
     },
     "execution_count": 34,
     "metadata": {},
     "output_type": "execute_result"
    }
   ],
   "source": [
    "# Import questions_scores.csv\n",
    "\n",
    "qs = pd.read_csv('data/question_scores.csv')\n",
    "qs.head()"
   ]
  },
  {
   "cell_type": "code",
   "execution_count": 35,
   "metadata": {},
   "outputs": [],
   "source": [
    "qs['score_clean'] = qs.score.apply(lambda x: x if x <= 15 else 16)"
   ]
  },
  {
   "cell_type": "code",
   "execution_count": 36,
   "metadata": {},
   "outputs": [
    {
     "data": {
      "image/png": "[encoded data removed]",
      "text/plain": [
       "<matplotlib.figure.Figure at 0x1a28a17438>"
      ]
     },
     "metadata": {},
     "output_type": "display_data"
    }
   ],
   "source": [
    "fig, ax = plt.subplots(figsize = (10,10))\n",
    "\n",
    "qs.score_clean.value_counts().sort_index().plot.bar(ax = ax)\n",
    "\n",
    "plt.show()"
   ]
  },
  {
   "cell_type": "code",
   "execution_count": 37,
   "metadata": {},
   "outputs": [
    {
     "data": {
      "text/html": [
       "<div>\n",
       "<style scoped>\n",
       "    .dataframe tbody tr th:only-of-type {\n",
       "        vertical-align: middle;\n",
       "    }\n",
       "\n",
       "    .dataframe tbody tr th {\n",
       "        vertical-align: top;\n",
       "    }\n",
       "\n",
       "    .dataframe thead th {\n",
       "        text-align: right;\n",
       "    }\n",
       "</style>\n",
       "<table border=\"1\" class=\"dataframe\">\n",
       "  <thead>\n",
       "    <tr style=\"text-align: right;\">\n",
       "      <th></th>\n",
       "      <th>answers_id</th>\n",
       "      <th>answers_author_id</th>\n",
       "      <th>answers_question_id</th>\n",
       "      <th>answers_date_added</th>\n",
       "      <th>answers_body</th>\n",
       "    </tr>\n",
       "  </thead>\n",
       "  <tbody>\n",
       "    <tr>\n",
       "      <th>0</th>\n",
       "      <td>4e5f01128cae4f6d8fd697cec5dca60c</td>\n",
       "      <td>36ff3b3666df400f956f8335cf53e09e</td>\n",
       "      <td>332a511f1569444485cf7a7a556a5e54</td>\n",
       "      <td>2016-04-29 19:40:14 UTC+0000</td>\n",
       "      <td>&lt;p&gt;Hi!&lt;/p&gt;\\n&lt;p&gt;You are asking a very interesti...</td>\n",
       "    </tr>\n",
       "    <tr>\n",
       "      <th>1</th>\n",
       "      <td>ada720538c014e9b8a6dceed09385ee3</td>\n",
       "      <td>2aa47af241bf42a4b874c453f0381bd4</td>\n",
       "      <td>eb80205482e4424cad8f16bc25aa2d9c</td>\n",
       "      <td>2018-05-01 14:19:08 UTC+0000</td>\n",
       "      <td>&lt;p&gt;Hi. I joined the Army after I attended coll...</td>\n",
       "    </tr>\n",
       "    <tr>\n",
       "      <th>2</th>\n",
       "      <td>eaa66ef919bc408ab5296237440e323f</td>\n",
       "      <td>cbd8f30613a849bf918aed5c010340be</td>\n",
       "      <td>eb80205482e4424cad8f16bc25aa2d9c</td>\n",
       "      <td>2018-05-02 02:41:02 UTC+0000</td>\n",
       "      <td>&lt;p&gt;Dear Priyanka,&lt;/p&gt;&lt;p&gt;Greetings! I have answ...</td>\n",
       "    </tr>\n",
       "    <tr>\n",
       "      <th>3</th>\n",
       "      <td>1a6b3749d391486c9e371fbd1e605014</td>\n",
       "      <td>7e72a630c303442ba92ff00e8ea451df</td>\n",
       "      <td>4ec31632938a40b98909416bdd0decff</td>\n",
       "      <td>2017-05-10 19:00:47 UTC+0000</td>\n",
       "      <td>&lt;p&gt;I work for a global company who values high...</td>\n",
       "    </tr>\n",
       "    <tr>\n",
       "      <th>4</th>\n",
       "      <td>5229c514000446d582050f89ebd4e184</td>\n",
       "      <td>17802d94699140b0a0d2995f30c034c6</td>\n",
       "      <td>2f6a9a99d9b24e5baa50d40d0ba50a75</td>\n",
       "      <td>2017-10-13 22:07:33 UTC+0000</td>\n",
       "      <td>I agree with Denise. Every single job I've had...</td>\n",
       "    </tr>\n",
       "  </tbody>\n",
       "</table>\n",
       "</div>"
      ],
      "text/plain": [
       "                         answers_id                 answers_author_id  \\\n",
       "0  4e5f01128cae4f6d8fd697cec5dca60c  36ff3b3666df400f956f8335cf53e09e   \n",
       "1  ada720538c014e9b8a6dceed09385ee3  2aa47af241bf42a4b874c453f0381bd4   \n",
       "2  eaa66ef919bc408ab5296237440e323f  cbd8f30613a849bf918aed5c010340be   \n",
       "3  1a6b3749d391486c9e371fbd1e605014  7e72a630c303442ba92ff00e8ea451df   \n",
       "4  5229c514000446d582050f89ebd4e184  17802d94699140b0a0d2995f30c034c6   \n",
       "\n",
       "                answers_question_id            answers_date_added  \\\n",
       "0  332a511f1569444485cf7a7a556a5e54  2016-04-29 19:40:14 UTC+0000   \n",
       "1  eb80205482e4424cad8f16bc25aa2d9c  2018-05-01 14:19:08 UTC+0000   \n",
       "2  eb80205482e4424cad8f16bc25aa2d9c  2018-05-02 02:41:02 UTC+0000   \n",
       "3  4ec31632938a40b98909416bdd0decff  2017-05-10 19:00:47 UTC+0000   \n",
       "4  2f6a9a99d9b24e5baa50d40d0ba50a75  2017-10-13 22:07:33 UTC+0000   \n",
       "\n",
       "                                        answers_body  \n",
       "0  <p>Hi!</p>\\n<p>You are asking a very interesti...  \n",
       "1  <p>Hi. I joined the Army after I attended coll...  \n",
       "2  <p>Dear Priyanka,</p><p>Greetings! I have answ...  \n",
       "3  <p>I work for a global company who values high...  \n",
       "4  I agree with Denise. Every single job I've had...  "
      ]
     },
     "execution_count": 37,
     "metadata": {},
     "output_type": "execute_result"
    }
   ],
   "source": [
    "# Import answers.csv\n",
    "\n",
    "a = pd.read_csv('data/answers.csv')\n",
    "a.head()"
   ]
  },
  {
   "cell_type": "code",
   "execution_count": 38,
   "metadata": {},
   "outputs": [
    {
     "name": "stdout",
     "output_type": "stream",
     "text": [
      "<p>Hi!</p>\n",
      "<p>You are asking a very interesting question.  I am giving you two sites that will give you some of an explanation that may answer your question.</p>\n",
      "<p>http://mathforum.org/dr.math/faq/faq.why.math.html</p>\n",
      "<p>http://www.mathworksheetscenter.com/mathtips/mathissoimportant.html</p>\n",
      "<p>Let me know if this helps</p> \n",
      "\n",
      "\n",
      "<p>Hi. I joined the Army after I attended college and received a Bachelor's Degree in Criminal Justice.  Commissioned officers enter the Military with a four year degree or receive officer training after joining and complete a tour. You can prepare yourself by taking Reserve Officer Training Corps (ROTC) while in high school or a university. You can also attend Officer Candidate School (OCS) after graduating from college or become commissioned by earning a professional degree. If you decide to earn a degree, think about what you would like to do while in the military.  The experience in the military was very rewarding. I wish you well and much success in your future. </p> \n",
      "\n",
      "\n",
      "<p>Dear Priyanka,</p><p>Greetings! I have answered this question to Eshwari few days ago. I am going to reproduce that answer with bit of modifications as required for better clarity. </p><p><br></p><p>From your background, I could make out that you are from Bangalore and a student of 10th standard but your location is Rhode Island, USA. So I am not very clear as to which Army you wish to join ? Is it the US Army or the Indian Army? It is important to know that very few foreign nationals can join Indian Army (like Nepali citizens etc.). So you have to ascertain for yourself as to which citizenship you hold and accordingly you can join armed forces of the respective countries. Both are highly professional armies and respected a lot. I shall answer the modalities about the Indian Army, assuming that is the natural choice.</p><p><br></p><p>So, to answer your query, there are following options for you to become army officer:</p><ol><li> Do your B.Sc  and that will be good as you have wider choices including flying branches in air force and executive branches in Navy. Similarly BA/B.Com if you are not looking for flying or executive branches. </li><li>  Should you wish to be doctor in Army then you can appear for entrance Test for AFMC, Pune or Army Dental College after class 12th with PCMB. However, you can do the same by attending Medical colleges from civil institutes in India/abroad.  </li><li> You can also join Military Nursing Services after B.Sc or Diploma in Nursing but majority of them are trained within army organisations (after 12th only  with PCMB). </li><li> You can join after doing your graduation in Engineering (Civil, Mech, Electrical, Electronics or Computer Sciences) or Masters in Physics with Electronics or Computers for engineering branches.</li><li>You can also join in Education Corps by doing M.Sc/MA/M.Com with or without B.Ed or in Legal services by doing your Law Degree. </li></ol><p><br></p><p>After your basic education, application and selection test processes, one has to clear SSB (Services Selection Board) which is a very stringent 5 days test (compulsory for all including Women officers except medical professionals). It is one of the best methods of test I know to assess the suitability for military services (as officers), a proven method of testing of one's psyche, leadership qualities which takes  all the aspects of your personality into account and decide.  Although, success rate is pretty low but don't get disheartened and demotivated. Key to success in SSB is a sound mind with sound body, positive attitude and basic IQ.  If I could do with an average IQ and humble  educational backgrounds, why not you?  There were many friends (within my batch) of whom we thought that they will never make it to the SSB but they did qualify and now serving as  Major General. </p><p>Please refer the links given below and you can find scores of material to read about SSB on the net or through books.</p><p>All the Very Best! Jai Hind!</p>&lt;h1&gt;<br>&lt;/h1&gt;<p><br></p> \n",
      "\n",
      "\n",
      "<p>I work for a global company who values highly international experience.  In fact, that is a key experience we look for in candidates.  Therefore, I'd say it would be wise to take advantage of the teaching opportunity - even if only for a year or 2.  You never know where it might lead and you will certainly have an edge on your return if you then look for employment in a global company.</p> \n",
      "\n",
      "\n",
      "I agree with Denise. Every single job I've had since my first internship in college, I've found through connections. I have also been surprised that in some cases, connections that I least expected were crucial in helping me find new opportunities. For example, I am about to start a new role that in a lot of ways, is my dream job. A few months ago, I connected with someone that used to be on my team at a different company. We only worked on the same team for about 2 months, and 5 years later, ended up working at another tech company in Seattle. He ended up being the hiring manager for this new role, and after passing the other interviews, I got the job. \n",
      "\n",
      "I would say the most important thing when starting your career is to define what you want your brand to be, and what you want to be known for. This will help give you guidance on what activities and events to prioritize, books to read, etc. \n",
      "\n",
      "It's also essential to be mindful of the impression you leave with others. While networking is essential to building your career, it's important that it's also backed up by a reputation you feel proud about. \n",
      "\n",
      "As a student, I remember this feeling like an incredibly daunting task. It made it easier for me to find a group I could relate to. I joined ALPFA, an association for Latino Professionals that work across various business disciplines. I would recommend finding an organization that speaks to you, and begin practicing your networking skills there. \n",
      "\n",
      "\n",
      "Networking is a key component to progressing your career.  I've worked for several high tech organizations over many years and each job I was offered was because I knew someone who worked at the company who knew my skills and was able to advocate for me to get the job.  Without my professional and personal networks, it would have been much harder to get job offers and I may not have been as successful in my career.   \n",
      "\n",
      "Depending on the type of business/industry you would like to be in, you may have to start out as a team member or team contributor to grow your expertise in the business, possibly around a particular business function like operations, finance,  sales, etc.   As you become more knowledgeable and show your strengths in conducting your day to day work,  you will have a good chance to become a manager or leader of a team.   I do encourage you to take every networking opportunity that comes your way - join professional organizations, maybe your company or school offers networking activities you can join, and stay close to your social networks, you never know when a friend will help you find your next career move!  \n",
      "\n",
      "\n",
      "https://www.unigo.com/\n",
      "\n",
      "Check out this website! It allows you to search scholarships based on who you are and what you're interested in.  It even filters what state they're available in. \n",
      "\n",
      "\n",
      "<p>Hi Jocelyn ,</p><p><br></p><p>May I recommend Fastweb.com! It’s a Free search engine that personalizes  your searches.  I also used it. </p><p><br></p><p>Or actively search for local orginzations in your town for scholarships!</p> \n",
      "\n",
      "\n",
      "<p>For the typical schedule it takes four years to receive a bachelor's degree in engineering.  I took five years because I wanted to intern and gain experience along the way.</p> \n",
      "\n",
      "\n",
      "Of course! I know someone who doubled in classical languages and music performance. She's now an OB/GYN. I believe she needed to go back and complete some pre-med credits post-graduation, but it's certainly possible. \n",
      "\n",
      "\n"
     ]
    }
   ],
   "source": [
    "for i in range(10):\n",
    "    print(a.answers_body.iloc[i], '\\n\\n')"
   ]
  },
  {
   "cell_type": "code",
   "execution_count": 39,
   "metadata": {},
   "outputs": [],
   "source": [
    "def pre_remove_html(s):\n",
    "    s = re.sub('<.{1,2}>', '', s)\n",
    "    return s"
   ]
  },
  {
   "cell_type": "code",
   "execution_count": 40,
   "metadata": {},
   "outputs": [
    {
     "name": "stdout",
     "output_type": "stream",
     "text": [
      "\n",
      "\n",
      "Using 2 and 3-gram vocabulary:\n",
      "\n",
      "Vocabulary size: 4780593\n",
      "Average non-zero features per example: 143.8\n",
      "Fraction of non-zero entries in matrix: 0.00%\n",
      "Most common features: ['Good luck', 'high school', 'https www', 'http www', 'lt span', 'Best luck', 'make sure', 'For example', 'You need', 'lt span gt']\n"
     ]
    }
   ],
   "source": [
    "cv = CountVectorizer(ngram_range = (2,3), preprocessor = pre_remove_html, stop_words = 'english')\n",
    "X, f = fit_transform_output(cv, a.answers_body.values.astype(str), '2 and 3-gram vocabulary')"
   ]
  },
  {
   "cell_type": "code",
   "execution_count": 41,
   "metadata": {},
   "outputs": [
    {
     "data": {
      "text/html": [
       "<div>\n",
       "<style scoped>\n",
       "    .dataframe tbody tr th:only-of-type {\n",
       "        vertical-align: middle;\n",
       "    }\n",
       "\n",
       "    .dataframe tbody tr th {\n",
       "        vertical-align: top;\n",
       "    }\n",
       "\n",
       "    .dataframe thead th {\n",
       "        text-align: right;\n",
       "    }\n",
       "</style>\n",
       "<table border=\"1\" class=\"dataframe\">\n",
       "  <thead>\n",
       "    <tr style=\"text-align: right;\">\n",
       "      <th></th>\n",
       "      <th>id</th>\n",
       "      <th>score</th>\n",
       "    </tr>\n",
       "  </thead>\n",
       "  <tbody>\n",
       "    <tr>\n",
       "      <th>0</th>\n",
       "      <td>7b2bb0fc0d384e298cffa6afde9cf6ab</td>\n",
       "      <td>1</td>\n",
       "    </tr>\n",
       "    <tr>\n",
       "      <th>1</th>\n",
       "      <td>7640a6e5d5224c8681cc58de860858f4</td>\n",
       "      <td>5</td>\n",
       "    </tr>\n",
       "    <tr>\n",
       "      <th>2</th>\n",
       "      <td>3ce32e236fa9435183b2180fb213375c</td>\n",
       "      <td>2</td>\n",
       "    </tr>\n",
       "    <tr>\n",
       "      <th>3</th>\n",
       "      <td>fa30fe4c016043e382c441a7ef743bfb</td>\n",
       "      <td>0</td>\n",
       "    </tr>\n",
       "    <tr>\n",
       "      <th>4</th>\n",
       "      <td>71229eb293314c8a9e545057ecc32c93</td>\n",
       "      <td>2</td>\n",
       "    </tr>\n",
       "  </tbody>\n",
       "</table>\n",
       "</div>"
      ],
      "text/plain": [
       "                                 id  score\n",
       "0  7b2bb0fc0d384e298cffa6afde9cf6ab      1\n",
       "1  7640a6e5d5224c8681cc58de860858f4      5\n",
       "2  3ce32e236fa9435183b2180fb213375c      2\n",
       "3  fa30fe4c016043e382c441a7ef743bfb      0\n",
       "4  71229eb293314c8a9e545057ecc32c93      2"
      ]
     },
     "execution_count": 41,
     "metadata": {},
     "output_type": "execute_result"
    }
   ],
   "source": [
    "# Import questions_scores.csv\n",
    "\n",
    "a_s = pd.read_csv('data/answer_scores.csv')\n",
    "a_s.head()"
   ]
  },
  {
   "cell_type": "code",
   "execution_count": 44,
   "metadata": {},
   "outputs": [],
   "source": [
    "a_s['score_clean'] = a_s.score.apply(lambda x: x if x <= 8 else 9)"
   ]
  },
  {
   "cell_type": "code",
   "execution_count": 45,
   "metadata": {},
   "outputs": [
    {
     "data": {
      "image/png": "[encoded data removed]",
      "text/plain": [
       "<matplotlib.figure.Figure at 0x1a838f6e48>"
      ]
     },
     "metadata": {},
     "output_type": "display_data"
    }
   ],
   "source": [
    "fig, ax = plt.subplots(figsize = (10,10))\n",
    "\n",
    "a_s.score_clean.value_counts().sort_index().plot.bar(ax = ax)\n",
    "\n",
    "plt.show()"
   ]
  }
 ],
 "metadata": {
  "kernelspec": {
   "display_name": "Python 3",
   "language": "python",
   "name": "python3"
  },
  "language_info": {
   "codemirror_mode": {
    "name": "ipython",
    "version": 3
   },
   "file_extension": ".py",
   "mimetype": "text/x-python",
   "name": "python",
   "nbconvert_exporter": "python",
   "pygments_lexer": "ipython3",
   "version": "3.6.4"
  }
 },
 "nbformat": 4,
 "nbformat_minor": 2
}
